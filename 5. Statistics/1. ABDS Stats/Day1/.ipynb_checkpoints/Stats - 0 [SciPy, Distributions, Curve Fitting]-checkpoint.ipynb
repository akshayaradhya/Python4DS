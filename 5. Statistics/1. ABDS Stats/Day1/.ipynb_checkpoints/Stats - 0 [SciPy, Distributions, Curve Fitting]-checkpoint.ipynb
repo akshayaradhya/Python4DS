{
 "cells": [
  {
   "cell_type": "code",
   "execution_count": 1,
   "metadata": {
    "collapsed": false
   },
   "outputs": [
    {
     "name": "stdout",
     "output_type": "stream",
     "text": [
      "Populating the interactive namespace from numpy and matplotlib\n"
     ]
    }
   ],
   "source": [
    "# import libraries\n",
    "import pandas as pd\n",
    "import numpy as np\n",
    "from pandas import Series, DataFrame\n",
    "\n",
    "import seaborn as sns\n",
    "\n",
    "%pylab inline"
   ]
  },
  {
   "cell_type": "code",
   "execution_count": 2,
   "metadata": {
    "collapsed": true
   },
   "outputs": [],
   "source": [
    "from scipy import stats"
   ]
  },
  {
   "cell_type": "code",
   "execution_count": 6,
   "metadata": {
    "collapsed": false
   },
   "outputs": [
    {
     "data": {
      "image/png": "[encoded data removed]",
      "text/plain": [
       "<matplotlib.figure.Figure at 0x109765dd0>"
      ]
     },
     "metadata": {},
     "output_type": "display_data"
    }
   ],
   "source": [
    "Series(np.random.randn(100000)).plot.hist(bins=20);"
   ]
  },
  {
   "cell_type": "markdown",
   "metadata": {},
   "source": [
    "<img src=\"http://blog.cloudera.com/wp-content/uploads/2015/12/distribution.png\">\n",
    "\n",
    "\n",
    "---\n",
    "## $Statistics$ using `scipy.stats`\n",
    "\n",
    "This module contains a whole suite of functions that help the user to work on the most compelling topics in statistics such as probability distributions, summarization routines and hypothesis tests. \n",
    "\n",
    "### Import\n",
    "\n",
    "    from scipy import stats\n",
    "\n",
    "Run `info(stats)` to read an exhaustive list of this module's functionality.\n",
    "\n",
    "\n",
    "### Statistical Distributions in `scipy.stats`\n",
    "\n",
    "#### Continuous Random Variables\n",
    "\n",
    "All functions concerning probability distributions are contained in `scipy.stats.` Overall, there's an exhaustive list of \n",
    "\n",
    "- 81 supported continuous distribution families \n",
    "    - examples include Beta, Cauchy, Chi-squared, Gamma, Weibull, Exponential, Pareto, Logistic, Gaussian, Student's t\n",
    "- 12 discrete distribution families\n",
    "    - such as Bernoulli, Binomial, Poisson\n",
    "\n",
    "These distributions have methods that are also useful as random number generators. There's a simple pattern to access these: \n",
    "\n",
    "    scipy.stats.<distribution family>.<function>\n",
    "\n",
    "For each of these distributions available in `scipy.stats`, we have many crucial methods. Some of the most frequently used ones are listed below\n",
    "\n",
    "- Generate random variates `.rvs()`\n",
    "- Probability Density Function as `.pdf()`\n",
    "- Cumulative Distribution Function as `.cdf()` and Survival Function as `.sf()`\n",
    "- Summary metrics (Mean, Variance, Skewness, Kurtosis) as `.stats()`\n",
    "\n",
    "A simple example to get you started:\n",
    "\n",
    "Calculate the CDF of a beta-distribution with mean = 2 and standard deviation = 3 for a given value of 0.1\n",
    "\n",
    "    scipy.stats.beta.cdf(0.1, loc=2, scale=3)\n"
   ]
  },
  {
   "cell_type": "markdown",
   "metadata": {},
   "source": [
    "## Distribution Parameters - _Location, Scale & Shape_\n",
    "\n",
    "The parameters that a distribution takes can be inspected by running\n",
    "\n",
    "    <distribution>.numargs\n",
    "    <distribution>.shapes\n",
    "    \n",
    "Try:\n",
    "\n",
    "    gamma.numargs\n",
    "    gamma.shapes\n",
    "\n",
    "It is important to understand the concepts of **location** and **scale** for these continuous distributions. For a Normal (Gaussian) distribution the keyword parameter `loc=` defines the mean of the distribution,  and `scale=` defines the standard deviation. For other distributions these will correspond to appropriate parameters of the distribution, which may be inspected by using the `help()` function. We can **normalize** any distribution by applying transformations `(X-location)/scale`.\n",
    "\n",
    "Try:\n",
    "\n",
    "    help(stats.weibull)\n",
    "    \n",
    "Some distributions, like the Gamma distribution, additionally have a **Shape** parameter that control the specifics of the distribution. As we know, the alpha parameter of the Gamma distribution controls its shape. Keeping `alpha = 1` we are able to approximate the Exponential Distribution.\n",
    "\n",
    "\n",
    "The following steps describe how SciPy handles distributions. \n",
    "\n",
    "- First, a random variable class is created (using `rv_continuous` or `rv_discrete` routines). \n",
    "- Each continuous random variable has an associated \n",
    "    - probability density function (pdf), \n",
    "    - cumulative distribution function (cdf), \n",
    "    - survival function along with its inverse (sf, isf), \n",
    "    - all possible descriptive statistics.\n",
    "    - the random variable (rvs), used to generate the random instances. \n",
    "\n",
    "For example, with a Pareto continuous random variable with parameter b = 5, to check these properties, we could issue the following commands:\n",
    "\n",
    "    from scipy.stats import pareto\n",
    "    x = np.linspace(1, 10, 1000)\n",
    "\n",
    "    Series(pareto.pdf(x, 5)).plot()\n",
    "    Series(pareto.cdf(x, 5)).plot()\n",
    "    Series(pareto.rvs(5, size=1000)).plot()"
   ]
  },
  {
   "cell_type": "code",
   "execution_count": 9,
   "metadata": {
    "collapsed": true
   },
   "outputs": [],
   "source": [
    "from scipy.stats import pareto\n",
    "x = np.linspace(1, 10, 1000)"
   ]
  },
  {
   "cell_type": "code",
   "execution_count": 16,
   "metadata": {
    "collapsed": false
   },
   "outputs": [
    {
     "data": {
      "image/png": "[encoded data removed]",
      "text/plain": [
       "<matplotlib.figure.Figure at 0x11b2b6810>"
      ]
     },
     "metadata": {},
     "output_type": "display_data"
    }
   ],
   "source": [
    "Series(pareto.pdf(x, 2)).plot();"
   ]
  },
  {
   "cell_type": "code",
   "execution_count": 18,
   "metadata": {
    "collapsed": false
   },
   "outputs": [
    {
     "data": {
      "image/png": "[encoded data removed]",
      "text/plain": [
       "<matplotlib.figure.Figure at 0x11a652310>"
      ]
     },
     "metadata": {},
     "output_type": "display_data"
    }
   ],
   "source": [
    "Series(pareto.cdf(x, 2)).plot();"
   ]
  },
  {
   "cell_type": "code",
   "execution_count": 20,
   "metadata": {
    "collapsed": false
   },
   "outputs": [
    {
     "data": {
      "text/plain": [
       "<matplotlib.axes._subplots.AxesSubplot at 0x11abf6310>"
      ]
     },
     "execution_count": 20,
     "metadata": {},
     "output_type": "execute_result"
    },
    {
     "data": {
      "image/png": "[encoded data removed]",
      "text/plain": [
       "<matplotlib.figure.Figure at 0x10191b4d0>"
      ]
     },
     "metadata": {},
     "output_type": "display_data"
    }
   ],
   "source": [
    "Series(pareto.rvs(5, size=1000)).plot.hist()"
   ]
  },
  {
   "cell_type": "markdown",
   "metadata": {},
   "source": [
    "#### A short side-note on _Freezing Distributions_\n",
    "\n",
    "SciPy allows us to fix location, scale and shape parameters for a distribution so that subsequent function calls do not need the parameters to be passed as arguments (this is called 'freezing parameters'.)\n",
    "\n",
    "    my_gamma = gamma(1, scale = 2.)\n",
    "    my_gamma.rvs(1000)\n",
    "    my_gamma.mean()\n",
    "    my_gamma.std()\n",
    "    \n",
    "\n",
    "Let's take the Gaussian (Normal) distribution as an example. Note that with the default parameters, we get a Standard Normal Distribution (mean=0, standard deviation=1)"
   ]
  },
  {
   "cell_type": "code",
   "execution_count": 21,
   "metadata": {
    "collapsed": false
   },
   "outputs": [
    {
     "name": "stdout",
     "output_type": "stream",
     "text": [
      "Extreme values of the Normal Distribution are  -inf and inf\n"
     ]
    }
   ],
   "source": [
    "from scipy.stats import norm\n",
    "print 'Extreme values of the Normal Distribution are ', norm.a, 'and', norm.b"
   ]
  },
  {
   "cell_type": "markdown",
   "metadata": {},
   "source": [
    "1. We generate 1000 random data points from the Normal Distribution and visualize the histogram.\n",
    "\n",
    "Note that since we haven't passed the `loc=` or `scale=` parameters to the function, the mean will be 0 and stddev will be 1."
   ]
  },
  {
   "cell_type": "markdown",
   "metadata": {},
   "source": [
    "2. Now, we visualize the Cumulative Density Function for Normal Data\n",
    "\n",
    "Note that the CDF returns the probability that the RV is less than or equal to the value supplied. In the graph below, observe that if the supplied value is large, the probability that the RV will be lower than it will increase."
   ]
  },
  {
   "cell_type": "code",
   "execution_count": 26,
   "metadata": {
    "collapsed": true
   },
   "outputs": [],
   "source": [
    "my_norm = stats.norm(loc=0, scale=1)"
   ]
  },
  {
   "cell_type": "code",
   "execution_count": 27,
   "metadata": {
    "collapsed": false,
    "scrolled": true
   },
   "outputs": [
    {
     "data": {
      "text/plain": [
       "<matplotlib.axes._subplots.AxesSubplot at 0x11b1b9410>"
      ]
     },
     "execution_count": 27,
     "metadata": {},
     "output_type": "execute_result"
    },
    {
     "data": {
      "image/png": "[encoded data removed]",
      "text/plain": [
       "<matplotlib.figure.Figure at 0x11b1c4dd0>"
      ]
     },
     "metadata": {},
     "output_type": "display_data"
    }
   ],
   "source": [
    "Series(my_norm.rvs(1000)).hist()"
   ]
  },
  {
   "cell_type": "code",
   "execution_count": 28,
   "metadata": {
    "collapsed": false
   },
   "outputs": [
    {
     "data": {
      "text/plain": [
       "<matplotlib.axes._subplots.AxesSubplot at 0x11b67b890>"
      ]
     },
     "execution_count": 28,
     "metadata": {},
     "output_type": "execute_result"
    },
    {
     "data": {
      "image/png": "[encoded data removed]",
      "text/plain": [
       "<matplotlib.figure.Figure at 0x11b635890>"
      ]
     },
     "metadata": {},
     "output_type": "display_data"
    }
   ],
   "source": [
    "Series(my_norm.cdf(x)).plot()"
   ]
  },
  {
   "cell_type": "markdown",
   "metadata": {},
   "source": [
    "3. Similarly, we can plot the Probability Density function\n",
    "\n",
    "Note that for continuous RVs the probability density function (PDF) measures probability with which a given value will lie in a neighborhood of the RVs values. The probability of the RV belonging in a finite interval can be computed by taking the integral of the PDF over the interval.\n",
    "\n",
    "In the graph below, the probability of a value being close to the mean is the highest, and it drops off as we move away from the mean (ie, extreme values are rarer.)"
   ]
  },
  {
   "cell_type": "code",
   "execution_count": 29,
   "metadata": {
    "collapsed": false
   },
   "outputs": [
    {
     "data": {
      "image/png": "[encoded data removed]",
      "text/plain": [
       "<matplotlib.figure.Figure at 0x11b776650>"
      ]
     },
     "metadata": {},
     "output_type": "display_data"
    }
   ],
   "source": [
    "Series(norm.pdf(np.linspace(-5, 5, 1000))).plot();"
   ]
  },
  {
   "cell_type": "code",
   "execution_count": 30,
   "metadata": {
    "collapsed": false
   },
   "outputs": [
    {
     "data": {
      "text/plain": [
       "array([ 0.00443185,  0.39894228,  0.00443185])"
      ]
     },
     "execution_count": 30,
     "metadata": {},
     "output_type": "execute_result"
    }
   ],
   "source": [
    "norm.pdf([-3, 0, 3])"
   ]
  },
  {
   "cell_type": "markdown",
   "metadata": {},
   "source": [
    "---\n",
    "\n",
    "# Statistical Functions & Tests in `SciPy`\n",
    "\n",
    "`SciPy` has over 60 statistical functions that are used to accomplish one of two tasks: \n",
    "\n",
    "### 1. Functions that **summarize** a sample (such as `mean`, `skew`)\n",
    "    - Using these functions is simple and does not require much input.\n",
    "    \n",
    "**Example:** Calculating the skewness of the sample using `skew()`\n",
    "\n",
    "    sample = stats.norm.rvs(size=100)\n",
    "    sskw = stats.skew(sample)\n",
    "    print 'Skewness=' + sskw\n",
    "\n",
    "\n",
    "\n",
    "**Example:** Print summary stats using `describe()`\n",
    "\n",
    "    smmry = stats.describe(sample)\n",
    "    print smmry\n",
    "    \n",
    "This function is handy to view a quick snapshot of your sample, it produces the following output: `count, min, max, mean, variance, skewness, kurtosis`\n",
    "\n",
    "---    \n",
    "> Note on Skewness and Kurtosis\n",
    "\n",
    "- **Skewness** is a measure of symmetry, or more precisely, the lack of symmetry. A distribution, or data set, is symmetric if it looks the same to the left and right of the center point. \n",
    "\n",
    "- **Kurtosis** is a measure of whether the data are heavy-tailed or light-tailed relative to a normal distribution.\n",
    "\n",
    "<img src = \"http://www.janzengroup.net/stats/images/skewkurt.JPG\">\n",
    "\n",
    "---\n",
    "        \n",
    "### 2. Functions that run **tests** on samples (such as `kstest()` and `normaltest()`)\n",
    "\n",
    "- Distribution tests prove indispensable in finding if a sample of data belongs to a particular distribution or not.\n",
    "\n",
    "As an example, suppose that we've got two distinct sets of values, which we think have been generated from Gaussian Processes (the Normal Distribution). Now, we can use a **T-test** to decide whether these two sets of observations are statistically\n",
    "significantly different:\n",
    "\n",
    "Example 1: Running a **two-sample t-test**"
   ]
  },
  {
   "cell_type": "code",
   "execution_count": 34,
   "metadata": {
    "collapsed": false
   },
   "outputs": [
    {
     "data": {
      "image/png": "[encoded data removed]",
      "text/plain": [
       "<matplotlib.figure.Figure at 0x11c29dbd0>"
      ]
     },
     "metadata": {},
     "output_type": "display_data"
    }
   ],
   "source": [
    "from scipy.stats import norm\n",
    "X1 = norm.rvs(size = 100, loc = 1.5, scale = 1)\n",
    "X2 = norm.rvs(size = 100, loc = 1.8, scale = 2)\n",
    "\n",
    "# Visualize the data\n",
    "Series(X2).hist();\n",
    "Series(X1).hist();"
   ]
  },
  {
   "cell_type": "code",
   "execution_count": 35,
   "metadata": {
    "collapsed": false
   },
   "outputs": [
    {
     "name": "stdout",
     "output_type": "stream",
     "text": [
      "1.58761527222\n",
      "2.05983888183\n",
      "Effect Size 0.472223609614\n"
     ]
    }
   ],
   "source": [
    "# Check summary\n",
    "print X1.mean()\n",
    "print X2.mean()\n",
    "\n",
    "# Run the test\n",
    "print 'Effect Size', X2.mean() - X1.mean()"
   ]
  },
  {
   "cell_type": "code",
   "execution_count": 36,
   "metadata": {
    "collapsed": false
   },
   "outputs": [
    {
     "data": {
      "text/plain": [
       "Ttest_indResult(statistic=-2.1173928443846437, pvalue=0.035474542589817859)"
      ]
     },
     "execution_count": 36,
     "metadata": {},
     "output_type": "execute_result"
    }
   ],
   "source": [
    "stats.ttest_ind(X1, X2)"
   ]
  },
  {
   "cell_type": "markdown",
   "metadata": {},
   "source": [
    "Example 2: The **Kolomogorov Smirnov Goodness-of-Fit** `kstest()` test. Here we will test the sample against the Gaussian distribution and the Wald Distribution. The statistic produced by this test is a measure of fit, a value closer to zero indicates better fit."
   ]
  },
  {
   "cell_type": "code",
   "execution_count": 37,
   "metadata": {
    "collapsed": true
   },
   "outputs": [],
   "source": [
    "stats.kstest?"
   ]
  },
  {
   "cell_type": "code",
   "execution_count": 38,
   "metadata": {
    "collapsed": false,
    "scrolled": true
   },
   "outputs": [
    {
     "name": "stdout",
     "output_type": "stream",
     "text": [
      "kstest: Sample vs. Normal distribution\n",
      "D = 0.919413644677\n",
      "P-value = 0.0 \n",
      "\n",
      "kstest: Sample vs. Wald distribution\n",
      "D = 0.832994316745\n",
      "P-value = 0.0\n"
     ]
    }
   ],
   "source": [
    "sample = stats.norm.rvs(size = 1000, loc=5, scale=2)\n",
    "\n",
    "ks_norm = stats.kstest(sample, 'norm')\n",
    "print 'kstest: Sample vs. Normal distribution'\n",
    "print 'D = ' + str(ks_norm[0])\n",
    "print 'P-value = '+ str(ks_norm[1]), '\\n'\n",
    "\n",
    "ks_wald = stats.kstest(sample, 'wald')\n",
    "print 'kstest: Sample vs. Wald distribution'\n",
    "print 'D = '+ str(ks_wald[0])\n",
    "print 'P-value = '+ str(ks_wald[1])"
   ]
  },
  {
   "cell_type": "markdown",
   "metadata": {},
   "source": [
    "### Testing t distributed random variables against normal distribution*\n",
    "\n",
    "With 100 degrees of freedom the t distribution looks close to the normal\n",
    "distribution, and the K-S test does not reject the hypothesis that the\n",
    "sample came from the normal distribution:"
   ]
  },
  {
   "cell_type": "code",
   "execution_count": 39,
   "metadata": {
    "collapsed": false
   },
   "outputs": [
    {
     "data": {
      "text/plain": [
       "KstestResult(statistic=0.072018929165471257, pvalue=0.67630062862479168)"
      ]
     },
     "execution_count": 39,
     "metadata": {},
     "output_type": "execute_result"
    }
   ],
   "source": [
    "np.random.seed(987654321)\n",
    "stats.kstest(stats.t.rvs(100, size=100), 'norm')"
   ]
  },
  {
   "cell_type": "markdown",
   "metadata": {},
   "source": [
    "With 3 degrees of freedom the t distribution looks sufficiently different\n",
    "from the normal distribution, that we can reject the hypothesis that the\n",
    "sample came from the normal distribution at the 10% level:"
   ]
  },
  {
   "cell_type": "code",
   "execution_count": 41,
   "metadata": {
    "collapsed": false
   },
   "outputs": [
    {
     "data": {
      "text/plain": [
       "KstestResult(statistic=0.059859465556672875, pvalue=0.0014777529350418206)"
      ]
     },
     "execution_count": 41,
     "metadata": {},
     "output_type": "execute_result"
    }
   ],
   "source": [
    "np.random.seed(987654321)\n",
    "stats.kstest(stats.t.rvs(3, size=1000), 'norm')"
   ]
  },
  {
   "cell_type": "code",
   "execution_count": 42,
   "metadata": {
    "collapsed": true
   },
   "outputs": [],
   "source": [
    "norm.fit?"
   ]
  },
  {
   "cell_type": "markdown",
   "metadata": {},
   "source": [
    "---\n",
    "# Fitting a distribution to sample data\n",
    "\n",
    "It is common in statistics to want to estimate the probability density function (PDF) of a random variable, given a sample of data. We begin by visualizing the data as a histogram. Sometimes, we observe that the histogram of some sample data seems to fit a normal distribution. SciPy has a few routines to help us approximate the best distribution to a random variable, together with the parameters that best approximate this fit. In addition to the the methods discussed above, the following methods are also available to objects of distribution classes.\n",
    "\n",
    " - `fit()`: Estimates distribution parameters like shape, location, and scale using the maximum likelihood estimation (MLE) method\n",
    "- `fit_loc_scale()`: Uses the provided shape parameter to estimate location and scale\n",
    "- `nnlf()`: negative log likelihood function\n",
    "- `expect()`: finds the expectation, E(x) of a function against the Probability Density Function\n",
    "\n",
    "#### Using the `.fit()` method (Parametric)\n",
    "\n",
    "For example, given some seemingly Gaussian data, the mean and standard deviation of the normal distribution that realizes the best fit can be found in the following way:\n",
    "\n",
    "    from scipy.stats import norm\n",
    "    mean, std = norm.fit(my_data)\n",
    "\n",
    "We can now plot the (normed) histogram of the data, together with the computed probability density function, as follows:\n",
    "\n",
    "    plt.hist(my_data, normed=1)\n",
    "    x = np.linspace(my_data.min(),my_data.max(),1000)\n",
    "    pdf = norm.pdf(x, mean, std)\n",
    "    plt.plot(x, pdf)\n",
    "    plt.show()\n",
    "  "
   ]
  },
  {
   "cell_type": "code",
   "execution_count": 46,
   "metadata": {
    "collapsed": false
   },
   "outputs": [],
   "source": [
    "from scipy import stats\n",
    "my_data = stats.norm.rvs(5, 1, 10000)"
   ]
  },
  {
   "cell_type": "code",
   "execution_count": 48,
   "metadata": {
    "collapsed": true
   },
   "outputs": [],
   "source": [
    "stats.norm.fit?"
   ]
  },
  {
   "cell_type": "code",
   "execution_count": 49,
   "metadata": {
    "collapsed": false
   },
   "outputs": [
    {
     "data": {
      "text/plain": [
       "(4.9955019457249374, 0.99768093356427079)"
      ]
     },
     "execution_count": 49,
     "metadata": {},
     "output_type": "execute_result"
    }
   ],
   "source": [
    "stats.norm.fit(my_data)"
   ]
  },
  {
   "cell_type": "markdown",
   "metadata": {},
   "source": [
    "#### Using Kernel Density Estimation (Non-Parametric)\n",
    "\n",
    "We may even fit the best probability density function without specifying any particular distribution, thanks to a non-parametric technique, **kernel density estimation.** We can find an algorithm to perform Gaussian kernel density estimation in the `scipy.stats.kde` submodule. The `gaussian_kde()` estimator can applied to both univariate and multivariate data. It is most effective if the modality of the data is one, ie, it is unimodal. Bimodal or multi-modal distributions tend to be\n",
    "oversmoothed.\n",
    "\n",
    "The function `gaussian_kde()` takes as input a **bandwidth** parameter `bw_method=...` which is used to calculate the estimator bandwidth.  It can take as values the following - `scott`, `silverman` or a constant. If the bandwidth is set to be very narrow, the estimate of the pdf is simply the sum of Gaussians around each data point.\n",
    "\n",
    "We will take a simple example first. We will pass a floating point NumPy array to the `gaussian_kde()` function - once using the default value for bw_method, and then by using the Silverman method."
   ]
  },
  {
   "cell_type": "code",
   "execution_count": null,
   "metadata": {
    "collapsed": true
   },
   "outputs": [],
   "source": [
    "from scipy.stats import beta\n",
    "a, b = 1., 2.\n",
    "x = beta.rvs(a, b, size=1000)"
   ]
  },
  {
   "cell_type": "code",
   "execution_count": null,
   "metadata": {
    "collapsed": false
   },
   "outputs": [],
   "source": [
    "Series(x).hist(bins=50)"
   ]
  },
  {
   "cell_type": "code",
   "execution_count": null,
   "metadata": {
    "collapsed": true
   },
   "outputs": [],
   "source": [
    "a1, b1, loc1, scale1 = beta.fit(x)"
   ]
  },
  {
   "cell_type": "code",
   "execution_count": null,
   "metadata": {
    "collapsed": false
   },
   "outputs": [],
   "source": [
    "from scipy import stats\n",
    "import matplotlib.pyplot as plt\n",
    " \n",
    "x1 = np.array([-10, -9, -3, 0, 2, 5, 10], dtype=np.float)\n",
    "kde1 = stats.gaussian_kde(x1)\n",
    "kde2 = stats.gaussian_kde(x1, bw_method='silverman')\n",
    "\n",
    "fig = plt.figure()\n",
    "ax = fig.add_subplot(111)\n",
    " \n",
    "ax.plot(x_eval, kde1(x_eval), 'k-', label=\"Scott's Rule\")\n",
    "ax.plot(x_eval, kde1(x_eval), 'r-', label=\"Silverman's Rule\")\n",
    " \n",
    "plt.show()"
   ]
  },
  {
   "cell_type": "markdown",
   "metadata": {},
   "source": [
    "---\n",
    "## Some Interesting Links: \n",
    "- https://en.wikipedia.org/wiki/Probability_distribution\n",
    "- https://en.wikipedia.org/wiki/List_of_probability_distributions\n",
    "- https://blog.cloudera.com/blog/2015/12/common-probability-distributions-the-data-scientists-crib-sheet/\n",
    "- http://www.math.wm.edu/~leemis/chart/UDR/UDR.html\n",
    "- https://en.wikipedia.org/wiki/Maximum_likelihood_estimation\n",
    "- https://en.wikipedia.org/wiki/Kernel_density_estimation"
   ]
  }
 ],
 "metadata": {
  "anaconda-cloud": {},
  "kernelspec": {
   "display_name": "Python [Root]",
   "language": "python",
   "name": "Python [Root]"
  },
  "language_info": {
   "codemirror_mode": {
    "name": "ipython",
    "version": 2
   },
   "file_extension": ".py",
   "mimetype": "text/x-python",
   "name": "python",
   "nbconvert_exporter": "python",
   "pygments_lexer": "ipython2",
   "version": "2.7.12"
  }
 },
 "nbformat": 4,
 "nbformat_minor": 0
}
