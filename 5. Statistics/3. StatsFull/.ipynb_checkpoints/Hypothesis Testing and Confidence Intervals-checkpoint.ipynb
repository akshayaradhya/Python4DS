{
 "cells": [
  {
   "cell_type": "markdown",
   "metadata": {},
   "source": [
    "# Hypothesis Testing\n",
    "\n",
    "Hypothesis testing is the use of statistics to determine the probability that a given hypothesis is true. \n",
    "\n",
    "Hypothesis Testing can be broken into 10 basic steps.\n",
    "\n",
    "    1.) Data Testing\n",
    "    2.) Assumptions\n",
    "    3.) Hypothesis\n",
    "    4.) Test Statistic\n",
    "    5.) Distribution of Test Statistic\n",
    "    6.) Decision Rule\n",
    "    7.) Calculation of Test Statistic\n",
    "    8.) Statistical Decision\n",
    "    9.) Conclusion\n",
    "    10.) p-values\n",
    "    \n",
    "It is important to note that the initial steps can be done in different orders or at the same time, specifically, I would suggest you come up with you research question first, before going out to do data testing. Moving along:\n",
    "\n",
    "Let's now break down these steps:\n",
    "\n",
    "### Step 1: Data Testing\n",
    "\n",
    "This one is pretty simple, to do any sort of statistical testing, we'll need some data from a population.\n",
    "\n",
    "### Step 2: Assumptions\n",
    "\n",
    "We will need to make some assumptions regarding our data, such as assuming the data is normally distributed, or what the Standard Deviation of the data is. Another example would be whether to use a T-Distribution or a Normal Distribution.\n",
    "\n",
    "### Step 3: Hypothesis\n",
    "\n",
    "In our Hypothesis Testing, we will have two Hypothesis: *The Null Hypothesis* (denoted as H<sub>o</sub>) and the *Alternative Hypothesis* (denoted as H<sub>A</sub>). The Null Hypothesis is the hypothesis we are looking to test against the alternative hypothesis. Let's get an example of what this looks like:\n",
    "\n",
    "Let's assume we have a data set regarding ages of customers to a restaurant. Let's say for this particular data set we want to try to prove that the mean of that sample population is *not*  30. So we set our null hypothesis as:\n",
    "\n",
    "$$ H_o : \\mu = 30 $$\n",
    "And our Alternative Hypothesis as:\n",
    "$$ H_A : \\mu \\neq  30 $$    "
   ]
  },
  {
   "cell_type": "markdown",
   "metadata": {},
   "source": [
    "We could have also set out Alternative Hypothesis to be that the mean is greater than 30 or another Alternative Hypothesis we could have proposed is the mean is less than 30. We will discuss these other options later when we go into one-tail versus two-tail tests.\n",
    "\n",
    "Continuing on with our steps:\n",
    "\n",
    "### Step 4: Test Statistic\n",
    "\n",
    "Based on our assumptions, we'll choose a suitable test statistic. For example, if we believe to have a normal distribution with our data we would choose a z-score as our standard error:\n",
    "\n",
    "$$ z = \\frac{\\overline{x}-\\mu_o}{\\sigma / \\sqrt{n}}$$\n",
    "\n",
    "Or if we assume to have a t-distribution we would choose a t-score (estimated standard error):\n",
    "\n",
    "$$ t = \\frac{\\overline{x}-\\mu_o}{s/ \\sqrt{n}}$$\n",
    "\n",
    "Then our test statistic is defined as:\n",
    "\n",
    "$$ Test \\ Statistic = \\frac{Relevant \\ Statistic - Hypothesized \\ Parameter}{ Standard \\ Error \\ of \\  Releveant \\ Statistic}$$\n",
    "\n",
    "\n",
    "### Step 5: Distribution of Test Statistic\n",
    "\n",
    "As discussed earlier, verify that whether your data should use a t or z distribution.\n",
    "\n",
    "### Step 6: Decision Rule\n",
    "\n",
    "Considering the distribution, we need to establish a significance level, usually denoted as alpha, α. Alpha is the probability of having a Null Hypothesis that is true, but our data shows is wrong. So alpha is the probability of rejecting a *true* Null Hypothesis. By convention, alpha is usually equal to 0.05 or 5%. This means that 5% of the time, we will falsely reject a true null hypothesis, this is best explained through a picture."
   ]
  },
  {
   "cell_type": "code",
   "execution_count": 1,
   "metadata": {
    "collapsed": false
   },
   "outputs": [
    {
     "name": "stderr",
     "output_type": "stream",
     "text": [
      "/Users/lr/anaconda2/lib/python2.7/site-packages/IPython/core/formatters.py:369: FormatterWarning: image/jpeg formatter returned invalid type <type 'tuple'> (expected (<type 'str'>, <type 'unicode'>)) for object: <IPython.core.display.Image object>\n",
      "  FormatterWarning\n"
     ]
    },
    {
     "data": {
      "text/plain": [
       "<IPython.core.display.Image object>"
      ]
     },
     "execution_count": 1,
     "metadata": {},
     "output_type": "execute_result"
    }
   ],
   "source": [
    "from IPython.display import Image\n",
    "url = 'http://images.flatworldknowledge.com/shafer/shafer-fig08_004.jpg'\n",
    "Image(url,height=400,width=600)"
   ]
  },
  {
   "cell_type": "markdown",
   "metadata": {},
   "source": [
    "The above image shows three types of tests. It shows 2 types of One-Tail Tests on top, and a Two-Tail Test on the bottom. You apply your significance level to a region depending on your Alternative Hypothesis (shown above each distribution).\n",
    "\n",
    "Let's look at the bottom two-tail test. With an alpha=0.05, then whenever we take a sample and get our test statistic (the t or z score) then we check where it falls in our distribution. If the Null Hypothesis is True, then 95% of the time it would land inbetween the α/2 markers. So if our test statistic lands inbetween the alpha markers (for a two tail test inbetween α/2, for a one tail test either below or above the α marker depending on the Alternative Hypothesis) we accept (or don't reject) the Null Hypothesis. If it landsoutside of this zone, we reject the Hypothesis.\n",
    "\n",
    "Now let's say we actually made a mistake, and rejected a Null Hypothesis that unknown to us was True, then we made what is called a Type I error. If we accepted a Null Hypothesis that was actually False, we've made a Type II error. Below is a handy chart depicting the error types."
   ]
  },
  {
   "cell_type": "code",
   "execution_count": null,
   "metadata": {
    "collapsed": false
   },
   "outputs": [],
   "source": [
    "url='http://www.personal.ceu.hu/students/08/Olga_Etchevskaia/images/errors.jpg'\n",
    "Image(url,height=200,width=300)"
   ]
  },
  {
   "cell_type": "markdown",
   "metadata": {},
   "source": [
    "### Step 7: Calculate the Test Statistic\n",
    "Now that we understand our decision rule we can calculate our t or z score.\n",
    "\n",
    "### Step 8: Statistical Decision\n",
    "\n",
    "We take what we understand from Step 6 and see where our test statistic from Step 7 lies.\n",
    "\n",
    "### Step 9: Conclusion\n",
    "\n",
    "We check our statistical decision and conclude whether or not to reject the Null Hypothesis.\n",
    "\n",
    "### Step 10: Calculate a p-value\n",
    "\n",
    "The [P value](http://en.wikipedia.org/wiki/P-value)  is the estimated probability of rejecting the null hypothesis of a study question when that null hypothesis is actually true. In other words, the P-value may be considered the probability of finding the observed, or more extreme, results when the null hypothesis is true – the definition of ‘extreme’ depends on how the hypothesis is being tested.\n",
    "\n",
    "It is very important to note: Since the p-value is used in Frequentist inference (and not Bayesian inference), it does not in itself support reasoning about the probabilities of hypotheses, but only as a tool for deciding whether to reject the null hypothesis in favor of the alternative hypothesis.\n",
    "\n",
    "Let's now go over an example to go through all the steps!"
   ]
  },
  {
   "cell_type": "markdown",
   "metadata": {},
   "source": [
    "---\n",
    "\n",
    "> ## Example Problem 1: Restaurant Patrons\n",
    "\n",
    "<br>\n",
    "There are two main types of single-sample hypothesis tests:\n",
    "\n",
    "    1.) When the population standard deviation σ is known or given.\n",
    "    2.) When the population standard deviation σ is NOT known, and therefore we have to estimate \n",
    "    with s, the sample standard deviation.\n",
    "\n",
    "For Case 1, we use a normal (Z) distribution, for Case 2, we use the T-distribution.\n",
    "\n",
    "Let's start with an example.<br> \n",
    "\n",
    ">We are hired by a fast food chain to figure out the mean age of customers. The current CEO believes the mean age is 30, however we don't believe that to be True. So we now have our Null and Alternative Hypotheses: <br><br>\n",
    "$$ H_o: \\mu = 30 $$\n",
    "$$ H_A: \\mu \\neq 30 $$"
   ]
  },
  {
   "cell_type": "markdown",
   "metadata": {},
   "source": [
    "It is important to remember that the Null and Alternative Hypotheses must account for all possible outcomes. \n",
    "\n",
    "So now we will see if we can reject the Null Hypothesis in order to accept our Alternative Hypothesis. \n",
    "\n",
    "#### Step 1: Data\n",
    "\n",
    "So we take a random sample of customers and come up with the following data. From our *sample population*, we get a mean age of 27 years from a sample of 10 customers. Note: This is a sample population of the total population (referred to as just the population).\n",
    "\n",
    "#### Step 2: Assumptions\n",
    "We will begin and get some assumptions. Based on some textbook sources you check, you assume that the population follows a normal distribution (Note: There are [specific tests](http://en.wikipedia.org/wiki/Normality_test) to check this). We also see in this textbook that given the population we could assume a variance of 20, so a standard deviation of:\n",
    "\n",
    "$$ \\sigma = \\sqrt{20}$$"
   ]
  },
  {
   "cell_type": "markdown",
   "metadata": {},
   "source": [
    "It's important to note that in a real world case it is unlikely to know the population variance, and we will discuss that in the next example. Usually you will only know your sample population's standard deviation (not the *entire* population's standard deviation).Given that we know the standard deviation, we can use a Z Distribution.\n",
    "\n",
    "#### Step 3: Hypothesis\n",
    "\n",
    "We already have our Hypotheses from above:\n",
    "$$ H_o: \\mu = 30 $$\n",
    "$$ H_A: \\mu \\neq 30 $$\n",
    "\n",
    "#### Step 4: Test Statistic\n",
    "\n",
    "Since we have the standard deviation, we can use the Z-Statistic:\n",
    "$$ z = \\frac{\\overline{x}-\\mu_o}{\\sigma / \\sqrt{n}}$$\n"
   ]
  },
  {
   "cell_type": "markdown",
   "metadata": {},
   "source": [
    "#### Step 5: Distribution\n",
    "\n",
    "Again we have chosen the Z-Distribution, having a mean and max at zero.\n",
    "\n",
    "#### Step 6: Decision Rule\n",
    "\n",
    "We will set our significance level (alpha) at 5%. Meaning we are trying to minimize our Type I error. So we are trying to make sure we can reject the Null Hyopthesis and minimize the chance that it was actually True. By choosing 5% we will have a certainty of 95% that we are correct if we reject the Null Hypothesis.\n",
    "\n",
    "#### Step 7: Calculation of Test Statistic\n",
    "\n",
    "Let's go ahead and calculate our Test Statistic:\n",
    "$$ z= \\frac{\\overline{x}-\\mu_o}{\\sigma / \\sqrt{n}} = \\frac{27 - 30}{\\sqrt{20} / \\sqrt{10}} = -2.12 $$\n",
    "\n",
    "#### Step 8: Conclusion\n",
    "\n",
    "In order to accept or reject the Null Hypothesis we need to see where our Z score lands. If we take alpha to be 95% then we know from a [Z-Score Table](http://www.stat.ufl.edu/~athienit/Tables/Ztable.pdf) that we have to lie above 1.96 or below -1.96 as seen in the figure below:"
   ]
  },
  {
   "cell_type": "code",
   "execution_count": null,
   "metadata": {
    "collapsed": false
   },
   "outputs": [],
   "source": [
    "url='http://www.duncanwil.co.uk/norm_files/image056.jpg'\n",
    "Image(url)"
   ]
  },
  {
   "cell_type": "markdown",
   "metadata": {},
   "source": [
    "Given that our Z-score for our Test Statistic was -2.12, we can see that we can reject the Null Hypothesis! So we reject that the mean of the customer age is 30. Remember, this test does not actually tell us what the mean is, only that it unlikely to be 30. How unlikely? This is where the p-value comes into play.\n",
    "\n",
    "#### Step 9: p-value\n",
    "\n",
    "From a table, we can see that 98.3% corresponds to the percentage of the area inbetween our +/- of our Z-Score, 2.12. This means that if the reality is the Null Hypothesis is actually True, we would only find that data 100-98.3= 1.7% of the time. So our p-value is 1.7% (or 0.017). This is pretty unlikely so we can be quite confident in our rejection of the Null Hypothesis."
   ]
  },
  {
   "cell_type": "markdown",
   "metadata": {},
   "source": [
    "## Confidence Intervals\n",
    "\n",
    "We could describe the above process using confidence intervals. The equation for a confidence interval is:\n",
    "$$ \\bar{x} \\pm z \\sigma _\\bar{x} $$\n",
    "\n",
    "From our work above we can fill in the equation as:\n",
    "$$ 27 \\pm 1.96 *(\\frac{\\sqrt{20}}{\\sqrt{10}}) $$\n",
    "\n",
    "Which (with rounding) is equal to:\n",
    "$$ 27 \\pm 2.77 $$\n",
    "\n",
    "This gives us a range between 24.23 and 29.77. Since the Null Hypothesis mean of 30 is NOT in that range, we can reject that Null Hypothesis. A simple approach to the above problem!\n",
    "\n",
    "Now what is we don't know the standard deviation? Let's go ahead and look at an example problem:\n",
    "\n",
    "### Example Problem 2"
   ]
  },
  {
   "cell_type": "markdown",
   "metadata": {},
   "source": [
    "Assuming the same problem as before, we want to know whether or not we can reject the Null Hypothesis.\n",
    "\n",
    "#### Step 1: Data\n",
    "\n",
    "Let's say after getting our data, we have a mean of 27 form 10 customers. Our *sample population* has a standard deviation of 3.\n",
    "\n",
    "#### Step 2: Assumptions\n",
    "\n",
    "In this second case we don't consult a textbook so we don't know what the entire populations standard deviation is.\n",
    "\n",
    "\n",
    "#### Step 3: Hypotheses\n",
    "\n",
    "Same as before:\n",
    "$$ H_o: \\mu = 30 $$\n",
    "$$ H_A: \\mu \\neq 30 $$\n",
    "\n",
    "#### Step 4: Test Statistic\n",
    "\n",
    "We now have to use the t-distribution since we don't know the populations standard deviation. So our test statistic will be:\n",
    "\n",
    "$$ t = \\frac{\\overline{x}-\\mu_o}{s/ \\sqrt{n}}$$\n",
    "#### Step 5: Distribution\n",
    "\n",
    "Since we only have 10 customers in our sample and don't know the entire population's standard deviation we use a t-distribution. Remember as a sample population grows beyond 30, the t distribution begins to resemble and behave like a standard Z distribution. Keep in mind a t-distribution is \"flatter\" and operates on degrees of freedom (n-1).\n",
    "\n",
    "We can use a [T-table](http://www.sjsu.edu/faculty/gerstman/StatPrimer/t-table.pdf) to find that for a 95% significance level, our region for accepting the Null Hypothesis falss between +/- 2.262\n",
    "\n",
    "#### Step 6: Decision Rule\n",
    "\n",
    "As before: We will set our significance level (alpha) at 5%. Meaning we are trying to minimize our Type I error. So we are trying to make sure we can reject the Null Hyopthesis and minimize the chance that it was actually True. By choosing 5% we will have a certainty of 95% that we are correct if we reject the Null Hypothesis.\n",
    "\n",
    "#### Step 7: Calculate our Test Statistic\n",
    "\n",
    "Plugging into:\n",
    "$$ t = \\frac{\\overline{x}-\\mu_o}{s/ \\sqrt{n}}$$\n",
    "we get:\n",
    "$$ t = \\frac{27-30}{3/ \\sqrt{10}}=-3.16$$\n",
    "\n",
    "#### Step 8: Statisitcal Decision\n",
    "\n",
    "Given the rejection regions was t = +/- 2.262 , then our t=-3.16 allows us to reject the Null Hypothesis.\n",
    "\n",
    "#### Step 9: Conclusion\n",
    "\n",
    "Just as before we can reject the Null Hypothesis.\n",
    "\n",
    "\n",
    "### Additional Resources\n",
    "\n",
    "Here are some more great resources for learning about Hypothesis Testing:\n",
    "\n",
    "1.) [Wolfram](http://mathworld.wolfram.com/HypothesisTesting.html)\n",
    "2.) [Stat Trek](http://stattrek.com/hypothesis-test/hypothesis-testing.aspx)\n",
    "3.) [Wikipedia](http://en.wikipedia.org/wiki/Statistical_hypothesis_testing)\n",
    "4.) [Probability Book Sample](http://www.sagepub.com/upm-data/40007_Chapter8.pdf)"
   ]
  }
 ],
 "metadata": {
  "anaconda-cloud": {},
  "kernelspec": {
   "display_name": "Python [Root]",
   "language": "python",
   "name": "Python [Root]"
  },
  "language_info": {
   "codemirror_mode": {
    "name": "ipython",
    "version": 2
   },
   "file_extension": ".py",
   "mimetype": "text/x-python",
   "name": "python",
   "nbconvert_exporter": "python",
   "pygments_lexer": "ipython2",
   "version": "2.7.12"
  }
 },
 "nbformat": 4,
 "nbformat_minor": 0
}
