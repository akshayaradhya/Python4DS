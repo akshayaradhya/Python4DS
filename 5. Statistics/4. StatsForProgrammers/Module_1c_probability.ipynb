{
 "cells": [
  {
   "cell_type": "markdown",
   "metadata": {},
   "source": [
    "> **SOMETIMES THE QUESTIONS ARE COMPLICATED AND THE ANSWERS ARE SIMPLE **\n",
    "\n",
    ">*Dr. Seuss*\n",
    "\n",
    "## Coin Toss\n",
    "\n",
    "You toss a coin 30 times and see head 24 times. Is it a fair coin?\n",
    "\n",
    "**Hypothesis 1**: Tossing a fair coin will get you 15 heads in 30 tosses. This coin is biased\n",
    "\n",
    "**Hypothesis 2**: Come on, even a fair coin could show 24 heads in 30 tosses. This is just by chance\n",
    "\n",
    "#### Statistical Method\n",
    "\n",
    "P(H) = ? \n",
    "\n",
    "P(HH) = ?\n",
    "\n",
    "P(THH) = ?\n",
    "\n",
    "Now, slightly tougher : P(2H, 1T) = ?\n",
    "\n",
    "Generalizing, \n",
    "\n",
    "<img style=\"float: left;\" src=\"img/binomial.gif\">\n",
    "\n",
    "<br>\n",
    "<br>\n",
    "<br>\n",
    "<br>\n",
    "\n",
    "\n",
    "**What is the probability of getting 24 heads in 30 tosses ?**\n",
    "\n",
    "It is the probability of getting heads 24 times or more. \n",
    "\n",
    "#### Hacker's Approach\n",
    "\n",
    "Simulation. Run the experiment 100,000 times. Find the percentage of times the experiment returned 24 or more heads. If it is less than 5%, we conclude that the coin is biased. "
   ]
  },
  {
   "cell_type": "code",
   "execution_count": 1,
   "metadata": {
    "collapsed": true
   },
   "outputs": [],
   "source": [
    "import numpy as np  "
   ]
  },
  {
   "cell_type": "code",
   "execution_count": 2,
   "metadata": {
    "collapsed": true
   },
   "outputs": [],
   "source": [
    "total_tosses = 30\n",
    "num_heads = 24\n",
    "prob_head = 0.5"
   ]
  },
  {
   "cell_type": "code",
   "execution_count": 3,
   "metadata": {
    "collapsed": true
   },
   "outputs": [],
   "source": [
    "#0 is tail. 1 is heads. Generate one experiment\n",
    "experiment = np.random.randint(0, 2, total_tosses)"
   ]
  },
  {
   "cell_type": "code",
   "execution_count": 8,
   "metadata": {
    "collapsed": false
   },
   "outputs": [
    {
     "name": "stdout",
     "output_type": "stream",
     "text": [
      "('Data of the Experiment:', array([1, 1, 1, 0, 0, 1, 1, 0, 1, 0, 0, 1, 0, 0, 0, 0, 0, 1, 1, 0, 1, 1, 0,\n",
      "       0, 0, 0, 0, 1, 0, 0]))\n"
     ]
    }
   ],
   "source": [
    "print(\"Data of the Experiment:\", experiment)"
   ]
  },
  {
   "cell_type": "code",
   "execution_count": 9,
   "metadata": {
    "collapsed": false
   },
   "outputs": [
    {
     "name": "stdout",
     "output_type": "stream",
     "text": [
      "('Heads in the Experiment:', array([1, 1, 1, 1, 1, 1, 1, 1, 1, 1, 1, 1]))\n"
     ]
    }
   ],
   "source": [
    "#Find the number of heads\n",
    "print(\"Heads in the Experiment:\", experiment[experiment==1])  #This will give all the heads in the array"
   ]
  },
  {
   "cell_type": "code",
   "execution_count": 10,
   "metadata": {
    "collapsed": false
   },
   "outputs": [
    {
     "name": "stdout",
     "output_type": "stream",
     "text": [
      "('Number of heads in the experiment:', 12)\n"
     ]
    }
   ],
   "source": [
    "head_count = experiment[experiment==1].shape[0] #This will get the count of heads in the array\n",
    "print(\"Number of heads in the experiment:\", head_count)"
   ]
  },
  {
   "cell_type": "code",
   "execution_count": 11,
   "metadata": {
    "collapsed": false
   },
   "outputs": [],
   "source": [
    "#Now, the above experiment needs to be repeated 100 times. Let's write a function and put the above code in a loop\n",
    "\n",
    "def coin_toss_experiment(times_to_repeat):\n",
    "\n",
    "    head_count = np.empty([times_to_repeat,1], dtype=int)\n",
    "    \n",
    "    for times in np.arange(times_to_repeat):\n",
    "        experiment = np.random.randint(0,2,total_tosses)\n",
    "        head_count[times] = experiment[experiment==1].shape[0]\n",
    "    \n",
    "    return head_count"
   ]
  },
  {
   "cell_type": "code",
   "execution_count": 12,
   "metadata": {
    "collapsed": false
   },
   "outputs": [],
   "source": [
    "head_count = coin_toss_experiment(100)"
   ]
  },
  {
   "cell_type": "code",
   "execution_count": 13,
   "metadata": {
    "collapsed": false
   },
   "outputs": [
    {
     "data": {
      "text/plain": [
       "array([[16],\n",
       "       [12],\n",
       "       [12],\n",
       "       [12],\n",
       "       [15],\n",
       "       [11],\n",
       "       [15],\n",
       "       [11],\n",
       "       [15],\n",
       "       [17]])"
      ]
     },
     "execution_count": 13,
     "metadata": {},
     "output_type": "execute_result"
    }
   ],
   "source": [
    "head_count[:10] "
   ]
  },
  {
   "cell_type": "code",
   "execution_count": 14,
   "metadata": {
    "collapsed": false
   },
   "outputs": [
    {
     "name": "stdout",
     "output_type": "stream",
     "text": [
      "('Dimensions:', (100, 1), '\\n', 'Type of object:', <type 'numpy.ndarray'>)\n"
     ]
    }
   ],
   "source": [
    "print(\"Dimensions:\", head_count.shape, \"\\n\",\"Type of object:\", type(head_count))"
   ]
  },
  {
   "cell_type": "code",
   "execution_count": 15,
   "metadata": {
    "collapsed": false
   },
   "outputs": [],
   "source": [
    "#Let's plot the above distribution\n",
    "import matplotlib.pyplot as plt\n",
    "%matplotlib inline\n",
    "import seaborn as sns\n",
    "sns.set(color_codes = True)"
   ]
  },
  {
   "cell_type": "code",
   "execution_count": 16,
   "metadata": {
    "collapsed": false
   },
   "outputs": [
    {
     "data": {
      "text/plain": [
       "<matplotlib.axes._subplots.AxesSubplot at 0x116b770d0>"
      ]
     },
     "execution_count": 16,
     "metadata": {},
     "output_type": "execute_result"
    },
    {
     "data": {
      "image/png": "[encoded data removed]",
      "text/plain": [
       "<matplotlib.figure.Figure at 0x1169ef9d0>"
      ]
     },
     "metadata": {},
     "output_type": "display_data"
    }
   ],
   "source": [
    "sns.distplot(head_count, kde=False)"
   ]
  },
  {
   "cell_type": "markdown",
   "metadata": {},
   "source": [
    "**Exercise**: Try setting `kde=True` in the above cell and observe what happens"
   ]
  },
  {
   "cell_type": "code",
   "execution_count": 17,
   "metadata": {
    "collapsed": false
   },
   "outputs": [
    {
     "data": {
      "text/plain": [
       "<matplotlib.axes._subplots.AxesSubplot at 0x119348310>"
      ]
     },
     "execution_count": 17,
     "metadata": {},
     "output_type": "execute_result"
    },
    {
     "data": {
      "image/png": "[encoded data removed]",
      "text/plain": [
       "<matplotlib.figure.Figure at 0x118ee86d0>"
      ]
     },
     "metadata": {},
     "output_type": "display_data"
    }
   ],
   "source": [
    "sns.distplot(head_count, kde=True)"
   ]
  },
  {
   "cell_type": "code",
   "execution_count": 18,
   "metadata": {
    "collapsed": false
   },
   "outputs": [
    {
     "data": {
      "text/plain": [
       "array([], dtype=int64)"
      ]
     },
     "execution_count": 18,
     "metadata": {},
     "output_type": "execute_result"
    }
   ],
   "source": [
    "#Number of times the experiment returned 24 heads.\n",
    "head_count[head_count>=24]"
   ]
  },
  {
   "cell_type": "code",
   "execution_count": 19,
   "metadata": {
    "collapsed": false
   },
   "outputs": [
    {
     "name": "stdout",
     "output_type": "stream",
     "text": [
      "('No of times experiment returned 24 heads or more:', 0)\n",
      "('% of times with 24 or more heads: ', 0.0)\n"
     ]
    }
   ],
   "source": [
    "print(\"No of times experiment returned 24 heads or more:\", head_count[head_count>=24].shape[0])\n",
    "print(\"% of times with 24 or more heads: \", head_count[head_count>=24].shape[0]/float(head_count.shape[0])*100)"
   ]
  },
  {
   "cell_type": "code",
   "execution_count": null,
   "metadata": {
    "collapsed": false
   },
   "outputs": [],
   "source": []
  },
  {
   "cell_type": "markdown",
   "metadata": {},
   "source": [
    "####  Exercise: Repeat the experiment 100,000 times. "
   ]
  },
  {
   "cell_type": "code",
   "execution_count": 21,
   "metadata": {
    "collapsed": false
   },
   "outputs": [],
   "source": [
    "heads = coin_toss_experiment(100000)"
   ]
  },
  {
   "cell_type": "code",
   "execution_count": 25,
   "metadata": {
    "collapsed": true
   },
   "outputs": [],
   "source": [
    "import pandas as pd"
   ]
  },
  {
   "cell_type": "code",
   "execution_count": 26,
   "metadata": {
    "collapsed": false
   },
   "outputs": [
    {
     "data": {
      "text/plain": [
       "19"
      ]
     },
     "execution_count": 26,
     "metadata": {},
     "output_type": "execute_result"
    }
   ],
   "source": [
    "pd.Series(map(lambda x: x[0] > 24, heads)).sum()"
   ]
  },
  {
   "cell_type": "markdown",
   "metadata": {},
   "source": [
    "# Is the coin fair?"
   ]
  },
  {
   "cell_type": "code",
   "execution_count": null,
   "metadata": {
    "collapsed": true
   },
   "outputs": [],
   "source": []
  },
  {
   "cell_type": "markdown",
   "metadata": {},
   "source": [
    "### Extra pointers on numpy"
   ]
  },
  {
   "cell_type": "markdown",
   "metadata": {},
   "source": [
    "**** Removing `for` loop in the funciton ****"
   ]
  },
  {
   "cell_type": "code",
   "execution_count": 10,
   "metadata": {
    "collapsed": false
   },
   "outputs": [],
   "source": [
    "def coin_toss_experiment_2(times_to_repeat):\n",
    "\n",
    "    head_count = np.empty([times_to_repeat,1], dtype=int)\n",
    "    experiment = np.random.randint(0,2,[times_to_repeat,total_tosses])\n",
    "    return experiment.sum(axis=1)"
   ]
  },
  {
   "cell_type": "markdown",
   "metadata": {},
   "source": [
    "#### Exercise: Benchmark `coin_toss_experiment` and `coin_toss_experiment_2` for 100 and 100,000 runs and report improvements, if any"
   ]
  },
  {
   "cell_type": "code",
   "execution_count": null,
   "metadata": {
    "collapsed": true
   },
   "outputs": [],
   "source": []
  }
 ],
 "metadata": {
  "anaconda-cloud": {},
  "kernelspec": {
   "display_name": "Python [Root]",
   "language": "python",
   "name": "Python [Root]"
  },
  "language_info": {
   "codemirror_mode": {
    "name": "ipython",
    "version": 2
   },
   "file_extension": ".py",
   "mimetype": "text/x-python",
   "name": "python",
   "nbconvert_exporter": "python",
   "pygments_lexer": "ipython2",
   "version": "2.7.12"
  }
 },
 "nbformat": 4,
 "nbformat_minor": 0
}
