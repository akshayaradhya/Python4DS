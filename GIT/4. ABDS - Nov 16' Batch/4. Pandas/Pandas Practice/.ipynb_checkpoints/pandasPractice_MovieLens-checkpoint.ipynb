{
 "cells": [
  {
   "cell_type": "code",
   "execution_count": null,
   "metadata": {
    "collapsed": true
   },
   "outputs": [],
   "source": [
    "import time, sys\n",
    "\n",
    "def countdown(t):\n",
    "    while t:\n",
    "        mins, secs = divmod(t, 60)\n",
    "        timeformat = '{:02d}:{:02d}'.format(mins, secs)\n",
    "        sys.stdout.write('\\r' + str(timeformat))\n",
    "        sys.stdout.flush()\n",
    "        time.sleep(1)\n",
    "        t -= 1\n",
    "    print(\"Time's Up! \\n\")"
   ]
  },
  {
   "cell_type": "code",
   "execution_count": null,
   "metadata": {
    "collapsed": false
   },
   "outputs": [],
   "source": [
    "countdown(1 * 60)"
   ]
  },
  {
   "cell_type": "code",
   "execution_count": 1,
   "metadata": {
    "collapsed": false
   },
   "outputs": [
    {
     "name": "stdout",
     "output_type": "stream",
     "text": [
      "Populating the interactive namespace from numpy and matplotlib\n",
      "0.18.1\n"
     ]
    },
    {
     "data": {
      "text/plain": [
       "\"/Users/lr/Dropbox/Cisco [Sept 16']/4. Pandas/Pandas Practice\""
      ]
     },
     "execution_count": 1,
     "metadata": {},
     "output_type": "execute_result"
    }
   ],
   "source": [
    "import os\n",
    "\n",
    "import pandas as pd\n",
    "from pandas import Series, DataFrame \n",
    "\n",
    "import numpy as np\n",
    "import matplotlib.pyplot as plt\n",
    "\n",
    "import seaborn as sns\n",
    "\n",
    "pd.set_option('max_columns', 20)\n",
    "pd.set_option('max_rows', 20)\n",
    "pd.set_option('notebook_repr_html', False) \n",
    "\n",
    "%pylab inline \n",
    "\n",
    "print pd.__version__\n",
    "\n",
    "path = os.getcwd()\n",
    "path"
   ]
  },
  {
   "cell_type": "markdown",
   "metadata": {},
   "source": [
    "-------------------------------------------------------------------------------------------------"
   ]
  },
  {
   "cell_type": "markdown",
   "metadata": {},
   "source": [
    "## Check the contents of the Working Directory"
   ]
  },
  {
   "cell_type": "code",
   "execution_count": 2,
   "metadata": {
    "collapsed": false,
    "scrolled": true
   },
   "outputs": [
    {
     "name": "stdout",
     "output_type": "stream",
     "text": [
      "\u001b[34mData\u001b[m\u001b[m\r\n",
      "\u001b[34mQues\u001b[m\u001b[m\r\n",
      "\u001b[31mpandasPractice_Baseball_Iris_Slaughter.ipynb\u001b[m\u001b[m\r\n",
      "\u001b[31mpandasPractice_Football.ipynb\u001b[m\u001b[m\r\n",
      "\u001b[31mpandasPractice_MovieLens.ipynb\u001b[m\u001b[m\r\n",
      "q4.py\r\n"
     ]
    }
   ],
   "source": [
    "!ls"
   ]
  },
  {
   "cell_type": "code",
   "execution_count": 3,
   "metadata": {
    "collapsed": false,
    "scrolled": true
   },
   "outputs": [
    {
     "data": {
      "text/plain": [
       "['u.data', 'u.item', 'u.user']"
      ]
     },
     "execution_count": 3,
     "metadata": {},
     "output_type": "execute_result"
    }
   ],
   "source": [
    "os.listdir(path + '/Data')"
   ]
  },
  {
   "cell_type": "markdown",
   "metadata": {},
   "source": [
    "---\n",
    "\n",
    "## Inspect Data\n",
    "\n",
    "- First try importing a sample of the file to get an idea of \n",
    "    - delimiter\n",
    "    - data types for each column (especially watch out for columns with mixed types)\n",
    "    - missing value indicators\n",
    "- Then, import the whole file\n",
    "\n",
    "---\n",
    "\n",
    "#### 1. Use CLI commands to inspect your file without opening/importing it"
   ]
  },
  {
   "cell_type": "code",
   "execution_count": 4,
   "metadata": {
    "collapsed": false
   },
   "outputs": [],
   "source": [
    "os.chdir(path + '/Data/')"
   ]
  },
  {
   "cell_type": "code",
   "execution_count": 5,
   "metadata": {
    "collapsed": false
   },
   "outputs": [
    {
     "name": "stdout",
     "output_type": "stream",
     "text": [
      "\u001b[31mu.data\u001b[m\u001b[m \u001b[31mu.item\u001b[m\u001b[m \u001b[31mu.user\u001b[m\u001b[m\r\n"
     ]
    }
   ],
   "source": [
    "!ls"
   ]
  },
  {
   "cell_type": "code",
   "execution_count": 6,
   "metadata": {
    "collapsed": false
   },
   "outputs": [
    {
     "name": "stdout",
     "output_type": "stream",
     "text": [
      "1|24|M|technician|85711\r\n",
      "2|53|F|other|94043\r\n",
      "3|23|M|writer|32067\r\n",
      "4|24|M|technician|43537\r\n",
      "5|33|F|other|15213\r\n"
     ]
    }
   ],
   "source": [
    "! head -n 5 u.user"
   ]
  },
  {
   "cell_type": "code",
   "execution_count": 7,
   "metadata": {
    "collapsed": false
   },
   "outputs": [
    {
     "name": "stdout",
     "output_type": "stream",
     "text": [
      "     943 u.user\r\n"
     ]
    }
   ],
   "source": [
    "!wc -l u.user"
   ]
  },
  {
   "cell_type": "code",
   "execution_count": 8,
   "metadata": {
    "collapsed": false
   },
   "outputs": [
    {
     "name": "stdout",
     "output_type": "stream",
     "text": [
      "1|Toy Story (1995)|01-Jan-1995||http://us.imdb.com/M/title-exact?Toy%20Story%20(1995)|0|0|0|1|1|1|0|0|0|0|0|0|0|0|0|0|0|0|0\r\n",
      "2|GoldenEye (1995)|01-Jan-1995||http://us.imdb.com/M/title-exact?GoldenEye%20(1995)|0|1|1|0|0|0|0|0|0|0|0|0|0|0|0|0|1|0|0\r\n",
      "3|Four Rooms (1995)|01-Jan-1995||http://us.imdb.com/M/title-exact?Four%20Rooms%20(1995)|0|0|0|0|0|0|0|0|0|0|0|0|0|0|0|0|1|0|0\r\n",
      "4|Get Shorty (1995)|01-Jan-1995||http://us.imdb.com/M/title-exact?Get%20Shorty%20(1995)|0|1|0|0|0|1|0|0|1|0|0|0|0|0|0|0|0|0|0\r\n",
      "5|Copycat (1995)|01-Jan-1995||http://us.imdb.com/M/title-exact?Copycat%20(1995)|0|0|0|0|0|0|1|0|1|0|0|0|0|0|0|0|1|0|0\r\n",
      "6|Shanghai Triad (Yao a yao yao dao waipo qiao) (1995)|01-Jan-1995||http://us.imdb.com/Title?Yao+a+yao+yao+dao+waipo+qiao+(1995)|0|0|0|0|0|0|0|0|1|0|0|0|0|0|0|0|0|0|0\r\n",
      "7|Twelve Monkeys (1995)|01-Jan-1995||http://us.imdb.com/M/title-exact?Twelve%20Monkeys%20(1995)|0|0|0|0|0|0|0|0|1|0|0|0|0|0|0|1|0|0|0\r\n",
      "8|Babe (1995)|01-Jan-1995||http://us.imdb.com/M/title-exact?Babe%20(1995)|0|0|0|0|1|1|0|0|1|0|0|0|0|0|0|0|0|0|0\r\n",
      "9|Dead Man Walking (1995)|01-Jan-1995||http://us.imdb.com/M/title-exact?Dead%20Man%20Walking%20(1995)|0|0|0|0|0|0|0|0|1|0|0|0|0|0|0|0|0|0|0\r\n"
     ]
    }
   ],
   "source": [
    "! head -n 9 u.item"
   ]
  },
  {
   "cell_type": "code",
   "execution_count": 9,
   "metadata": {
    "collapsed": false
   },
   "outputs": [
    {
     "name": "stdout",
     "output_type": "stream",
     "text": [
      "    1682 u.item\r\n"
     ]
    }
   ],
   "source": [
    "!wc -l u.item"
   ]
  },
  {
   "cell_type": "code",
   "execution_count": 10,
   "metadata": {
    "collapsed": false
   },
   "outputs": [
    {
     "name": "stdout",
     "output_type": "stream",
     "text": [
      "196\t242\t3\t881250949\r\n",
      "186\t302\t3\t891717742\r\n",
      "22\t377\t1\t878887116\r\n",
      "244\t51\t2\t880606923\r\n",
      "166\t346\t1\t886397596\r\n",
      "298\t474\t4\t884182806\r\n",
      "115\t265\t2\t881171488\r\n",
      "253\t465\t5\t891628467\r\n",
      "305\t451\t3\t886324817\r\n"
     ]
    }
   ],
   "source": [
    "! head -n 9 u.data"
   ]
  },
  {
   "cell_type": "code",
   "execution_count": 11,
   "metadata": {
    "collapsed": false
   },
   "outputs": [
    {
     "name": "stdout",
     "output_type": "stream",
     "text": [
      "  100000 u.data\r\n"
     ]
    }
   ],
   "source": [
    "!wc -l u.data"
   ]
  },
  {
   "cell_type": "markdown",
   "metadata": {},
   "source": [
    "### We find that \n",
    "\n",
    "- There are different delimiters in each file\n",
    "- The column names aren't provided, so we'll have to supply them\n",
    "---"
   ]
  },
  {
   "cell_type": "markdown",
   "metadata": {},
   "source": [
    "## Import Data\n",
    "\n",
    "- `read_csv()` arguments used here\n",
    "    - `sep=`, \n",
    "    - `names=` \n",
    "    - `usecols=`   \n",
    "\n",
    "### 1. Users data"
   ]
  },
  {
   "cell_type": "code",
   "execution_count": 12,
   "metadata": {
    "collapsed": false
   },
   "outputs": [
    {
     "data": {
      "text/plain": [
       "   user_id  age sex  occupation zip_code\n",
       "0        1   24   M  technician    85711\n",
       "1        2   53   F       other    94043\n",
       "2        3   23   M      writer    32067\n",
       "3        4   24   M  technician    43537\n",
       "4        5   33   F       other    15213"
      ]
     },
     "execution_count": 12,
     "metadata": {},
     "output_type": "execute_result"
    }
   ],
   "source": [
    "# pass in column names for each CSV\n",
    "u_cols = ['user_id', 'age', 'sex', 'occupation', 'zip_code']\n",
    "\n",
    "users = pd.read_csv(path + '/Data/u.user', sep='|', names=u_cols)\n",
    "users.head()"
   ]
  },
  {
   "cell_type": "markdown",
   "metadata": {},
   "source": [
    "### 2. Ratings data"
   ]
  },
  {
   "cell_type": "code",
   "execution_count": 13,
   "metadata": {
    "collapsed": false
   },
   "outputs": [
    {
     "data": {
      "text/plain": [
       "   user_id  movie_id  rating  unix_timestamp\n",
       "0      196       242       3       881250949\n",
       "1      186       302       3       891717742\n",
       "2       22       377       1       878887116\n",
       "3      244        51       2       880606923\n",
       "4      166       346       1       886397596"
      ]
     },
     "execution_count": 13,
     "metadata": {},
     "output_type": "execute_result"
    }
   ],
   "source": [
    "r_cols = ['user_id', 'movie_id', 'rating', 'unix_timestamp']\n",
    "\n",
    "ratings = pd.read_csv(path + '/Data/u.data', sep='\\t', names=r_cols)\n",
    "ratings.head()"
   ]
  },
  {
   "cell_type": "code",
   "execution_count": 14,
   "metadata": {
    "collapsed": false
   },
   "outputs": [],
   "source": [
    "ratings['timestamp'] = pd.to_datetime(ratings['unix_timestamp'], unit='s')\n",
    "\n",
    "ratings.drop('unix_timestamp', axis=1, inplace=True)"
   ]
  },
  {
   "cell_type": "code",
   "execution_count": 15,
   "metadata": {
    "collapsed": false
   },
   "outputs": [
    {
     "data": {
      "text/plain": [
       "   user_id  movie_id  rating           timestamp\n",
       "0      196       242       3 1997-12-04 15:55:49\n",
       "1      186       302       3 1998-04-04 19:22:22\n",
       "2       22       377       1 1997-11-07 07:18:36\n",
       "3      244        51       2 1997-11-27 05:02:03\n",
       "4      166       346       1 1998-02-02 05:33:16"
      ]
     },
     "execution_count": 15,
     "metadata": {},
     "output_type": "execute_result"
    }
   ],
   "source": [
    "ratings.head()"
   ]
  },
  {
   "cell_type": "markdown",
   "metadata": {},
   "source": [
    "### 3. Movies Data\n",
    "\n",
    "- the movies file contains columns indicating the movie's genres\n",
    "- let's only load the first five columns of the file with usecols"
   ]
  },
  {
   "cell_type": "code",
   "execution_count": 16,
   "metadata": {
    "collapsed": false,
    "scrolled": true
   },
   "outputs": [
    {
     "name": "stdout",
     "output_type": "stream",
     "text": [
      "   movie_id              title release_date  video_release_date  \\\n",
      "0         1   Toy Story (1995)  01-Jan-1995                 NaN   \n",
      "1         2   GoldenEye (1995)  01-Jan-1995                 NaN   \n",
      "2         3  Four Rooms (1995)  01-Jan-1995                 NaN   \n",
      "3         4  Get Shorty (1995)  01-Jan-1995                 NaN   \n",
      "4         5     Copycat (1995)  01-Jan-1995                 NaN   \n",
      "\n",
      "                                            imdb_url  \n",
      "0  http://us.imdb.com/M/title-exact?Toy%20Story%2...  \n",
      "1  http://us.imdb.com/M/title-exact?GoldenEye%20(...  \n",
      "2  http://us.imdb.com/M/title-exact?Four%20Rooms%...  \n",
      "3  http://us.imdb.com/M/title-exact?Get%20Shorty%...  \n",
      "4  http://us.imdb.com/M/title-exact?Copycat%20(1995)  \n"
     ]
    }
   ],
   "source": [
    "m_cols = ['movie_id', 'title', 'release_date', 'video_release_date', 'imdb_url']\n",
    "\n",
    "movies = pd.read_csv(path + '/Data/u.item', sep='|', names=m_cols, usecols=range(5))\n",
    "print movies.head()"
   ]
  },
  {
   "cell_type": "code",
   "execution_count": 17,
   "metadata": {
    "collapsed": false
   },
   "outputs": [],
   "source": [
    "movies['release_date'] = movies.release_date.map(lambda x: pd.to_datetime(x))"
   ]
  },
  {
   "cell_type": "code",
   "execution_count": 18,
   "metadata": {
    "collapsed": false
   },
   "outputs": [
    {
     "data": {
      "text/plain": [
       "   movie_id              title release_date  video_release_date  \\\n",
       "0         1   Toy Story (1995)   1995-01-01                 NaN   \n",
       "1         2   GoldenEye (1995)   1995-01-01                 NaN   \n",
       "2         3  Four Rooms (1995)   1995-01-01                 NaN   \n",
       "3         4  Get Shorty (1995)   1995-01-01                 NaN   \n",
       "4         5     Copycat (1995)   1995-01-01                 NaN   \n",
       "\n",
       "                                            imdb_url  \n",
       "0  http://us.imdb.com/M/title-exact?Toy%20Story%2...  \n",
       "1  http://us.imdb.com/M/title-exact?GoldenEye%20(...  \n",
       "2  http://us.imdb.com/M/title-exact?Four%20Rooms%...  \n",
       "3  http://us.imdb.com/M/title-exact?Get%20Shorty%...  \n",
       "4  http://us.imdb.com/M/title-exact?Copycat%20(1995)  "
      ]
     },
     "execution_count": 18,
     "metadata": {},
     "output_type": "execute_result"
    }
   ],
   "source": [
    "movies.head()"
   ]
  },
  {
   "cell_type": "markdown",
   "metadata": {},
   "source": [
    "---\n",
    "\n",
    "## Explore Data\n",
    "\n",
    "### The `.dtypes` method"
   ]
  },
  {
   "cell_type": "code",
   "execution_count": 19,
   "metadata": {
    "collapsed": false
   },
   "outputs": [
    {
     "name": "stdout",
     "output_type": "stream",
     "text": [
      "movie_id                       int64\n",
      "title                         object\n",
      "release_date          datetime64[ns]\n",
      "video_release_date           float64\n",
      "imdb_url                      object\n",
      "dtype: object \n",
      "\n",
      "user_id               int64\n",
      "movie_id              int64\n",
      "rating                int64\n",
      "timestamp    datetime64[ns]\n",
      "dtype: object \n",
      "\n",
      "user_id        int64\n",
      "age            int64\n",
      "sex           object\n",
      "occupation    object\n",
      "zip_code      object\n",
      "dtype: object\n"
     ]
    }
   ],
   "source": [
    "# for getting basic information about your DataFrame, try\n",
    "print movies.dtypes, '\\n'\n",
    "print ratings.dtypes, '\\n'\n",
    "print users.dtypes"
   ]
  },
  {
   "cell_type": "markdown",
   "metadata": {},
   "source": [
    "### The `describe()` method\n",
    "\n",
    "is great for seeing basic statistics about ALL numeric columns in a dataset."
   ]
  },
  {
   "cell_type": "code",
   "execution_count": 20,
   "metadata": {
    "collapsed": false
   },
   "outputs": [
    {
     "data": {
      "text/plain": [
       "count    943.000000\n",
       "mean      34.051962\n",
       "std       12.192740\n",
       "min        7.000000\n",
       "25%       25.000000\n",
       "50%       31.000000\n",
       "75%       43.000000\n",
       "max       73.000000\n",
       "Name: age, dtype: float64"
      ]
     },
     "execution_count": 20,
     "metadata": {},
     "output_type": "execute_result"
    }
   ],
   "source": [
    "users.describe()['age']"
   ]
  },
  {
   "cell_type": "code",
   "execution_count": 24,
   "metadata": {
    "collapsed": false
   },
   "outputs": [
    {
     "data": {
      "image/png": "[encoded data removed]",
      "text/plain": [
       "<matplotlib.figure.Figure at 0x100737710>"
      ]
     },
     "metadata": {},
     "output_type": "display_data"
    }
   ],
   "source": [
    "users['age'].plot.hist();"
   ]
  },
  {
   "cell_type": "code",
   "execution_count": 21,
   "metadata": {
    "collapsed": false
   },
   "outputs": [
    {
     "data": {
      "text/plain": [
       "count    100000.000000\n",
       "mean          3.529860\n",
       "std           1.125674\n",
       "min           1.000000\n",
       "25%           3.000000\n",
       "50%           4.000000\n",
       "75%           4.000000\n",
       "max           5.000000\n",
       "Name: rating, dtype: float64"
      ]
     },
     "execution_count": 21,
     "metadata": {},
     "output_type": "execute_result"
    }
   ],
   "source": [
    "ratings.describe()['rating']"
   ]
  },
  {
   "cell_type": "code",
   "execution_count": 23,
   "metadata": {
    "collapsed": false
   },
   "outputs": [
    {
     "data": {
      "image/png": "[encoded data removed]",
      "text/plain": [
       "<matplotlib.figure.Figure at 0x11729f510>"
      ]
     },
     "metadata": {},
     "output_type": "display_data"
    }
   ],
   "source": [
    "ratings['rating'].value_counts().sort_index().plot.bar();"
   ]
  },
  {
   "cell_type": "markdown",
   "metadata": {},
   "source": [
    "---\n",
    "## Slicing\n",
    "\n",
    "*** Selecting a single column*** from the DataFrame will return a Series object."
   ]
  },
  {
   "cell_type": "code",
   "execution_count": 25,
   "metadata": {
    "collapsed": false
   },
   "outputs": [
    {
     "data": {
      "text/plain": [
       "0    technician\n",
       "1         other\n",
       "2        writer\n",
       "3    technician\n",
       "4         other\n",
       "Name: occupation, dtype: object"
      ]
     },
     "execution_count": 25,
     "metadata": {},
     "output_type": "execute_result"
    }
   ],
   "source": [
    "users['occupation'].head()"
   ]
  },
  {
   "cell_type": "markdown",
   "metadata": {},
   "source": [
    "***To select multiple columns***, simply pass a list of column names to the DataFrame, the output of which will be a DataFrame."
   ]
  },
  {
   "cell_type": "code",
   "execution_count": 26,
   "metadata": {
    "collapsed": false
   },
   "outputs": [
    {
     "data": {
      "text/plain": [
       "   age zip_code\n",
       "0   24    85711\n",
       "1   53    94043\n",
       "2   23    32067\n",
       "3   24    43537\n",
       "4   33    15213"
      ]
     },
     "execution_count": 26,
     "metadata": {},
     "output_type": "execute_result"
    }
   ],
   "source": [
    "users[['age', 'zip_code']].head()"
   ]
  },
  {
   "cell_type": "markdown",
   "metadata": {},
   "source": [
    "***Row selection*** can be done multiple ways, but doing so by an individual index or boolean indexing are typically easiest."
   ]
  },
  {
   "cell_type": "code",
   "execution_count": 27,
   "metadata": {
    "collapsed": false
   },
   "outputs": [
    {
     "name": "stdout",
     "output_type": "stream",
     "text": [
      "   user_id  age sex occupation zip_code\n",
      "1        2   53   F      other    94043\n",
      "4        5   33   F      other    15213\n",
      "5        6   42   M  executive    98101\n",
      "\n",
      "\n",
      "     user_id  age sex  occupation zip_code\n",
      "18        19   40   M   librarian    02138\n",
      "82        83   40   M       other    44133\n",
      "115      116   40   M  healthcare    97232\n",
      "\n",
      "\n",
      "   user_id  age sex  occupation zip_code\n",
      "0        1   24   M  technician    85711\n",
      "1        2   53   F       other    94043\n",
      "2        3   23   M      writer    32067\n"
     ]
    }
   ],
   "source": [
    "# users older than 25\n",
    "print users[users.age > 25].head(3)\n",
    "print '\\n'\n",
    "\n",
    "# users aged 40 AND male\n",
    "print users[(users.age == 40) & (users.sex == 'M')].head(3)\n",
    "print '\\n'\n",
    "\n",
    "# users younger than 30 OR female\n",
    "print users[(users.sex == 'F') | (users.age < 30)].head(3)"
   ]
  },
  {
   "cell_type": "markdown",
   "metadata": {},
   "source": [
    "-------------------------------------------------------------------------------------------------"
   ]
  },
  {
   "cell_type": "markdown",
   "metadata": {},
   "source": [
    "## Using `set_index`  \n",
    "\n",
    "\n",
    "The default (automatically generated) index is mostly meaningless. We can change it using the `set_index()` method. \n",
    "\n",
    "Let's set it to the `user_id`. \n",
    "\n",
    "By default, `set_index` returns a new DataFrame, so you'll have to specify if you'd like the changes to occur in place."
   ]
  },
  {
   "cell_type": "code",
   "execution_count": 28,
   "metadata": {
    "collapsed": false
   },
   "outputs": [
    {
     "name": "stdout",
     "output_type": "stream",
     "text": [
      "         age sex  occupation zip_code\n",
      "user_id                              \n",
      "1         24   M  technician    85711\n",
      "2         53   F       other    94043\n",
      "3         23   M      writer    32067\n",
      "4         24   M  technician    43537\n",
      "5         33   F       other    15213\n",
      "\n",
      "\n",
      "   user_id  age sex  occupation zip_code\n",
      "0        1   24   M  technician    85711\n",
      "1        2   53   F       other    94043\n",
      "2        3   23   M      writer    32067\n",
      "3        4   24   M  technician    43537\n",
      "4        5   33   F       other    15213\n",
      "\n",
      " Changes weren't applied. \n",
      "\n",
      "\n",
      "         age sex  occupation zip_code\n",
      "user_id                              \n",
      "1         24   M  technician    85711\n",
      "2         53   F       other    94043\n",
      "3         23   M      writer    32067\n",
      "4         24   M  technician    43537\n",
      "5         33   F       other    15213\n",
      "\n",
      " Changes were applied. \n",
      "\n",
      "\n"
     ]
    }
   ],
   "source": [
    "print users.set_index('user_id').head()\n",
    "print '\\n'\n",
    "\n",
    "print users.head()\n",
    "print \"\\n Changes weren't applied. \\n\\n\"\n",
    "\n",
    "users.set_index('user_id', inplace=True)\n",
    "print users.head()\n",
    "print \"\\n Changes were applied. \\n\\n\""
   ]
  },
  {
   "cell_type": "code",
   "execution_count": null,
   "metadata": {
    "collapsed": false
   },
   "outputs": [],
   "source": [
    "# To modify the df without creating a copy, use inplace=True\n",
    "users.set_index('user_id', inplace=True)\n",
    "users.head()"
   ]
  },
  {
   "cell_type": "markdown",
   "metadata": {},
   "source": [
    "If we realize later that we liked the old pandas default index, we can just use ***`reset_index`*** \n",
    "\n",
    "The same rules for inplace apply."
   ]
  },
  {
   "cell_type": "code",
   "execution_count": 29,
   "metadata": {
    "collapsed": false
   },
   "outputs": [
    {
     "name": "stdout",
     "output_type": "stream",
     "text": [
      "   user_id  age sex  occupation zip_code\n",
      "0        1   24   M  technician    85711\n",
      "1        2   53   F       other    94043\n",
      "2        3   23   M      writer    32067\n",
      "3        4   24   M  technician    43537\n",
      "4        5   33   F       other    15213\n"
     ]
    }
   ],
   "source": [
    "users.reset_index(inplace=True)\n",
    "print users.head()"
   ]
  },
  {
   "cell_type": "markdown",
   "metadata": {},
   "source": [
    "We can ***select rows based on the index*** using _the ix method_."
   ]
  },
  {
   "cell_type": "code",
   "execution_count": null,
   "metadata": {
    "collapsed": false
   },
   "outputs": [],
   "source": [
    "print users.ix[99]\n",
    "print '\\n'\n",
    "print users.ix[[1, 50, 300]]"
   ]
  },
  {
   "cell_type": "markdown",
   "metadata": {},
   "source": [
    "-------------------------------------------------------------------------------------------------"
   ]
  },
  {
   "cell_type": "markdown",
   "metadata": {},
   "source": [
    "## Sorting\n",
    "\n",
    "To sort a DataFrame, we use the `sort_values` method"
   ]
  },
  {
   "cell_type": "code",
   "execution_count": 30,
   "metadata": {
    "collapsed": false
   },
   "outputs": [
    {
     "data": {
      "text/plain": [
       "     user_id  age sex     occupation zip_code\n",
       "480      481   73   M        retired    37771\n",
       "802      803   70   M  administrator    78212\n",
       "766      767   70   M       engineer    00000\n",
       "859      860   70   F        retired    48322\n",
       "584      585   69   M      librarian    98501"
      ]
     },
     "execution_count": 30,
     "metadata": {},
     "output_type": "execute_result"
    }
   ],
   "source": [
    "# To sort a DataFrame: users in descending order of age\n",
    "users.sort_values(by='age', ascending=False, inplace=True)\n",
    "users.head()"
   ]
  },
  {
   "cell_type": "code",
   "execution_count": 31,
   "metadata": {
    "collapsed": false
   },
   "outputs": [
    {
     "data": {
      "text/plain": [
       "480    73\n",
       "802    70\n",
       "766    70\n",
       "859    70\n",
       "584    69\n",
       "Name: age, dtype: int64"
      ]
     },
     "execution_count": 31,
     "metadata": {},
     "output_type": "execute_result"
    }
   ],
   "source": [
    "# To sort a Series\n",
    "users['age'].sort_values(ascending=False).head()"
   ]
  },
  {
   "cell_type": "markdown",
   "metadata": {},
   "source": [
    "-------------------------------------------------------------------------------------------------"
   ]
  },
  {
   "cell_type": "markdown",
   "metadata": {},
   "source": [
    "## Join! (merging)\n",
    "With the movie data, it's possible for a user to be associated with zero or many ratings and movies. \n",
    "\n",
    "Likewise, a movie can be rated zero or many times, by a number of different users.\n",
    "\n",
    "`pandas.merge` allows two DataFrames to be joined on one or more keys. The function provides a series of parameters (`on, left_on, right_on, left_index, right_index`) allowing you to specify the columns or indexes on which to join.\n",
    "\n",
    "By default, pandas.merge operates as an inner join, which can be changed using ***the `how` parameter.***"
   ]
  },
  {
   "cell_type": "code",
   "execution_count": 32,
   "metadata": {
    "collapsed": false
   },
   "outputs": [
    {
     "name": "stdout",
     "output_type": "stream",
     "text": [
      "   key left_value\n",
      "0    0          a\n",
      "1    1          b\n",
      "2    2          c\n",
      "3    3          d\n",
      "4    4          e\n",
      "\n",
      "\n",
      "   key right_value\n",
      "0    2           f\n",
      "1    3           g\n",
      "2    4           h\n",
      "3    5           i\n",
      "4    6           j\n"
     ]
    }
   ],
   "source": [
    "left_frame = pd.DataFrame({'key': range(5), \n",
    "                           'left_value': ['a', 'b', 'c', 'd', 'e']})\n",
    "right_frame = pd.DataFrame({'key': range(2, 7), \n",
    "                           'right_value': ['f', 'g', 'h', 'i', 'j']})\n",
    "print left_frame\n",
    "print '\\n'\n",
    "print right_frame\n"
   ]
  },
  {
   "cell_type": "code",
   "execution_count": 33,
   "metadata": {
    "collapsed": false
   },
   "outputs": [
    {
     "data": {
      "text/plain": [
       "   key left_value right_value\n",
       "0    2          c           f\n",
       "1    3          d           g\n",
       "2    4          e           h"
      ]
     },
     "execution_count": 33,
     "metadata": {},
     "output_type": "execute_result"
    }
   ],
   "source": [
    "pd.merge(left_frame, right_frame)"
   ]
  },
  {
   "cell_type": "markdown",
   "metadata": {},
   "source": [
    "#### pd.merge parameters\n",
    "\n",
    "* _Had our key columns not been named the same_, we could have used the ***left_on and right_on parameters*** to specify which fields to join from each frame.\n",
    "\n",
    "`pd.merge(left_frame, right_frame, left_on='left_key', right_on='right_key')`\n",
    "\n",
    "\n",
    "* Alternatively, _if our keys were indexes_, we could use the ***left_index or right_index parameters***, which accept a True/False value. \n",
    "\n",
    "\n",
    "\n",
    "You can ***mix and match columns and indexes*** like so: \n",
    "\n",
    "`pd.merge(left_frame, right_frame, left_on='key', right_index=True)`"
   ]
  },
  {
   "cell_type": "markdown",
   "metadata": {},
   "source": [
    "##### left/right outer join"
   ]
  },
  {
   "cell_type": "code",
   "execution_count": 34,
   "metadata": {
    "collapsed": false
   },
   "outputs": [
    {
     "data": {
      "text/plain": [
       "   key left_value right_value\n",
       "0    0          a         NaN\n",
       "1    1          b         NaN\n",
       "2    2          c           f\n",
       "3    3          d           g\n",
       "4    4          e           h"
      ]
     },
     "execution_count": 34,
     "metadata": {},
     "output_type": "execute_result"
    }
   ],
   "source": [
    "pd.merge(left_frame, right_frame, on='key', how='left')"
   ]
  },
  {
   "cell_type": "code",
   "execution_count": null,
   "metadata": {
    "collapsed": true
   },
   "outputs": [],
   "source": [
    "# We keep everything from the left frame, pulling in the value from the right frame where the keys match up. \n",
    "# The right_value is NULL where keys do not match (NaN)"
   ]
  },
  {
   "cell_type": "markdown",
   "metadata": {},
   "source": [
    "##### Full Outer Join"
   ]
  },
  {
   "cell_type": "code",
   "execution_count": 35,
   "metadata": {
    "collapsed": false
   },
   "outputs": [
    {
     "data": {
      "text/plain": [
       "   key left_value right_value\n",
       "0  0.0          a         NaN\n",
       "1  1.0          b         NaN\n",
       "2  2.0          c           f\n",
       "3  3.0          d           g\n",
       "4  4.0          e           h\n",
       "5  5.0        NaN           i\n",
       "6  6.0        NaN           j"
      ]
     },
     "execution_count": 35,
     "metadata": {},
     "output_type": "execute_result"
    }
   ],
   "source": [
    "pd.merge(left_frame, right_frame, on='key', how='outer')"
   ]
  },
  {
   "cell_type": "code",
   "execution_count": null,
   "metadata": {
    "collapsed": true
   },
   "outputs": [],
   "source": [
    "# We've kept everything from both frames, regardless of whether or not there was a match on both sides. \n",
    "# Where there was not a match, the values corresponding to that key are NULL."
   ]
  },
  {
   "cell_type": "markdown",
   "metadata": {},
   "source": [
    "-------------------------------------------------------------------------------------------------"
   ]
  },
  {
   "cell_type": "markdown",
   "metadata": {},
   "source": [
    "### Append! (concatenating/union-ing)"
   ]
  },
  {
   "cell_type": "markdown",
   "metadata": {},
   "source": [
    "`pandas.concat` takes a list of Series or DataFrames and returns a Series or DataFrame of the concatenated objects. \n",
    "\n",
    "Note that because the function takes list, you can combine many objects at once.\n",
    "\n",
    "*** By default**, the function will vertically append the objects to one another, combining columns with the same name. "
   ]
  },
  {
   "cell_type": "code",
   "execution_count": 36,
   "metadata": {
    "collapsed": false
   },
   "outputs": [
    {
     "data": {
      "text/plain": [
       "   key left_value right_value\n",
       "0    0          a         NaN\n",
       "1    1          b         NaN\n",
       "2    2          c         NaN\n",
       "3    3          d         NaN\n",
       "4    4          e         NaN\n",
       "0    2        NaN           f\n",
       "1    3        NaN           g\n",
       "2    4        NaN           h\n",
       "3    5        NaN           i\n",
       "4    6        NaN           j"
      ]
     },
     "execution_count": 36,
     "metadata": {},
     "output_type": "execute_result"
    }
   ],
   "source": [
    "pd.concat([left_frame, right_frame])"
   ]
  },
  {
   "cell_type": "markdown",
   "metadata": {},
   "source": [
    "We can see above that values not matching up will be NULL."
   ]
  },
  {
   "cell_type": "markdown",
   "metadata": {},
   "source": [
    "Additionally, objects can be _concatentated side-by-side_ using the function's ***`axis` parameter***"
   ]
  },
  {
   "cell_type": "code",
   "execution_count": 37,
   "metadata": {
    "collapsed": false
   },
   "outputs": [
    {
     "data": {
      "text/plain": [
       "   key left_value  key right_value\n",
       "0    0          a    2           f\n",
       "1    1          b    3           g\n",
       "2    2          c    4           h\n",
       "3    3          d    5           i\n",
       "4    4          e    6           j"
      ]
     },
     "execution_count": 37,
     "metadata": {},
     "output_type": "execute_result"
    }
   ],
   "source": [
    "pd.concat([left_frame, right_frame], axis=1)"
   ]
  },
  {
   "cell_type": "markdown",
   "metadata": {},
   "source": [
    "This is something like a cbind."
   ]
  },
  {
   "cell_type": "markdown",
   "metadata": {},
   "source": [
    "-------------------------------------------------------------------------------------------------"
   ]
  },
  {
   "cell_type": "markdown",
   "metadata": {},
   "source": [
    "### groupby!\n",
    "The pandas `groupby` method draws largely from the split-apply-combine strategy for data analysis.\n"
   ]
  },
  {
   "cell_type": "code",
   "execution_count": 38,
   "metadata": {
    "collapsed": false
   },
   "outputs": [],
   "source": [
    "sac = DataFrame({'numbers': np.random.randn(100), 'letters': list('abcde') * 20})"
   ]
  },
  {
   "cell_type": "code",
   "execution_count": 40,
   "metadata": {
    "collapsed": false
   },
   "outputs": [
    {
     "data": {
      "text/plain": [
       "  letters   numbers\n",
       "0       a -0.210776\n",
       "1       b  0.118037\n",
       "2       c  0.139282\n",
       "3       d -0.915439\n",
       "4       e -1.160759"
      ]
     },
     "execution_count": 40,
     "metadata": {},
     "output_type": "execute_result"
    }
   ],
   "source": [
    "sac[:5]"
   ]
  },
  {
   "cell_type": "code",
   "execution_count": 41,
   "metadata": {
    "collapsed": false
   },
   "outputs": [
    {
     "data": {
      "text/plain": [
       "          numbers\n",
       "letters          \n",
       "a        1.195089\n",
       "b       -7.605545\n",
       "c        0.707522\n",
       "d       -1.467606\n",
       "e       -1.350039"
      ]
     },
     "execution_count": 41,
     "metadata": {},
     "output_type": "execute_result"
    }
   ],
   "source": [
    "sac.groupby('letters').sum()"
   ]
  },
  {
   "cell_type": "code",
   "execution_count": 42,
   "metadata": {
    "collapsed": false
   },
   "outputs": [
    {
     "data": {
      "text/plain": [
       "         numbers\n",
       "letters         \n",
       "a             20\n",
       "b             20\n",
       "c             20\n",
       "d             20\n",
       "e             20"
      ]
     },
     "execution_count": 42,
     "metadata": {},
     "output_type": "execute_result"
    }
   ],
   "source": [
    "sac.groupby('letters').count()"
   ]
  },
  {
   "cell_type": "code",
   "execution_count": 43,
   "metadata": {
    "collapsed": false
   },
   "outputs": [
    {
     "data": {
      "text/plain": [
       "letters\n",
       "a    20\n",
       "b    20\n",
       "c    20\n",
       "d    20\n",
       "e    20\n",
       "dtype: int64"
      ]
     },
     "execution_count": 43,
     "metadata": {},
     "output_type": "execute_result"
    }
   ],
   "source": [
    "# NOTE: count() returns a DataFrame object, whereas size() returns a Series object\n",
    "sac.groupby('letters').size()"
   ]
  },
  {
   "cell_type": "code",
   "execution_count": 44,
   "metadata": {
    "collapsed": false
   },
   "outputs": [
    {
     "data": {
      "text/plain": [
       "d    20\n",
       "e    20\n",
       "b    20\n",
       "c    20\n",
       "a    20\n",
       "Name: letters, dtype: int64"
      ]
     },
     "execution_count": 44,
     "metadata": {},
     "output_type": "execute_result"
    }
   ],
   "source": [
    "# also;\n",
    "sac.letters.value_counts()"
   ]
  },
  {
   "cell_type": "code",
   "execution_count": null,
   "metadata": {
    "collapsed": false
   },
   "outputs": [],
   "source": [
    "# Let's find the youngest male reviewer by occupation"
   ]
  },
  {
   "cell_type": "code",
   "execution_count": 49,
   "metadata": {
    "collapsed": false
   },
   "outputs": [
    {
     "data": {
      "text/plain": [
       "     user_id  age sex     occupation zip_code\n",
       "480      481   73   M        retired    37771\n",
       "802      803   70   M  administrator    78212\n",
       "766      767   70   M       engineer    00000\n",
       "859      860   70   F        retired    48322\n",
       "584      585   69   M      librarian    98501"
      ]
     },
     "execution_count": 49,
     "metadata": {},
     "output_type": "execute_result"
    }
   ],
   "source": [
    "users.head()"
   ]
  },
  {
   "cell_type": "code",
   "execution_count": 54,
   "metadata": {
    "collapsed": false
   },
   "outputs": [
    {
     "data": {
      "text/plain": [
       "occupation\n",
       "administrator    21\n",
       "artist           20\n",
       "doctor           28\n",
       "educator         25\n",
       "engineer         22\n",
       "Name: age, dtype: int64"
      ]
     },
     "execution_count": 54,
     "metadata": {},
     "output_type": "execute_result"
    }
   ],
   "source": [
    "(users\n",
    " .groupby('occupation')\n",
    " .apply(lambda x: x[x['sex']=='M'].sort_values(by='age').iloc[0, :])\n",
    " .age\n",
    ").head(5)"
   ]
  },
  {
   "cell_type": "markdown",
   "metadata": {},
   "source": [
    "---\n",
    "## Tasks: Pandas on the MovieLens dataset"
   ]
  },
  {
   "cell_type": "code",
   "execution_count": null,
   "metadata": {
    "collapsed": true
   },
   "outputs": [],
   "source": []
  },
  {
   "cell_type": "markdown",
   "metadata": {
    "collapsed": false
   },
   "source": [
    "### Q0. Import and Merge the Data"
   ]
  },
  {
   "cell_type": "code",
   "execution_count": null,
   "metadata": {
    "collapsed": true
   },
   "outputs": [],
   "source": [
    "os.chdir(path + '/Ques/')"
   ]
  },
  {
   "cell_type": "code",
   "execution_count": 2,
   "metadata": {
    "collapsed": false
   },
   "outputs": [
    {
     "data": {
      "text/plain": [
       "   movie_id                  title release_date  video_release_date  \\\n",
       "0         1       Toy Story (1995)  01-Jan-1995                 NaN   \n",
       "1         4      Get Shorty (1995)  01-Jan-1995                 NaN   \n",
       "2         5         Copycat (1995)  01-Jan-1995                 NaN   \n",
       "3         7  Twelve Monkeys (1995)  01-Jan-1995                 NaN   \n",
       "4         8            Babe (1995)  01-Jan-1995                 NaN   \n",
       "\n",
       "                                            imdb_url  user_id  rating  \\\n",
       "0  http://us.imdb.com/M/title-exact?Toy%20Story%2...      308       4   \n",
       "1  http://us.imdb.com/M/title-exact?Get%20Shorty%...      308       5   \n",
       "2  http://us.imdb.com/M/title-exact?Copycat%20(1995)      308       4   \n",
       "3  http://us.imdb.com/M/title-exact?Twelve%20Monk...      308       4   \n",
       "4     http://us.imdb.com/M/title-exact?Babe%20(1995)      308       5   \n",
       "\n",
       "   unix_timestamp  age sex occupation zip_code  \n",
       "0       887736532   60   M    retired    95076  \n",
       "1       887737890   60   M    retired    95076  \n",
       "2       887739608   60   M    retired    95076  \n",
       "3       887738847   60   M    retired    95076  \n",
       "4       887736696   60   M    retired    95076  "
      ]
     },
     "execution_count": 2,
     "metadata": {},
     "output_type": "execute_result"
    }
   ],
   "source": [
    "# %%writefile Q0.py\n",
    "\n",
    "# IMPORT THE DATA\n",
    "\n",
    "u_cols = ['user_id', 'age', 'sex', 'occupation', 'zip_code']\n",
    "users = pd.read_csv(path + '/Data/u.user', sep='|', names=u_cols)\n",
    "\n",
    "r_cols = ['user_id', 'movie_id', 'rating', 'unix_timestamp']\n",
    "ratings = pd.read_csv(path + '/Data/u.data', sep='\\t', names=r_cols)\n",
    "\n",
    "# Load only the first five columns of the movies file with usecols\n",
    "m_cols = ['movie_id', 'title', 'release_date', 'video_release_date', 'imdb_url']\n",
    "movies = pd.read_csv(path + '/Data/u.item', sep='|', names=m_cols, usecols=range(5))\n",
    "\n",
    "# MERGE ALL THE DATA \n",
    "movie_ratings = pd.merge(movies, ratings)\n",
    "lens = pd.merge(movie_ratings, users)\n",
    "lens.head()"
   ]
  },
  {
   "cell_type": "markdown",
   "metadata": {},
   "source": [
    "### Q1. What are the 15 most rated movies?"
   ]
  },
  {
   "cell_type": "code",
   "execution_count": null,
   "metadata": {
    "collapsed": false,
    "scrolled": true
   },
   "outputs": [],
   "source": [
    "countdown(5 * 60)"
   ]
  },
  {
   "cell_type": "code",
   "execution_count": 59,
   "metadata": {
    "collapsed": false
   },
   "outputs": [
    {
     "name": "stdout",
     "output_type": "stream",
     "text": [
      "100 loops, best of 3: 8.12 ms per loop\n"
     ]
    }
   ],
   "source": [
    "%%timeit \n",
    "# %load q1.py\n",
    "\n",
    "# Use the size method to get the count of records in each group\n",
    "\n",
    "(lens\n",
    " .groupby('title')\n",
    " .size()\n",
    " .sort_values(ascending=False)[:15])"
   ]
  },
  {
   "cell_type": "code",
   "execution_count": 60,
   "metadata": {
    "collapsed": false
   },
   "outputs": [
    {
     "name": "stdout",
     "output_type": "stream",
     "text": [
      "100 loops, best of 3: 6.68 ms per loop\n"
     ]
    }
   ],
   "source": [
    "%%timeit\n",
    "# Aliter: \n",
    "# %timeit \n",
    "lens['title'].value_counts()[:15]"
   ]
  },
  {
   "cell_type": "markdown",
   "metadata": {},
   "source": [
    "### Q2. Which movies are most highly rated (average score over >100 votes)?"
   ]
  },
  {
   "cell_type": "code",
   "execution_count": null,
   "metadata": {
    "collapsed": false,
    "scrolled": false
   },
   "outputs": [],
   "source": [
    "countdown(5 * 60)"
   ]
  },
  {
   "cell_type": "code",
   "execution_count": 67,
   "metadata": {
    "collapsed": false
   },
   "outputs": [
    {
     "data": {
      "text/plain": [
       "title\n",
       "Schindler's List (1993)                   4.466443\n",
       "Casablanca (1942)                         4.456790\n",
       "Shawshank Redemption, The (1994)          4.445230\n",
       "Rear Window (1954)                        4.387560\n",
       "Usual Suspects, The (1995)                4.385768\n",
       "Star Wars (1977)                          4.358491\n",
       "Citizen Kane (1941)                       4.292929\n",
       "To Kill a Mockingbird (1962)              4.292237\n",
       "One Flew Over the Cuckoo's Nest (1975)    4.291667\n",
       "Silence of the Lambs, The (1991)          4.289744\n",
       "dtype: float64"
      ]
     },
     "execution_count": 67,
     "metadata": {},
     "output_type": "execute_result"
    }
   ],
   "source": [
    "# %load q2.py\n",
    "\n",
    "# movies with over 100 votes\n",
    "voted_150 = set(lens.title.value_counts()[lens.title.value_counts() > 150].index)\n",
    "\n",
    "(lens\n",
    " .loc[lens.title.isin(voted_150)]\n",
    " .groupby('title')\n",
    " .apply(lambda x: x['rating'].mean())\n",
    " .sort_values(ascending=False)[:10])"
   ]
  },
  {
   "cell_type": "markdown",
   "metadata": {},
   "source": [
    "### Q3. Which movies are most controversial amongst different age groups?\n",
    "\n",
    "> - Note:\n",
    "> - A high standard deviation in ratings across groups means that the different age groups gave ratings far from the mean\n",
    "> - Ignore the ratings of the 0-9 and 80-89 age groups because they pollute the results."
   ]
  },
  {
   "cell_type": "code",
   "execution_count": 76,
   "metadata": {
    "collapsed": false,
    "scrolled": true
   },
   "outputs": [
    {
     "name": "stdout",
     "output_type": "stream",
     "text": [
      "      age age_group\n",
      "0      60     60-69\n",
      "397    21     20-29\n",
      "459    33     30-39\n",
      "524    30     30-39\n",
      "782    23     20-29\n",
      "995    29     20-29\n",
      "1229   26     20-29\n",
      "1664   31     30-39\n",
      "1942   24     20-29\n",
      "2270   32     30-39\n"
     ]
    },
    {
     "data": {
      "image/png": "[encoded data removed]",
      "text/plain": [
       "<matplotlib.figure.Figure at 0x11b43e850>"
      ]
     },
     "metadata": {},
     "output_type": "display_data"
    }
   ],
   "source": [
    "# %load Q3.py\n",
    "\n",
    "# Distribution of users by age\n",
    "users['age'].hist(bins=30, color='k', alpha=0.7)\n",
    "plt.title('Count of Users (y-axis) by Age Groups (x-axis)')\n",
    "\n",
    "# Binning users into age groups\n",
    "bins = ['0-9', '10-19', '20-29', '30-39', '40-49', '50-59', '60-69', '70-79']\n",
    "\n",
    "# Create a new column\n",
    "lens['age_group'] = pd.cut(lens.age, range(0, 81, 10), right=False, labels=bins)\n",
    "\n",
    "# Check if binning went okay\n",
    "print lens[['age', 'age_group']].drop_duplicates()[:10]"
   ]
  },
  {
   "cell_type": "code",
   "execution_count": 85,
   "metadata": {
    "collapsed": false
   },
   "outputs": [
    {
     "data": {
      "text/plain": [
       "title\n",
       "Beavis and Butt-head Do America (1996)          0.910554\n",
       "Starship Troopers (1997)                        0.752654\n",
       "Boot, Das (1981)                                0.677041\n",
       "Fifth Element, The (1997)                       0.653465\n",
       "Speed (1994)                                    0.561025\n",
       "Birds, The (1963)                               0.473794\n",
       "Chasing Amy (1997)                              0.468521\n",
       "Pretty Woman (1990)                             0.461923\n",
       "Face/Off (1997)                                 0.455151\n",
       "Willy Wonka and the Chocolate Factory (1971)    0.443448\n",
       "                                                  ...   \n",
       "Apt Pupil (1998)                                0.107460\n",
       "Quiz Show (1994)                                0.105136\n",
       "L.A. Confidential (1997)                        0.104205\n",
       "Gandhi (1982)                                   0.100273\n",
       "Lion King, The (1994)                           0.093952\n",
       "Top Gun (1986)                                  0.093151\n",
       "Sleepless in Seattle (1993)                     0.092727\n",
       "Air Force One (1997)                            0.071499\n",
       "Contact (1997)                                  0.064854\n",
       "Young Frankenstein (1974)                       0.038383\n",
       "dtype: float64"
      ]
     },
     "execution_count": 85,
     "metadata": {},
     "output_type": "execute_result"
    }
   ],
   "source": [
    "(pd.pivot_table(data=lens.loc[lens.title.isin(voted_150), :], \n",
    "               index='title', \n",
    "               columns='age_group', \n",
    "               values='rating', \n",
    "               aggfunc=np.mean)\n",
    " .drop(['0-9', '70-79'], axis=1)\n",
    " .std(axis=1)\n",
    " .sort_values(ascending=False))"
   ]
  },
  {
   "cell_type": "code",
   "execution_count": 90,
   "metadata": {
    "collapsed": false
   },
   "outputs": [
    {
     "data": {
      "text/plain": [
       "title\n",
       "Schindler's List (1993)                      1.326021\n",
       "Beavis and Butt-head Do America (1996)       0.910554\n",
       "Starship Troopers (1997)                     0.895718\n",
       "Saint, The (1997)                            0.883850\n",
       "Boot, Das (1981)                             0.677041\n",
       "Boogie Nights (1997)                         0.675102\n",
       "Fifth Element, The (1997)                    0.653465\n",
       "Batman (1989)                                0.631338\n",
       "Star Trek: First Contact (1996)              0.630472\n",
       "George of the Jungle (1997)                  0.589372\n",
       "                                               ...   \n",
       "L.A. Confidential (1997)                     0.122018\n",
       "Mission: Impossible (1996)                   0.121790\n",
       "Mars Attacks! (1996)                         0.120179\n",
       "Mr. Holland's Opus (1995)                    0.119976\n",
       "Indiana Jones and the Last Crusade (1989)    0.111852\n",
       "Quiz Show (1994)                             0.105136\n",
       "Gandhi (1982)                                0.100273\n",
       "Lion King, The (1994)                        0.093952\n",
       "Air Force One (1997)                         0.065897\n",
       "Young Frankenstein (1974)                    0.038383\n",
       "dtype: float64"
      ]
     },
     "execution_count": 90,
     "metadata": {},
     "output_type": "execute_result"
    }
   ],
   "source": [
    "# Method 2\n",
    "(lens\n",
    " .loc[lens.title.isin(voted_150), :]\n",
    " .groupby(['title', 'age_group'])\n",
    " .apply(lambda x: x.rating.mean())\n",
    ").unstack().std(axis=1).sort_values(ascending=False)\n",
    "### Using `unstack` to convert ***long-to-wide*** data\n",
    "\n",
    "# A high standard deviation in ratings across groups means that the different age groups gave ratings far from the mean\n",
    "# I'm ignoring the ratings of the 0-9 and 80-89 age groups because they pollute the results."
   ]
  },
  {
   "cell_type": "markdown",
   "metadata": {},
   "source": [
    "### Q4. Which movies do men and women most disagree on?"
   ]
  },
  {
   "cell_type": "code",
   "execution_count": null,
   "metadata": {
    "collapsed": false,
    "scrolled": false
   },
   "outputs": [],
   "source": [
    "countdown(5 * 60)"
   ]
  },
  {
   "cell_type": "code",
   "execution_count": 91,
   "metadata": {
    "collapsed": false
   },
   "outputs": [],
   "source": [
    "# %load Q4.py\n",
    "\n",
    "pivoted=pd.pivot_table(lens,\n",
    "                       index=['title'],\n",
    "                       columns=['sex'],\n",
    "                       values='rating',\n",
    "                       aggfunc=np.mean,\n",
    "                       fill_value=0)\n",
    "# print pd.concat([pivoted.head(), pivoted.tail()])"
   ]
  },
  {
   "cell_type": "code",
   "execution_count": 93,
   "metadata": {
    "collapsed": false
   },
   "outputs": [],
   "source": [
    "pivoted.reset_index(inplace=True)"
   ]
  },
  {
   "cell_type": "code",
   "execution_count": 94,
   "metadata": {
    "collapsed": true
   },
   "outputs": [],
   "source": [
    "pivoted = pivoted[pivoted.title.isin(voted_150)]"
   ]
  },
  {
   "cell_type": "code",
   "execution_count": 100,
   "metadata": {
    "collapsed": false
   },
   "outputs": [
    {
     "name": "stderr",
     "output_type": "stream",
     "text": [
      "/Users/lr/anaconda2/lib/python2.7/site-packages/pandas/core/indexing.py:465: SettingWithCopyWarning: \n",
      "A value is trying to be set on a copy of a slice from a DataFrame.\n",
      "Try using .loc[row_indexer,col_indexer] = value instead\n",
      "\n",
      "See the caveats in the documentation: http://pandas.pydata.org/pandas-docs/stable/indexing.html#indexing-view-versus-copy\n",
      "  self.obj[item] = s\n"
     ]
    }
   ],
   "source": [
    "pivoted.loc[:, 'diff'] = pivoted.loc[:, 'M'] - pivoted.F"
   ]
  },
  {
   "cell_type": "code",
   "execution_count": 99,
   "metadata": {
    "collapsed": false,
    "scrolled": true
   },
   "outputs": [
    {
     "data": {
      "text/plain": [
       "sex                                    title      diff\n",
       "232     Bridge on the River Kwai, The (1957)  0.621978\n",
       "7               2001: A Space Odyssey (1968)  0.612732\n",
       "571                 Full Metal Jacket (1987)  0.587992\n",
       "143   Beavis and Butt-head Do America (1996)  0.587293\n",
       "317               Clockwork Orange, A (1971)  0.564379\n",
       "1397     Star Trek: The Wrath of Khan (1982)  0.535803\n",
       "1565                       Unforgiven (1992)  0.525040\n",
       "1461                  Terminator, The (1984)  0.512910\n",
       "519                Fifth Element, The (1997)  0.493380\n",
       "41                              Alien (1979)  0.462690\n",
       "...                                      ...       ...\n",
       "1297            Sense and Sensibility (1995) -0.374019\n",
       "1588                          Volcano (1997) -0.377441\n",
       "618                Gone with the Wind (1939) -0.404558\n",
       "1149                       Piano, The (1993) -0.412500\n",
       "733                          In & Out (1997) -0.418925\n",
       "1016           Much Ado About Nothing (1993) -0.464463\n",
       "596                             Ghost (1990) -0.518182\n",
       "1365              Sound of Music, The (1965) -0.595374\n",
       "631                            Grease (1978) -0.612793\n",
       "527             First Wives Club, The (1996) -0.748951\n",
       "\n",
       "[203 rows x 2 columns]"
      ]
     },
     "execution_count": 99,
     "metadata": {},
     "output_type": "execute_result"
    }
   ],
   "source": [
    "pivoted.sort_values('diff', ascending=False).loc[:, ['title', 'diff']]"
   ]
  }
 ],
 "metadata": {
  "anaconda-cloud": {},
  "kernelspec": {
   "display_name": "Python [Root]",
   "language": "python",
   "name": "Python [Root]"
  },
  "language_info": {
   "codemirror_mode": {
    "name": "ipython",
    "version": 2
   },
   "file_extension": ".py",
   "mimetype": "text/x-python",
   "name": "python",
   "nbconvert_exporter": "python",
   "pygments_lexer": "ipython2",
   "version": "2.7.12"
  }
 },
 "nbformat": 4,
 "nbformat_minor": 0
}
