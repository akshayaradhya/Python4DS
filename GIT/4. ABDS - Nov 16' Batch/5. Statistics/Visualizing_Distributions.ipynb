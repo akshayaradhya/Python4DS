{
 "cells": [
  {
   "cell_type": "code",
   "execution_count": 1,
   "metadata": {
    "collapsed": true
   },
   "outputs": [],
   "source": [
    "%matplotlib inline\n",
    "\n",
    "import io\n",
    "import numpy as np\n",
    "import pandas as pd\n",
    "import scipy.stats as stats\n",
    "import matplotlib\n",
    "import matplotlib.pyplot as plt\n",
    "\n",
    "matplotlib.rcParams['figure.figsize'] = (16.0, 14.0)\n",
    "matplotlib.style.use('ggplot')"
   ]
  },
  {
   "cell_type": "code",
   "execution_count": 2,
   "metadata": {
    "collapsed": false
   },
   "outputs": [
    {
     "name": "stderr",
     "output_type": "stream",
     "text": [
      "/Users/lr/anaconda2/lib/python2.7/site-packages/IPython/html.py:14: ShimWarning: The `IPython.html` package has been deprecated. You should import from `notebook` instead. `IPython.html.widgets` has moved to `ipywidgets`.\n",
      "  \"`IPython.html.widgets` has moved to `ipywidgets`.\", ShimWarning)\n"
     ]
    }
   ],
   "source": [
    "from ipywidgets import *\n",
    "from IPython.display import display\n",
    "from IPython.html import widgets"
   ]
  },
  {
   "cell_type": "code",
   "execution_count": 3,
   "metadata": {
    "collapsed": false
   },
   "outputs": [],
   "source": [
    "DISTRIBUTIONS = [\n",
    "    stats.alpha(a=3.57, loc=0.0, scale=1.0), \n",
    "    stats.anglit(loc=0.0, scale=1.0), \n",
    "    stats.arcsine(loc=0.0, scale=1.0), \n",
    "    stats.beta(a=2.31, b=0.627, loc=0.0, scale=1.0), \n",
    "    stats.betaprime(a=5, b=6, loc=0.0, scale=1.0), \n",
    "    stats.bradford(c=0.299, loc=0.0, scale=1.0), \n",
    "    stats.burr(c=10.5, d=4.3, loc=0.0, scale=1.0), \n",
    "    stats.cauchy(loc=0.0, scale=1.0), \n",
    "    stats.chi(df=78, loc=0.0, scale=1.0), \n",
    "    stats.chi2(df=55, loc=0.0, scale=1.0), \n",
    "    stats.cosine(loc=0.0, scale=1.0), \n",
    "    stats.dgamma(a=1.1, loc=0.0, scale=1.0), \n",
    "    stats.dweibull(c=2.07, loc=0.0, scale=1.0), \n",
    "    stats.erlang(a=2, loc=0.0, scale=1.0), \n",
    "    stats.expon(loc=0.0, scale=1.0), \n",
    "    stats.exponnorm(K=1.5, loc=0.0, scale=1.0), \n",
    "    stats.exponweib(a=2.89, c=1.95, loc=0.0, scale=1.0), \n",
    "    stats.exponpow(b=2.7, loc=0.0, scale=1.0), \n",
    "    stats.f(dfn=29, dfd=18, loc=0.0, scale=1.0), \n",
    "    stats.fatiguelife(c=29, loc=0.0, scale=1.0), \n",
    "    stats.fisk(c=3.09, loc=0.0, scale=1.0), \n",
    "    stats.foldcauchy(c=4.72, loc=0.0, scale=1.0), \n",
    "    stats.foldnorm(c=1.95, loc=0.0, scale=1.0), \n",
    "    stats.frechet_r(c=1.89, loc=0.0, scale=1.0), \n",
    "    stats.frechet_l(c=3.63, loc=0.0, scale=1.0), \n",
    "    stats.genlogistic(c=0.412, loc=0.0, scale=1.0), \n",
    "    stats.genpareto(c=0.1, loc=0.0, scale=1.0), \n",
    "    stats.gennorm(beta=1.3, loc=0.0, scale=1.0), \n",
    "    stats.genexpon(a=9.13, b=16.2, c=3.28, loc=0.0, scale=1.0), \n",
    "    stats.genextreme(c=-0.1, loc=0.0, scale=1.0),\n",
    "    stats.gausshyper(a=13.8, b=3.12, c=2.51, z=5.18, loc=0.0, scale=1.0), \n",
    "     stats.gamma(a=1.99, loc=0.0, scale=1.0), \n",
    "     stats.gengamma(a=4.42, c=-3.12, loc=0.0, scale=1.0), \n",
    "     stats.genhalflogistic(c=0.773, loc=0.0, scale=1.0), \n",
    "     stats.gilbrat(loc=0.0, scale=1.0), \n",
    "     stats.gompertz(c=0.947, loc=0.0, scale=1.0), \n",
    "     stats.gumbel_r(loc=0.0, scale=1.0), \n",
    "     stats.gumbel_l(loc=0.0, scale=1.0), \n",
    "     stats.halfcauchy(loc=0.0, scale=1.0), \n",
    "     stats.halflogistic(loc=0.0, scale=1.0), \n",
    "     stats.halfnorm(loc=0.0, scale=1.0), \n",
    "     stats.halfgennorm(beta=0.675, loc=0.0, scale=1.0), \n",
    "     stats.hypsecant(loc=0.0, scale=1.0), \n",
    "     stats.invgamma(a=4.07, loc=0.0, scale=1.0), \n",
    "     stats.invgauss(mu=0.145, loc=0.0, scale=1.0), \n",
    "     stats.invweibull(c=10.6, loc=0.0, scale=1.0), \n",
    "     stats.johnsonsb(a=4.32, b=3.18, loc=0.0, scale=1.0), \n",
    "     stats.johnsonsu(a=2.55, b=2.25, loc=0.0, scale=1.0), \n",
    "     stats.ksone(n=1e+03, loc=0.0, scale=1.0), \n",
    "     stats.kstwobign(loc=0.0, scale=1.0), \n",
    "     stats.laplace(loc=0.0, scale=1.0), \n",
    "     stats.levy(loc=0.0, scale=1.0), \n",
    "     stats.levy_l(loc=0.0, scale=1.0), \n",
    "     stats.levy_stable(alpha=0.357, beta=-0.675, loc=0.0, scale=1.0), \n",
    "     stats.logistic(loc=0.0, scale=1.0), \n",
    "     stats.loggamma(c=0.414, loc=0.0, scale=1.0), \n",
    "     stats.loglaplace(c=3.25, loc=0.0, scale=1.0), \n",
    "     stats.lognorm(s=0.954, loc=0.0, scale=1.0), \n",
    "     stats.lomax(c=1.88, loc=0.0, scale=1.0), \n",
    "     stats.maxwell(loc=0.0, scale=1.0), \n",
    "     stats.mielke(k=10.4, s=3.6, loc=0.0, scale=1.0), \n",
    "     stats.nakagami(nu=4.97, loc=0.0, scale=1.0), \n",
    "     stats.ncx2(df=21, nc=1.06, loc=0.0, scale=1.0), \n",
    "     stats.ncf(dfn=27, dfd=27, nc=0.416, loc=0.0, scale=1.0), \n",
    "     stats.nct(df=14, nc=0.24, loc=0.0, scale=1.0), \n",
    "     stats.norm(loc=0.0, scale=1.0), \n",
    "     stats.pareto(b=2.62, loc=0.0, scale=1.0), \n",
    "     stats.pearson3(skew=0.1, loc=0.0, scale=1.0), \n",
    "     stats.powerlaw(a=1.66, loc=0.0, scale=1.0), \n",
    "     stats.powerlognorm(c=2.14, s=0.446, loc=0.0, scale=1.0), \n",
    "     stats.powernorm(c=4.45, loc=0.0, scale=1.0), \n",
    "     stats.rdist(c=0.9, loc=0.0, scale=1.0), \n",
    "     stats.reciprocal(a=0.00623, b=1.01, loc=0.0, scale=1.0), \n",
    "     stats.rayleigh(loc=0.0, scale=1.0), \n",
    "     stats.rice(b=0.775, loc=0.0, scale=1.0), \n",
    "     stats.recipinvgauss(mu=0.63, loc=0.0, scale=1.0), \n",
    "     stats.semicircular(loc=0.0, scale=1.0), \n",
    "     stats.t(df=2.74, loc=0.0, scale=1.0), \n",
    "     stats.triang(c=0.158, loc=0.0, scale=1.0), \n",
    "     stats.truncexpon(b=4.69, loc=0.0, scale=1.0), \n",
    "     stats.truncnorm(a=0.1, b=2, loc=0.0, scale=1.0), \n",
    "     stats.tukeylambda(lam=3.13, loc=0.0, scale=1.0), \n",
    "     stats.uniform(loc=0.0, scale=1.0), \n",
    "     stats.vonmises(kappa=3.99, loc=0.0, scale=1.0), \n",
    "     stats.vonmises_line(kappa=3.99, loc=0.0, scale=1.0), \n",
    "     stats.wald(loc=0.0, scale=1.0), \n",
    "     stats.weibull_min(c=1.79, loc=0.0, scale=1.0), \n",
    "     stats.weibull_max(c=2.87, loc=0.0, scale=1.0), \n",
    "     stats.wrapcauchy(c=0.0311, loc=0.0, scale=1.0)]"
   ]
  },
  {
   "cell_type": "code",
   "execution_count": 4,
   "metadata": {
    "collapsed": false
   },
   "outputs": [
    {
     "name": "stdout",
     "output_type": "stream",
     "text": [
      "could not create data for levy_stable\n"
     ]
    }
   ],
   "source": [
    "bins = 32\n",
    "size = 16384\n",
    "plotData = {}\n",
    "\n",
    "for distribution in DISTRIBUTIONS:\n",
    "    try:  \n",
    "        # Create random data\n",
    "        rv = pd.Series(distribution.rvs(size=size))\n",
    "        \n",
    "        # Get sane start and end points of distribution\n",
    "        start = distribution.ppf(0.01)\n",
    "        end = distribution.ppf(0.99)\n",
    "\n",
    "        # Build PDF and turn into pandas Series\n",
    "        x = np.linspace(start, end, size)\n",
    "        y = distribution.pdf(x)\n",
    "        pdf = pd.Series(y, x)\n",
    "\n",
    "        # Get histogram of random data\n",
    "        b = np.linspace(start, end, bins+1)\n",
    "        y, x = np.histogram(rv, bins=b, normed=True)\n",
    "        x = [(a+x[i+1])/2.0 for i,a in enumerate(x[0:-1])]\n",
    "        hist = pd.Series(y, x)\n",
    "\n",
    "        # Create distribution name and parameter string\n",
    "        title = '{}({})'.format(distribution.dist.name, ', '.join(['{}={:0.2f}'.format(k,v) for k,v in distribution.kwds.items()]))\n",
    "\n",
    "        # Store data for later\n",
    "        plotData[distribution.dist.name] = {'pdf': pdf,\n",
    "                                            'hist': hist,\n",
    "                                            'title': title}\n",
    "\n",
    "    except Exception:\n",
    "        print 'could not create data for', distribution.dist.name"
   ]
  },
  {
   "cell_type": "code",
   "execution_count": 5,
   "metadata": {
    "collapsed": true
   },
   "outputs": [],
   "source": [
    "def plotHistPDF(x):\n",
    "    \"\"\"\n",
    "    \"\"\"\n",
    "    data = plotData.get(x)\n",
    "    w = abs(abs(data['hist'].index[0]) - abs(data['hist'].index[1]))\n",
    "    plt.figure(figsize=(10, 6))\n",
    "    ax = data['pdf'].plot(kind='line', label='Model PDF', legend=True, lw=2)\n",
    "    ax.bar(data['hist'].index, data['hist'].values, label='Random Sample', width=w, align='center', alpha=0.5)\n",
    "    ax.set_title(data['title'])"
   ]
  },
  {
   "cell_type": "code",
   "execution_count": 6,
   "metadata": {
    "collapsed": false
   },
   "outputs": [
    {
     "data": {
      "image/png": "[encoded data removed]",
      "text/plain": [
       "<matplotlib.figure.Figure at 0x10297edd0>"
      ]
     },
     "metadata": {},
     "output_type": "display_data"
    }
   ],
   "source": [
    "interact(plotHistPDF, \n",
    "         x=map(lambda x: x.dist.name, DISTRIBUTIONS));"
   ]
  }
 ],
 "metadata": {
  "anaconda-cloud": {},
  "kernelspec": {
   "display_name": "Python [default]",
   "language": "python",
   "name": "python2"
  },
  "language_info": {
   "codemirror_mode": {
    "name": "ipython",
    "version": 2
   },
   "file_extension": ".py",
   "mimetype": "text/x-python",
   "name": "python",
   "nbconvert_exporter": "python",
   "pygments_lexer": "ipython2",
   "version": "2.7.12"
  },
  "widgets": {
   "state": {
    "585378d2e5a742ee854929886679f892": {
     "views": []
    },
    "6310f14dbe1d4361bf9089a35db7870c": {
     "views": [
      {
       "cell_index": 5
      }
     ]
    },
    "802f763ff43042a7a78704d38648a132": {
     "views": []
    },
    "afd7ef941fa3425d95a68b0c764050b1": {
     "views": []
    }
   },
   "version": "1.1.2"
  }
 },
 "nbformat": 4,
 "nbformat_minor": 2
}
