{
 "cells": [
  {
   "cell_type": "code",
   "execution_count": 1,
   "metadata": {
    "collapsed": false
   },
   "outputs": [
    {
     "data": {
      "text/plain": [
       "<matplotlib.figure.Figure at 0x103b63f90>"
      ]
     },
     "metadata": {},
     "output_type": "display_data"
    }
   ],
   "source": [
    "%matplotlib inline\n",
    "import matplotlib.pyplot as plt\n",
    "\n",
    "# Some nice default configuration for plots\n",
    "plt.rcParams['figure.figsize'] = 10, 7.5\n",
    "plt.rcParams['axes.grid'] = True\n",
    "plt.gray()\n",
    "\n",
    "import numpy as np\n",
    "import pandas as pd"
   ]
  },
  {
   "cell_type": "markdown",
   "metadata": {},
   "source": [
    "# 11. Measuring performance in Classification Models"
   ]
  },
  {
   "cell_type": "markdown",
   "metadata": {},
   "source": [
    "We now turn our focus to building and evaluating models for a categorical response. Although many of the regression modeling techniques can also be used for classification, the way we evaluate model performance is necessarily very different since metrics like RMSE and $R^2$ are not appropriate in the context of classification. We will take an in-depth look at the different aspects of classification model predictions and how these relate to the question of interest."
   ]
  },
  {
   "cell_type": "markdown",
   "metadata": {},
   "source": [
    "## 11.1 Class Predictions"
   ]
  },
  {
   "cell_type": "markdown",
   "metadata": {},
   "source": [
    "Classification models usually generate two types of predictions. Like regression models, classification models produce a continuous valued prediction, which is usually in the form of a probability (i.e., the predicted values of class membership for any individual sample are between 0 and 1 and sum to 1). In addition to a continuous prediction, classification models generate a predicted class, which comes in the form of a discrete category. For most practical applications, a discrete category prediction is required in order to make a decision.\n",
    "\n",
    "Although classification models produce both of these types of predictions, often the focus is on the discrete prediction rather than the continuous prediciton. However, the probability estimates for each class can be very useful for gauging the model's confidence about the predicted classification. For example, an email message with a predicted probability of being spam of 0.51 would be classified the same as a message with a predicted probability of being spam of 0.99. While both messages would be treated the same by the filter, we would have more confidence that the second message was truly spam. \n",
    "\n",
    "In some applications, the desired outcome is the predicted class probabilities which are then used as inputs for other calculations. Consider an insurance company that wants to uncover and prosecute fraudulent claims. Using historical claims data, a classification model could be built to predict the probability of claim fraud. This probability would then be combined with the company's investigation costs and potential monetary loss to determine if pursuing the investigation is in the best financial interest of the insurance company.\n",
    "\n",
    "As mentioned, most classification models generate predicted class probabilities. However, when some models are used for classification, like neural networks and partial least squares, they produce continuous predictions that do not follow the definition of a probability. For example, a partial least squares classification model would ceate 0/1 dummy variables for each class and simultaneously model these values as a function of the predictors. When samples are predicted, the model predictions are not guaranteed to be within 0 and 1. For classification models like these, a transformation must be used to coerce the predictions into \"probability-like\" values so that they can be interpreted and used for classification. One such method is the *softmax transformation* \n",
    "$$\\hat{p}_l^{*} = {e^{\\hat{y}_l} \\over \\sum_{j=1}^C e^{\\hat{y}_j}}$$\n",
    "where $\\hat{y}_l$ is the numeric model prediciton for the $l^{\\text{th}}$ class and $\\hat{p}_l^{*}$ is the transformed value between 0 and 1. To be clear, no probability statement is being created by this transformation; it merely ensures that the predictions have the same mathematical qualities as probabilities."
   ]
  },
  {
   "cell_type": "markdown",
   "metadata": {},
   "source": [
    "### Well-Calibrated Probabilities"
   ]
  },
  {
   "cell_type": "markdown",
   "metadata": {},
   "source": [
    "Whether a classification model is used to predict spam email, or as inputs to insurance fraud, we desire that the estimated class probabilities are reflective of the true underlying probability of the sample. That is, the predicted class probability needs to be well-calibrated. To be well-calibrated, the probabilities must effectively reflect the true likelihood of the event of interest.\n",
    "\n",
    "One way to assess the quality of the class probabilities is using a calibration plot. For a given set of data, this plot shows some measure of the observed probability of an event versus the predicted class probability. One approach for creating this visualization is to score a collection of samples with known outcomes (preferably a test set) using a classification model. The next step is to bin the data into groups based on their class probabilities. For example, a set of bins might be [0, 10%], (10%, 20%], ..., (90%, 100%]. For each bin, determine the observed event rate. Suppose that 50 samples fell into the bin for class probabilities less than 10% and there was a single event. The midpoint of the bin is 5% and the observed event rate would be 2%. The calibration plot would display the midpoint of the bin on the x-axis and the observed event rate on the y-axis. If the points fall along a $45^{\\circ}$ line, the model has produced well-calibrated probabilities."
   ]
  },
  {
   "cell_type": "markdown",
   "metadata": {},
   "source": [
    "To illustrate, a data set was simulated. For classes (1 and 2) and two predictors (A and B), the true probability (p) of the event is generated from the equation $$log({p \\over 1 - p}) = -1 - 2A - 0.2A^2 + 2B^2$$"
   ]
  },
  {
   "cell_type": "code",
   "execution_count": 2,
   "metadata": {
    "collapsed": false
   },
   "outputs": [],
   "source": [
    "# simulate two data sets\n",
    "def simu_prob(A, B):\n",
    "    return np.exp(-1 - 2*A - 0.2*A**2 + 2*B**2)/(1 + np.exp(-1 - 2*A - 0.2*A**2 + 2*B**2))\n",
    "\n",
    "np.random.seed(3)\n",
    "\n",
    "X_train = np.random.multivariate_normal(mean = [1.0, 0.0], cov = [[1.0, 0.7], [0.7, 2.0]], size = 500)\n",
    "Y_train = np.array([np.random.binomial(1, simu_prob(x[0], x[1])) for x in X_train])"
   ]
  },
  {
   "cell_type": "code",
   "execution_count": 3,
   "metadata": {
    "collapsed": false
   },
   "outputs": [
    {
     "data": {
      "text/plain": [
       "array([[ 2.56782655,  2.28356264],\n",
       "       [-0.25748885,  0.8138547 ],\n",
       "       [ 0.55269399, -0.24907997],\n",
       "       [ 0.49590806,  0.11645391],\n",
       "       [ 0.6297967 ,  0.11480416]])"
      ]
     },
     "execution_count": 3,
     "metadata": {},
     "output_type": "execute_result"
    }
   ],
   "source": [
    "X_train[:5]"
   ]
  },
  {
   "cell_type": "code",
   "execution_count": 4,
   "metadata": {
    "collapsed": false
   },
   "outputs": [
    {
     "data": {
      "text/plain": [
       "array([1, 1, 0, 0, 0])"
      ]
     },
     "execution_count": 4,
     "metadata": {},
     "output_type": "execute_result"
    }
   ],
   "source": [
    "Y_train[:5]"
   ]
  },
  {
   "cell_type": "code",
   "execution_count": 5,
   "metadata": {
    "collapsed": false
   },
   "outputs": [
    {
     "data": {
      "text/plain": [
       "<matplotlib.contour.QuadContourSet at 0x11458d750>"
      ]
     },
     "execution_count": 5,
     "metadata": {},
     "output_type": "execute_result"
    },
    {
     "data": {
      "image/png": "[encoded data removed]",
      "text/plain": [
       "<matplotlib.figure.Figure at 0x11458d790>"
      ]
     },
     "metadata": {},
     "output_type": "display_data"
    }
   ],
   "source": [
    "colors = ['b', 'r']\n",
    "markers = ['s', 'o']\n",
    "\n",
    "for idx, i in enumerate(Y_train):\n",
    "    plt.scatter(X_train[idx, 0], X_train[idx, 1], \n",
    "                c = colors[i], marker= markers[i], \n",
    "                alpha = 0.4, s = 36)\n",
    "plt.xlabel(\"Predictor A\")\n",
    "plt.ylabel(\"Predictor B\")\n",
    "\n",
    "# solid black line denotes the 50% probability contour\n",
    "delta = 0.025\n",
    "x = np.arange(-3.0, 5.0, delta)\n",
    "y = np.arange(-3.0, 5.0, delta)\n",
    "X, Y = np.meshgrid(x, y)\n",
    "Z = simu_prob(X, Y)\n",
    "plt.contour(x, y, Z, levels = [0.5])"
   ]
  },
  {
   "cell_type": "markdown",
   "metadata": {},
   "source": [
    "Two models were fit to the training set: quadratic discriminant analysis and a random forest model. A test set of $n = 1000$ samples was used to score the model and create the calibration plot."
   ]
  },
  {
   "cell_type": "code",
   "execution_count": 6,
   "metadata": {
    "collapsed": false
   },
   "outputs": [],
   "source": [
    "np.random.seed(5)\n",
    "\n",
    "X_test = np.random.multivariate_normal(mean = [1.0, 0.0], cov = [[1.0, 0.7], [0.7, 2.0]], size = 1000)\n",
    "Y_test = np.array([np.random.binomial(1, simu_prob(x[0], x[1])) for x in X_test])"
   ]
  },
  {
   "cell_type": "code",
   "execution_count": 7,
   "metadata": {
    "collapsed": false
   },
   "outputs": [
    {
     "name": "stderr",
     "output_type": "stream",
     "text": [
      "/Users/lr/anaconda2/lib/python2.7/site-packages/sklearn/qda.py:4: DeprecationWarning: qda.QDA has been moved to discriminant_analysis.QuadraticDiscriminantAnalysis in 0.17 and will be removed in 0.19.\n",
      "  \"in 0.17 and will be removed in 0.19.\", DeprecationWarning)\n"
     ]
    },
    {
     "name": "stdout",
     "output_type": "stream",
     "text": [
      "Predictive accuracy of QDA: 0.865\n",
      "Predictive accuracy of Random Forest: 0.864\n"
     ]
    }
   ],
   "source": [
    "from sklearn.qda import QDA\n",
    "from sklearn.ensemble import RandomForestClassifier\n",
    "\n",
    "qda = QDA()\n",
    "qda.fit(X_train, Y_train)\n",
    "print \"Predictive accuracy of QDA: {0}\".format(qda.score(X_test, Y_test))\n",
    "\n",
    "rf = RandomForestClassifier(n_estimators=1000, max_depth=5)\n",
    "rf.fit(X_train, Y_train)\n",
    "print \"Predictive accuracy of Random Forest: {0}\".format(rf.score(X_test, Y_test))"
   ]
  },
  {
   "cell_type": "code",
   "execution_count": 8,
   "metadata": {
    "collapsed": false
   },
   "outputs": [
    {
     "data": {
      "text/plain": [
       "[<matplotlib.lines.Line2D at 0x119042b90>]"
      ]
     },
     "execution_count": 8,
     "metadata": {},
     "output_type": "execute_result"
    },
    {
     "data": {
      "image/png": "[encoded data removed]",
      "text/plain": [
       "<matplotlib.figure.Figure at 0x103b551d0>"
      ]
     },
     "metadata": {},
     "output_type": "display_data"
    }
   ],
   "source": [
    "qda_predict = qda.predict_proba(X_test)[:, 1]\n",
    "rf_predict = rf.predict_proba(X_test)[:, 1]\n",
    "\n",
    "# calibration plot\n",
    "# predict_prob = simu_prob(X_test[:, 0], X_test[:, 1])\n",
    "calib_counts = np.zeros([2, 10])\n",
    "\n",
    "for i in range(0, 10):\n",
    "    calib_counts[0, i] = np.mean(Y_test[(qda_predict > i*0.1) * (qda_predict < (i+1)*0.1)])\n",
    "    calib_counts[1, i] = np.mean(Y_test[(rf_predict > i*0.1) * (rf_predict < (i+1)*0.1)])\n",
    "    \n",
    "plt.plot(np.arange(0.05, 1.0, 0.1), calib_counts[0, :], 'x-', label = 'qda')\n",
    "plt.plot(np.arange(0.05, 1.0, 0.1), calib_counts[1, :], 'o-', label = 'rf')\n",
    "plt.xlabel('Bin Midpoint')\n",
    "plt.ylabel('Observed Event Percentage')\n",
    "plt.legend(loc = 'upper center', ncol = 2)\n",
    "plt.plot([0, 1], [0, 1], 'k--', alpha = 0.5)"
   ]
  },
  {
   "cell_type": "markdown",
   "metadata": {},
   "source": [
    "The calibration plot shows that the QDA class probabilities tend to perform poorly compared to the random forest model. For example, in the bin with class probabilities ranging from 20% to 30%, the observed percentage of events for QDA was far lower than the percentage in the random forest model."
   ]
  },
  {
   "cell_type": "markdown",
   "metadata": {},
   "source": [
    "### Presenting Class Probabilities"
   ]
  },
  {
   "cell_type": "markdown",
   "metadata": {},
   "source": [
    "Visualizations of the class probabilities are an effective method of communicating model results. For two classes, histograms of the predicted classes for each of the true outcomes illustrate the strengths and weaknesses of a model. In Chapter 4, we introduced the credit scoring example. Two classification models were created to predict the quality of a customer's credit: a support vector machine (SVM) and logistic regression. Since the performance of the two models were roughly equivalent, the logistic regression model was favored due to its simplicity."
   ]
  },
  {
   "cell_type": "code",
   "execution_count": null,
   "metadata": {
    "collapsed": false
   },
   "outputs": [],
   "source": [
    "germancredit = pd.read_csv(\"../datasets/GermanCredit/GermanCredit.csv\")\n",
    "germancredit.drop('Unnamed: 0', axis=1, inplace = True) # drop the first column\n",
    "germancredit.head(5)"
   ]
  },
  {
   "cell_type": "code",
   "execution_count": null,
   "metadata": {
    "collapsed": false
   },
   "outputs": [],
   "source": [
    "germancredit.groupby('Class').count()"
   ]
  },
  {
   "cell_type": "code",
   "execution_count": null,
   "metadata": {
    "collapsed": false
   },
   "outputs": [],
   "source": [
    "# use stratified sampling to split training and test sets\n",
    "def stratified_sampling(data, target, prop_train):\n",
    "    '''a stratified random sampling based on proportion of the target outcomes.'''\n",
    "    from collections import Counter\n",
    "    \n",
    "    n_class = dict(Counter(data[target]).items()) # frequency of possible outcomes\n",
    "    data.reindex(np.random.permutation(data.index)) # random shuffle\n",
    "    for key, val in n_class.iteritems():\n",
    "        n_train = np.int(val*prop_train)\n",
    "        try:\n",
    "            trainset = trainset.append(data[data[target] == key].iloc[:n_train,:], ignore_index=True)\n",
    "            testset = testset.append(data[data[target] == key].iloc[n_train:, :], ignore_index=True)\n",
    "        except NameError:\n",
    "            trainset = data[data[target] == key].iloc[:n_train,:]\n",
    "            testset = data[data[target] == key].iloc[n_train:, :]\n",
    "        \n",
    "    return trainset, testset\n",
    "    \n",
    "credit_train, credit_test = stratified_sampling(germancredit, 'Class', 0.8)\n",
    "print \"The size of training set is {0} and test set is {1}.\".format(credit_train.shape[0], credit_test.shape[0])"
   ]
  },
  {
   "cell_type": "code",
   "execution_count": null,
   "metadata": {
    "collapsed": false
   },
   "outputs": [],
   "source": [
    "X_train = credit_train.drop('Class', axis=1)\n",
    "y_train = credit_train['Class']\n",
    "X_test = credit_test.drop('Class', axis=1)\n",
    "y_test = credit_test['Class']"
   ]
  },
  {
   "cell_type": "code",
   "execution_count": null,
   "metadata": {
    "collapsed": false
   },
   "outputs": [],
   "source": [
    "# fit a logistic regression\n",
    "from sklearn.linear_model import LogisticRegression\n",
    "\n",
    "lreg = LogisticRegression()\n",
    "lreg.fit(X_train, y_train)\n",
    "\n",
    "lreg_pred = lreg.predict(X_test)\n",
    "lreg_pred_prob = lreg.predict_proba(X_test)"
   ]
  },
  {
   "cell_type": "code",
   "execution_count": null,
   "metadata": {
    "collapsed": false
   },
   "outputs": [],
   "source": [
    "fig, (ax1, ax2) = plt.subplots(ncols = 2, sharey=True)\n",
    "\n",
    "ax1.hist(lreg_pred_prob[np.where(y_test == 'Bad'), 0].T, 20)\n",
    "ax1.set_title('True Outcome: Bad Credit')\n",
    "\n",
    "ax2.hist(lreg_pred_prob[np.where(y_test == 'Good'), 0].T, 20)\n",
    "ax2.set_title('True Outcome: Good Credit')\n",
    "\n",
    "fig.text(0.5, 0.06, 'Probability of Bad Credit', ha='center', va='center')"
   ]
  },
  {
   "cell_type": "markdown",
   "metadata": {},
   "source": [
    "The probability of bad credit for the customers with good credit shows a skewed distribution where most customers' probabilities are quite low. In contrast, the probabilities for the customers with bad credit are flat (or uniformly distributed), reflecting the model's inability to distinguish bad credit cases."
   ]
  },
  {
   "cell_type": "code",
   "execution_count": null,
   "metadata": {
    "collapsed": false
   },
   "outputs": [],
   "source": [
    "predict_counts = np.zeros([10])\n",
    "\n",
    "for i in range(10):\n",
    "    predict_counts[i] = np.mean(y_test[(lreg_pred_prob[:, 0] > i*0.1) * (lreg_pred_prob[:, 0] < (i+1)*0.1)] == 'Bad')\n",
    "    \n",
    "plt.plot(np.arange(0.05, 1.0, 0.1), predict_counts)\n",
    "plt.plot([0, 1], [0, 1], 'k--', alpha = 0.5)\n",
    "plt.xlabel(\"Bin Midpoint\")\n",
    "plt.ylabel(\"Observed Event Percentage\")"
   ]
  },
  {
   "cell_type": "markdown",
   "metadata": {},
   "source": [
    "The calibration plot shows the accuracy of the probability of bad credit degrades as it becomes larger to the point where a few samples with bad credit were predicted with a probability above 80%. This pattern is indicative of a model that has both poor calibration and poor performance.\n",
    "\n",
    "When there are three or more classes, a heat map of the class probabilities can help gauge the confidence in the predictions."
   ]
  },
  {
   "cell_type": "markdown",
   "metadata": {},
   "source": [
    "### Equivocal Zones"
   ]
  },
  {
   "cell_type": "markdown",
   "metadata": {},
   "source": [
    "An approach to improving classification performance is to create an equivocal or indeterminate zone where the class is not formally predicted when the confidence is not high. For a two-class problem that is nearly balanced in the response, the equivocal zone could be defined as $0.50 \\pm z$. If z were 0.10, then samples with prediction probabilities between 0.40 and 0.60 would be called \"equivocal\". In this case, model performance would be calculated excluding the samples in the indeterminate zone. For data sets with more than 2 classes (C > 2), similar thresholds can be applied where the largest class probability must be larger than (1/C + z) to make a definitive prediction."
   ]
  },
  {
   "cell_type": "markdown",
   "metadata": {},
   "source": [
    "## 11.2 Evaluating Predicted Classes"
   ]
  },
  {
   "cell_type": "markdown",
   "metadata": {},
   "source": [
    "A common method for describing the performance of a classification model is the *confusion matrix*. This is a simple cross-tabulation of the observed and predicted classes for the data.\n",
    "\n",
    "Predict\\Observe   | Event | Non-event\n",
    "------------------|-------|----------\n",
    "Event             | TP    |   FP\n",
    "Non-event         | FN    |   TN\n",
    "\n",
    "The above table shows an example when the outcome has two classes. Diagonal cells denote cases where the classes are correctly predicted while the off-diagonals illustrate the number of errors for each possible case.\n",
    "\n",
    "The simplest metric is the overall accuracy rate. This reflects the agreement between the observed and predicted classes and has the most straightforward interpretation. However, there are a few disadvantages to using this statistic. First, overall accuracy counts make no distinction about the type of errors being made. In situations where the costs are different, accuracy may not measure the important model characteristics.\n",
    "\n",
    "Second, one must consider the natural frequencies of each class. For example, in the USA, pregnant women routinely have blood drawn for alpha-fetoprotein testing, which attempts to detect genetic problems such as Down syndrome. Suppose the rate of this disorder in fetuses is approximately 1 in 800 or about one-tenth of on percent. A predictive model can achieve almost perfect accuracy by predicting all samples to be negative for Down syndrome.\n",
    "\n",
    "What benchmark accuracy rate should be used to determine whether a model is performing adequantely? The no-information rate is the accuracy rate that can be achieved without a model. There are various ways to define this rate. For a data set with $C$ classes, the simplest definition, based on pure randomness, is $1/C$. However, this does not take into account the relative frequencies of the classes in the training set. An alternate definition of the no-information rate is the percentage of the largest class in the training set. Models with accuracy greater than this rate might be considered reasonable. The effect of severe class imbalances and some possible remedies are discussed later.\n",
    "\n",
    "Rather than calculate the overall accuracy and compare it to the no-information rate, other metrics can be used that take into account the class distribution of the training set samples. The *Kappa statistic* takes into account the accuracy that would be generate simply by chance. $$Kappa = {O - E \\over 1 - E}$$\n",
    "where $O$ is the observed accuracy and $E$ is the expected accuracy based on the marginal totals of the confusion matrix. The statistic can take on values between -1 and 1; a value of 0 means there is no aggreement between the observed and predicted classes. Negative values indicate that the prediction is in the *opposite* direction of the truth, but large negative values seldom occur, if ever, when working with predictive models. When the class distributions are equivalent, overall accuracy and Kappa are proportional. Depending on the context, Kappa values within 0.3 to 0.5 indicate reasonable aggreement. Suppose the accuracy for a model is high (90%) but the expected accuracy is also high (85%), the Kappa statistic would show moderate aggreement (Kappa = 1/3) between the observed and predicted classes."
   ]
  },
  {
   "cell_type": "markdown",
   "metadata": {},
   "source": [
    "### Two-Class Problems"
   ]
  },
  {
   "cell_type": "markdown",
   "metadata": {},
   "source": [
    "Consider the cases where there are two classes.\n",
    "\n",
    "Predict\\Observe   | Event | Non-event\n",
    "------------------|-------|----------\n",
    "Event             | TP    |   FP\n",
    "Non-event         | FN    |   TN\n",
    "\n",
    "The table shows the confusion matrix for generic classes \"event\" and \"nonevent\". The top row of the table corresponds to samples predicted to be events. Some are predicted correctly (the true positives, TP) while others are inaccurately classified (the false positives, FP). Similarly, the second row contains the predicted negatives with the true negatives (TN) and false nagatives (FN).\n",
    "\n",
    "For two classes, there are additional statistics that may be relevant when one class is interpreted as the event of interest. The *sensitivity* of the model is the rate that the event of interest is predicted correctly for all samples having the event, i.e., \n",
    "$$Sensitivity = {\\# \\text{samples with the event and predicted to have the event} \\over \\# \\text{samples having the event}} = {TP \\over TP + FN}$$\n",
    "The sensitivity is sometimes considered the *true positive rate* since it measures the accuracy in the event population. Conversely, the *specificity* is defined as the rate that nonevent samples are predicted as nonevents, i.e.\n",
    "$$Specificity = {\\# \\text{samples without the event and predicted as non-events} \\over \\# \\text{samples without the event}} = {TN \\over TN + FP}$$\n",
    "The *false positive rate* is defined as one minus the specificity. Assuming a fixed level of accuracy for the model, there is typically a trade-off to be made between the sensitivity and specificity. Intuitively, increasing the sensitivity of a model is likely to incur a loss of specificity, since more samples are being predicted as events. Potential trade-offs between sensitivity and specificity may be appropriate when there are different penalties associated with each type of error. The *receiver operating characteristic (ROC) curve* is one technique for evaluating this trade-off."
   ]
  },
  {
   "cell_type": "code",
   "execution_count": null,
   "metadata": {
    "collapsed": false
   },
   "outputs": [],
   "source": [
    "# pay a revisit to the credit data set\n",
    "from sklearn.metrics import confusion_matrix\n",
    "confusion_matrix(y_test, lreg_pred)"
   ]
  },
  {
   "cell_type": "code",
   "execution_count": null,
   "metadata": {
    "collapsed": false
   },
   "outputs": [],
   "source": [
    "from __future__ import division\n",
    "\n",
    "print \"The overall accuracy: {0} and the no-information rate: {1}\".format((31+115)/200, np.mean(y_test == 'Good'))\n",
    "rnd_aggreement = ((31+29)/(200)) * ((31+25)/200) + ((25+115)/200)*((29+115)/200)\n",
    "print \"Kappa = {0:.4f}\".format(((31+115)/200 - rnd_aggreement)/(1 - rnd_aggreement))\n",
    "print \"Sensitivity = {0:.4f}\".format(31/(31+25))\n",
    "print \"Specificity = {0:.4f}\".format(115/(115+29))"
   ]
  },
  {
   "cell_type": "markdown",
   "metadata": {},
   "source": [
    "Clearly, the model has trouble predicting when customers have bad credit. This is likely due to the imbalance of the classes and a lack of a strong predictor for bad credit."
   ]
  },
  {
   "cell_type": "markdown",
   "metadata": {},
   "source": [
    "Often, there is interest in having a single measure that reflects the false-positive and false-negative rates. Youden's J Index $$J = Sensitivity + Specificity - 1$$ measures the proportions of correctly predicted samples for both the event and non-event groups. In some contexts, this may be an appropriate method for summarizing the magnitude of both types of errors. The most common method for combining sensitivity and specificity into a single value uses the receiver operating characteristic (ROC) curve.\n",
    "\n",
    "One often overlooked aspect of sensitivity and specificity is that they are conditional measures. Sensitivity is the accuracy rate for only the event population (and specificity for the non-events). Using the sensitivity and specificity, the obstetrician can make statements such as \"assuming that the fetus does not have Down syndrome, the test has an accuracy of 95%.\" However, these statements might not be helpful to a patient since, for a new samples, all that known is the prediction. The person using the model prediction is typically interested in unconditional queries such as \"what are the chances that the fetus has the genetic disorder?\" This depends on three values: the sensitivity and specificity of the diagnostic test and the prevalence of the event in the population. Intuitively, if the event is rare, this should be reflected in the answer. Taking the prevalence into account, the analog to specificity is the *positive predicted value*, and the analog to specificity is the *negative predicted value*. These values make unconditional evaluations of the data. The positive predicted value answers the question \"what is the probability that this sample is an event?\" The formulas are \n",
    "$$PPV = {Sensitivity \\times Prevalence \\over (Sensitivity \\times Prevalence) + ((1 - Specificity) \\times (1 - Prevalence))}$$\n",
    "$$NPV = {Specificity \\times (1 - Prevalence) \\over (Prevalence \\times (1 - Sensitivity)) + (Specificity \\times (1 - Prevalence))}$$\n",
    "\n",
    "Clearly, the predictive values are nontrival combinations of performance and the rate of events. Predictive values are not often used to characterize the model. There are several reasons why, most of which are related to prevalence. First, prevalence is hard to quantify. Also, the prevalence is dynamic."
   ]
  },
  {
   "cell_type": "markdown",
   "metadata": {},
   "source": [
    "### Non-Accuracy-Based Criteria"
   ]
  },
  {
   "cell_type": "markdown",
   "metadata": {},
   "source": [
    "For many commercial applications of predictive models, accuracy is not the primary goal for the model. Often, the purpose of the model might be to:\n",
    "- Predict investment opportunities that maximize return\n",
    "- Improve customer satisfaction by market segmentation\n",
    "- Lower inventory costs by improving product demand forecasts\n",
    "- Reduce costs associated with fraudulent transactions\n",
    "\n",
    "While accuracy is important, it only describes how well the model predicts the data. If the model is fit for purpose, other more direct metrics of performance should be considered. These metrics quantify the consequences of correct and incorrect predictions."
   ]
  },
  {
   "cell_type": "markdown",
   "metadata": {},
   "source": [
    "## 11.3 Evaluating Class Probabilities"
   ]
  },
  {
   "cell_type": "markdown",
   "metadata": {},
   "source": [
    "Class probabilities potentially offer more information about model predictions than the simple class value."
   ]
  },
  {
   "cell_type": "markdown",
   "metadata": {},
   "source": [
    "### Receiver Operating Characteristic (ROC) Curves"
   ]
  },
  {
   "cell_type": "markdown",
   "metadata": {},
   "source": [
    "ROC curves were designed as a general method that, given a collection of continuous data points, determine an effective threshold such that values above the threshold are indicative of a specific event.\n",
    "\n",
    "The ROC curve is created by evaluating the class probabilities for the model across a continuum of thresholds. For each candidate threshold, the resulting true-positive rate (i.e. the sensitivity) and the false-positive rate (one minus the specificity) are plotted against each other."
   ]
  },
  {
   "cell_type": "code",
   "execution_count": null,
   "metadata": {
    "collapsed": false
   },
   "outputs": [],
   "source": [
    "# ROC curve for credit data\n",
    "from sklearn.metrics import roc_curve, auc\n",
    "\n",
    "fpr, tpr, thres = roc_curve(y_test, lreg_pred_prob[:, 0], pos_label= 'Bad')\n",
    "roc_auc = auc(fpr, tpr)\n",
    "\n",
    "plt.figure()\n",
    "plt.plot(fpr, tpr, label='ROC curve (area = %0.2f)' % roc_auc)\n",
    "\n",
    "# plot specific value based on threshold\n",
    "fpr_50 = fpr[np.where(thres < 0.5)[0][0]]\n",
    "tpr_50 = tpr[np.where(thres < 0.5)[0][0]]\n",
    "plt.plot(fpr_50, tpr_50, 'o')\n",
    "plt.text(fpr_50+0.02, tpr_50-0.01, \n",
    "         \"0.500 (Spec = {0:.3f}, Sens = {1:.3f})\".format(1-fpr_50, tpr_50))\n",
    "\n",
    "fpr_30 = fpr[np.where(thres < 0.3)[0][0]]\n",
    "tpr_30 = tpr[np.where(thres < 0.3)[0][0]]\n",
    "plt.plot(fpr_30, tpr_30, 'o')\n",
    "plt.text(fpr_30+0.02, tpr_30-0.01, \n",
    "         \"0.300 (Spec = {0:.3f}, Sens = {1:.3f})\".format(1-fpr_30, tpr_30))\n",
    "\n",
    "plt.plot([0, 1], [0, 1], 'k--')\n",
    "plt.xlim([0.0, 1.0])\n",
    "plt.ylim([0.0, 1.05])\n",
    "plt.xlabel('1 - Specificity (False Positive Rate)')\n",
    "plt.ylabel('Sensitivity (True Positive Rate)')\n",
    "plt.title('Receiver operating characteristic example')\n",
    "plt.legend(loc=\"lower right\")\n",
    "plt.show()"
   ]
  },
  {
   "cell_type": "markdown",
   "metadata": {},
   "source": [
    "The green point is the default 50% threshold while the red point corresponds to the performance characteristics for a threshold of 30%. In this figure, the numbers in parentheses are $(specificity, sensitivity)$. Note that the trajectory of the curve between (0, 0) and the 50% threshold is steep, indicating that the sensitivity is increasing at a greater rate than the decrease in specificity. However, when the sensitivity is greater than 70%, there is a more significant decrease in specificity than the gain in sensitivity.\n",
    "\n",
    "This plot is a helpful tool for choosing a threshold that appropriately maximizes the trade-off between sensitivity and specificity. However, altering the threshold only has the effect of making the samples more positive (or negative). In the confusion matrix, it cannot move samples out of both off-diagnoal table cells. There is almost always a decrease in either sensitivity or specificity.\n",
    "\n",
    "The ROC curve can also be used for a quantitative assessment of the model. A perfect model that completely separates the two classes would have 100% sensitivity and specificity. Graphically, the ROC curve would be a single step between (0, 0) nad (0, 1) and remain constant from (0, 1) and (1, 1). The area under the ROC curve for such a model would be one. A completely ineffective model would result in an ROC curve that closely follows the $45^{\\circ}$ diagnoal line and would have an area under the ROC curve of approximately 0.5. To visually compare different models, their ROC curves can be superimposed on the same graph. Comparing ROC curves can be useful in contrasting two or more models with different predictor sets (for the same model), differnt tuning parameters (within model comparisons), or complete different classifiers (between models).\n",
    "\n",
    "The optimal model should be shifted towards the upper left corner of the plot. Alternatively, the model with the largest area under the ROC curve would be the most effective. \n",
    "\n",
    "One advantage of using ROC curves to characterize models is that, since it is a function of sensitivity and specificity, the curve is insensitive to disparities in the class proportions. A disadvantage of using the area under the curve to evaluate models is that it obscures information. When comparing models, it is common that no individual ROC curve is uniformly better than another. By summarizing these curves, there is a loss of information, especially if one particular area of the curve is of interest. The partial area under the ROC curve is an alternative that focuses on specific parts of the curve."
   ]
  },
  {
   "cell_type": "markdown",
   "metadata": {},
   "source": [
    "### Life Charts"
   ]
  },
  {
   "cell_type": "markdown",
   "metadata": {},
   "source": [
    "Lift charts are a visualization tool for assessing the ability of a model to detect events in a data set with two classes. Suppose a group of samples with M events is scored using the event class probability. When ordered by the class probability, one would hope that the events are ranked higher than the non-events. Lift charts do just this: rank the samples by their scores and determine the cumulative event rate as more samples are evaluated. In the optimal case, the M highest-ranked samples would contain all M events. When the model is non-informative, the highest ranked X% of the data would contain, on average, X events. The *lift* is the number of samples detected by a model above a completely random selection of samples.\n",
    "\n",
    "To construct the *lift charts* we would take the following steps:\n",
    "1. Predict a set of samples that were not used in the model building process but have known outcomes.\n",
    "2. Determine the baseline event rate, i.e. the percent of true events in the entire data set.\n",
    "3. Order the data by the classification probability of the event of interest.\n",
    "4. For each unique class probability value, calculate the percent of true events in all samples below the probability value.\n",
    "5. Divide the percent of true events for each probability threshold by the baseline event rate.\n",
    "\n",
    "The lift chart plots the cumulative gain/lift against the cumulative percentage of samples that have been screened. With a 50% event arte, the non-informative model has a curve that is close to the $45^{\\circ}$ reference line, meaning that the model has no benefit for ranking samples."
   ]
  },
  {
   "cell_type": "code",
   "execution_count": null,
   "metadata": {
    "collapsed": false
   },
   "outputs": [],
   "source": [
    "# lift chart for credit data\n",
    "y_test_label = np.array(map(lambda c: 1 if c == 'Bad' else 0, y_test)).reshape(len(y_test), 1)\n",
    "lift_curve = np.hstack((y_test_label, lreg_pred_prob[:, 0].reshape(len(y_test), 1)))\n",
    "lift_curve = lift_curve[lift_curve[:, 1].argsort()[::-1]]\n",
    "\n",
    "plt.plot(np.arange(1.0, len(y_test)+1)/len(y_test), \n",
    "         np.cumsum(lift_curve[:, 0])/np.sum(lift_curve[:, 0]),\n",
    "         label = 'Logistic Regression')\n",
    "plt.fill_between(np.arange(1.0, len(y_test)+1)/len(y_test), \n",
    "                 1.0*np.cumsum(y_test_label)/np.sum(y_test_label),\n",
    "                 1.0*np.cumsum(np.random.permutation(y_test_label))/np.sum(y_test_label),\n",
    "                 facecolor = 'gray', alpha = 0.5)\n",
    "plt.legend(loc = 4)\n",
    "plt.xlabel('% Samples Tested')\n",
    "plt.ylabel('% Events Found')"
   ]
  },
  {
   "cell_type": "markdown",
   "metadata": {},
   "source": [
    "Note that, since the event rate of the credit data is not balanced, the non-informative boundary is above the $45^{\\circ}$ line.\n",
    "\n",
    "Like ROC curves, the lift curves for different models can be compared to find the most appropriate model and the area under the curve can be used as a quantitative measure of performance. Also like ROC curves, some parts of the lift curve are of more interest than others. For example, the section of the curve associated with the highest-ranked samples should have an enriched true-positive rate and is likely to be the most important part of the curve."
   ]
  }
 ],
 "metadata": {
  "kernelspec": {
   "display_name": "Python [Root]",
   "language": "python",
   "name": "Python [Root]"
  },
  "language_info": {
   "codemirror_mode": {
    "name": "ipython",
    "version": 2
   },
   "file_extension": ".py",
   "mimetype": "text/x-python",
   "name": "python",
   "nbconvert_exporter": "python",
   "pygments_lexer": "ipython2",
   "version": "2.7.12"
  }
 },
 "nbformat": 4,
 "nbformat_minor": 0
}
