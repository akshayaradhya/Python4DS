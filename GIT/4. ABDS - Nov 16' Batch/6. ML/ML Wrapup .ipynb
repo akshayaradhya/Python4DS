{
 "cells": [
  {
   "cell_type": "markdown",
   "metadata": {},
   "source": [
    "> ## $Concepts$\n",
    "\n",
    "But first, a [tour!](https://www.quora.com/What-machine-learning-theory-do-I-need-to-know-in-order-to-be-a-successful-machine-learning-practitioner)\n",
    "\n",
    "- Bias Variance Tradeoff [post](http://scott.fortmann-roe.com/docs/BiasVariance.html), practical [advice](http://www.astroml.org/sklearn_tutorial/practical.html#bias-variance-over-fitting-and-under-fitting), Intuitive Explanation [Quora](https://www.quora.com/What-is-an-intuitive-explanation-for-bias-variance-tradeoff), Live [Lecture](https://www.youtube.com/watch?v=zrEyxfl2-a8&hd=1#t=4m51s)\n",
    "- The Clever Machine's [post](https://theclevermachine.wordpress.com/2013/04/21/model-selection-underfitting-overfitting-and-the-bias-variance-tradeoff/)\n",
    "- Overfitting [wiki](https://en.wikipedia.org/wiki/Overfitting) and an Intuitive Explanation [Quora](https://www.quora.com/What-is-an-intuitive-explanation-of-overfitting)\n",
    "    - Must Read: Clever Methods of Overfitting [link](http://hunch.net/?p=22)\n",
    "- CrossValidation Intuitive Explanation [Quora](https://www.quora.com/What-is-an-intuitive-explanation-of-cross-validation) and [pitfalls](https://www.quora.com/What-are-the-pitfalls-on-relying-on-cross-validation-to-select-models) to avoid\n",
    "- Regularization Intuitive Explanation [Quora](https://www.quora.com/What-is-an-intuitive-explanation-of-regularization)\n",
    "- CrossValidation for Estimator Performance [code](http://scikit-learn.org/stable/modules/cross_validation.html)\n",
    "    - SebRaschka's Posts [1](http://sebastianraschka.com/blog/2016/model-evaluation-selection-part1.html), [2](http://sebastianraschka.com/blog/2016/model-evaluation-selection-part2.html) and [3](http://sebastianraschka.com/blog/2016/model-evaluation-selection-part3.html)\n",
    "- Randal S. Olson's [TPOT](http://www.randalolson.com/2016/05/08/tpot-a-python-tool-for-automating-data-science/) and an [intro](http://www.randalolson.com/2015/11/15/introducing-tpot-the-data-science-assistant/)   \n",
    "- Learning, Validation Curves [code](http://scikit-learn.org/stable/modules/learning_curve.html)\n",
    "- Hyperparamter Tuning Methods [sklearn code](http://scikit-learn.org/stable/modules/grid_search.html)\n",
    "- Dealing with Class Imbalance in Classification Models\n",
    "    - Tom Fawcett's excellent posts - read [one](http://www.svds.com/learning-imbalanced-classes/), then [two](http://www.svds.com/the-basics-of-classifier-evaluation-part-1/), and finally [three](http://www.svds.com/classifiers2/)\n",
    "    - Probability Calibration [code](http://scikit-learn.org/stable/modules/calibration.html)\n",
    "    - 8 [Tactics](http://machinelearningmastery.com/tactics-to-combat-imbalanced-classes-in-your-machine-learning-dataset/) to combat Imbalance\n",
    "    - Does Balancing work? [Win-Vector](http://www.win-vector.com/blog/2015/02/does-balancing-classes-improve-classifier-performance/)\n",
    "\n",
    "---\n",
    "\n",
    "> ## $Visualization$\n",
    "\n",
    "- PCA [theory + demo](http://setosa.io/ev/principal-component-analysis/) and Seb Raschka's [Post](http://sebastianraschka.com/Articles/2015_pca_in_3_steps.html)\n",
    "- t-SNE, MDS [demo with MNIST](http://colah.github.io/posts/2014-10-Visualizing-MNIST/)\n",
    "- Visualizing Classifier Thresholds [post](http://blog.insightdatalabs.com/visualizing-classifier-thresholds/)\n",
    "\n",
    "---\n",
    "\n",
    "> ## $Models$\n",
    "\n",
    "First, a [tour](http://machinelearningmastery.com/a-tour-of-machine-learning-algorithms/)\n",
    "\n",
    "- SVM [demo](http://cs.stanford.edu/people/karpathy/svmjs/demo/), Stanford [notes](http://cs229.stanford.edu/notes/cs229-notes3.pdf), MLM's [post](http://machinelearningmastery.com/support-vector-machines-for-machine-learning/)\n",
    "- Gradient Boosting [theory + demo](https://arogozhnikov.github.io/2016/06/24/gradient_boosting_explained.html) and [playground](https://arogozhnikov.github.io/2016/07/05/gradient_boosting_playground.html)\n",
    "- [Stochastic Gradient Descent](http://scikit-learn.org/stable/modules/sgd.html) code, examples, links, pros & cons\n",
    "- [Decision Trees](http://scikit-learn.org/stable/modules/tree.html) code, examples, links, pros & cons, practical advice and [demo](http://www.r2d3.us/visual-intro-to-machine-learning-part-1/)\n",
    "- [Ensembles](http://scikit-learn.org/stable/modules/ensemble.html)\n",
    "    - Bagging and Random Forest [overview](http://machinelearningmastery.com/bagging-and-random-forest-ensemble-algorithms-for-machine-learning/) and [demo](http://cs.stanford.edu/people/karpathy/svmjs/demo/demoforest.html) and Intuitive [ELI5](https://www.quora.com/How-does-randomization-in-a-random-forest-work) explanation, and another layman's [intro](http://blog.echen.me/2011/03/14/laymans-introduction-to-random-forests/)\n",
    "    - Boosting [MLM](http://machinelearningmastery.com/boosting-and-adaboost-for-machine-learning/)\n",
    "- [Clustering](http://scikit-learn.org/stable/modules/clustering.html)    \n",
    "\n",
    "---\n",
    "\n",
    "> ## $Metrics$\n",
    "\n",
    "- Overview Posts [here](http://scott.fortmann-roe.com/docs/MeasuringError.html) and [here](http://blog.districtdatalabs.com/visual-diagnostics-for-more-informed-machine-learning-part-3)\n",
    "- How do you know your model is going to work? [WinVector](http://www.win-vector.com/blog/2015/09/isyourmodelgoingtowork/)\n",
    "- `scikit` Code [here](http://scikit-learn.org/stable/modules/model_evaluation.html) for Model Evaluation (Classification, Regression and Clustering)\n",
    "- ROC Curve [demo](https://arogozhnikov.github.io/2015/10/05/roc-curve.html), [theory](http://blog.yhat.com/posts/roc-curves.html), Tom Fawcett's [paper](https://ccrma.stanford.edu/workshops/mir2009/references/ROCintro.pdf), [Wiki](https://en.wikipedia.org/wiki/Receiver_operating_characteristic), Intuitive Explanation [Quora](https://www.quora.com/Machine-Learning-What-is-an-intuitive-explanation-of-AUC)\n",
    "\n",
    "---\n",
    "\n",
    "> ## $Miscellaneous$\n",
    "\n",
    "- Saving Models [pickles!](http://scikit-learn.org/stable/modules/model_persistence.html)\n",
    "- ML [Checklist](http://machinelearningmastery.com/machine-learning-checklist/)\n",
    "- Improving Models [MLM](http://machinelearningmastery.com/how-to-improve-machine-learning-results/)"
   ]
  },
  {
   "cell_type": "code",
   "execution_count": null,
   "metadata": {
    "collapsed": true
   },
   "outputs": [],
   "source": []
  }
 ],
 "metadata": {
  "anaconda-cloud": {},
  "kernelspec": {
   "display_name": "Python [conda root]",
   "language": "python",
   "name": "conda-root-py"
  },
  "language_info": {
   "codemirror_mode": {
    "name": "ipython",
    "version": 2
   },
   "file_extension": ".py",
   "mimetype": "text/x-python",
   "name": "python",
   "nbconvert_exporter": "python",
   "pygments_lexer": "ipython2",
   "version": "2.7.12"
  },
  "widgets": {
   "state": {},
   "version": "1.1.2"
  }
 },
 "nbformat": 4,
 "nbformat_minor": 0
}
