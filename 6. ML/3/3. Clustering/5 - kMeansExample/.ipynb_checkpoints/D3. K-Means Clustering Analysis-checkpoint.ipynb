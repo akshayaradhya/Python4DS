{
 "cells": [
  {
   "cell_type": "markdown",
   "metadata": {},
   "source": [
    "# Introduction\n",
    "\n",
    "We use the well known Iris data set to explore K-Means clustering further and use the heuristic \"elbow\" method to pick a \"good\" number of clusters. The Iris data set is found in the UCI Repository [1] but is also part of the Python test data.  Here we use SciPy and NumPy to do our computations so this data is already available in the SciPy distribution.  \n",
    "\n",
    "We plot the elbow\n",
    "plot and the K-Means cluster assignment for the final clustering.\n"
   ]
  },
  {
   "cell_type": "markdown",
   "metadata": {},
   "source": [
    "---\n",
    "## Methods"
   ]
  },
  {
   "cell_type": "markdown",
   "metadata": {},
   "source": [
    "As per a discussion on StackOverflow [1] we use NumPy and SciPy to do k-means clustering on the well-known UN countries data set using number of clusters K = 1 to 10.  \n",
    "\n",
    "Although we suspect that there are probably fewer than 10 natural clusters, this allows us to plot a measure called \"within cluster sum-of-squares\" vs. number of clusters.  \n",
    "\n",
    "This measure tracks how \"tight\" a cluster is.  It operates on each cluster and adds up the squares of the distance of each point in a cluster from the centroid of the cluster.  That is, for each point in a cluster we take the distance between that point and the centroid of the cluster and square it.  We do this for each point in the cluster and then we sum it for that cluster.  Then we do this for each cluster.  \n",
    "\n",
    "When we have a \"good\" or tight cluster, individual distances will be small and hence the sum of squares for that cluster be small.  For a \"bad\" or loose cluster the opposite is true.\n",
    "\n",
    "Now further, when we increase the value of K, the value of \"within-cluster-sum-of-squares\" will drop as we have more clusters hence smaller distances to centroids.  But each successive increase in K will not give the same drop.  At some point the improvement will start to level off.  We call that value of K the elbow and use that as the \"good\" value of K.\n",
    "\n",
    "We do this now for the UN countries data set.  "
   ]
  },
  {
   "cell_type": "markdown",
   "metadata": {},
   "source": [
    "---\n",
    "## Results"
   ]
  },
  {
   "cell_type": "markdown",
   "metadata": {},
   "source": [
    "We now use our modeling software to import data, generate the elbow curve, decide on a k, and then run the clustering over our data.\n",
    "We then plot the clusters to visualize how the software has allocated cluster numbers to data points and interpret the results."
   ]
  },
  {
   "cell_type": "code",
   "execution_count": null,
   "metadata": {
    "collapsed": true
   },
   "outputs": [],
   "source": [
    "import os\n",
    "path = os.getcwd()"
   ]
  },
  {
   "cell_type": "code",
   "execution_count": null,
   "metadata": {
    "collapsed": false
   },
   "outputs": [],
   "source": [
    "%pylab inline\n",
    "# We run the following SciPy and NumPy code in [1] \n",
    "# and generate the plots mentioned above using Matplotlib \n",
    "\n",
    "# load the UN dataset transformed to float with 4 numeric columns, \n",
    "# lifeMale,lifeFemale,infantMortality and GDPperCapita\n",
    "import pandas as pd\n",
    "from pandas import Series, DataFrame\n",
    "X = pd.read_csv('UN4col.csv')"
   ]
  },
  {
   "cell_type": "code",
   "execution_count": null,
   "metadata": {
    "collapsed": false
   },
   "outputs": [],
   "source": [
    "print X.head()\n",
    "X = X.values"
   ]
  },
  {
   "cell_type": "code",
   "execution_count": null,
   "metadata": {
    "collapsed": false
   },
   "outputs": [],
   "source": [
    "import numpy as np\n",
    "from scipy.cluster.vq import kmeans, vq\n",
    "from scipy.spatial.distance import cdist\n",
    "import matplotlib.pyplot as plt\n",
    "\n",
    "##### cluster data into K=1..10 clusters #####\n",
    "#K, KM, centroids,D_k,cIdx,dist,avgWithinSS = kmeans.run_kmeans(X,10)\n",
    "\n",
    "K = range(1,10)\n",
    "\n",
    "  # scipy.cluster.vq.kmeans\n",
    "KM = [kmeans(X,k) for k in K] # apply kmeans 1 to 10\n",
    "centroids = [cent for (cent,var) in KM]   # cluster centroids\n",
    "\n",
    "D_k = [cdist(X, cent, 'euclidean') for cent in centroids]\n",
    "\n",
    "cIdx = [np.argmin(D,axis=1) for D in D_k]\n",
    "dist = [np.min(D,axis=1) for D in D_k]\n",
    "avgWithinSS = [sum(d)/X.shape[0] for d in dist]  \n"
   ]
  },
  {
   "cell_type": "code",
   "execution_count": null,
   "metadata": {
    "collapsed": false
   },
   "outputs": [],
   "source": [
    "kIdx = 2\n",
    "# plot elbow curve\n",
    "fig = plt.figure()\n",
    "ax = fig.add_subplot(111)\n",
    "ax.plot(K, avgWithinSS, 'b*-')\n",
    "ax.plot(K[kIdx], avgWithinSS[kIdx], marker='o', markersize=12, \n",
    "      markeredgewidth=2, markeredgecolor='r', markerfacecolor='None')\n",
    "plt.grid(True)\n",
    "plt.xlabel('Number of clusters')\n",
    "plt.ylabel('Average within-cluster sum of squares')\n",
    "tt = plt.title('Elbow for K-Means clustering')  \n"
   ]
  },
  {
   "cell_type": "markdown",
   "metadata": {},
   "source": [
    "So we see that a good K to use in our model would be 3.\n",
    "We now use the KMeans modeling software to fit clusters to our data and then plot how the software has clustered our data.\n",
    "In this case we look at how the data cluster when we plot Infant Mortality against GDP."
   ]
  },
  {
   "cell_type": "code",
   "execution_count": null,
   "metadata": {
    "collapsed": false
   },
   "outputs": [],
   "source": [
    "from sklearn.cluster import KMeans\n",
    "km = KMeans(3, init='k-means++') # initialize\n",
    "km.fit(X)\n",
    "c = km.predict(X) # classify into three clusters"
   ]
  },
  {
   "cell_type": "code",
   "execution_count": null,
   "metadata": {
    "collapsed": false
   },
   "outputs": [],
   "source": [
    "# see the code in helper library kmeans.py\n",
    "# it wraps a number of variables and maps integers to categoriy labels\n",
    "# this wrapper makes it easy to interact with this code and try other variables\n",
    "# as we see below in the next plot\n",
    "import kmeans as mykm\n",
    "(pl0,pl1,pl2) = mykm.plot_clusters(X,c,3,2) # column 3 GDP, vs column 2 infant mortality. Note indexing is 0 based"
   ]
  },
  {
   "cell_type": "markdown",
   "metadata": {},
   "source": [
    "Here we see some patterns, obvious in retrospect.  The countries with GDP (in US Dollars) below 10K have rapidly rising infant mortality as GDP drops. On the other hand as GDP rises we see rapidly decreasing infant mortality, which is as we know, a correlate of financial prosperity, i.e. high GDP.\n",
    "\n",
    "We also see 3 clusters which we can informally call, the underdeveloped, the developing and the developed countries, based on, respectively, GDP (in US Dollars) below 10K, between 10K and 20K and finally greater than 20K.\n"
   ]
  },
  {
   "cell_type": "markdown",
   "metadata": {},
   "source": [
    "What would happen if we tried other dimensions to cluster on, say lifeMale and GDPperCapita.\n",
    "Let's see."
   ]
  },
  {
   "cell_type": "code",
   "execution_count": null,
   "metadata": {
    "collapsed": false
   },
   "outputs": [],
   "source": [
    "(pl0,pl1,pl2) = mykm.plot_clusters(X,c,3,0,False)"
   ]
  },
  {
   "cell_type": "markdown",
   "metadata": {},
   "source": [
    "And similarly with lifeFemale vs GDPperCapita.\n"
   ]
  },
  {
   "cell_type": "code",
   "execution_count": null,
   "metadata": {
    "collapsed": false
   },
   "outputs": [],
   "source": [
    "(pl0,pl1,pl2) = mykm.plot_clusters(X,c,3,1,False)"
   ]
  },
  {
   "cell_type": "markdown",
   "metadata": {},
   "source": [
    "In both the last two cases we see an opposite trend to infant mortality, where life expectancy rises rapidly as GDP grows, but drop precipitously even to below 40 yrs for countries with the lowest GDP."
   ]
  }
 ],
 "metadata": {
  "kernelspec": {
   "display_name": "Python 2",
   "language": "python",
   "name": "python2"
  },
  "language_info": {
   "codemirror_mode": {
    "name": "ipython",
    "version": 2
   },
   "file_extension": ".py",
   "mimetype": "text/x-python",
   "name": "python",
   "nbconvert_exporter": "python",
   "pygments_lexer": "ipython2",
   "version": "2.7.11"
  }
 },
 "nbformat": 4,
 "nbformat_minor": 0
}
