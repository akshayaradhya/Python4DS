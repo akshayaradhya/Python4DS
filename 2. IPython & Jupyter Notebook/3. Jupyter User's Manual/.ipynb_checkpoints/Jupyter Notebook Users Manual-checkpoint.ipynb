{
 "cells": [
  {
   "cell_type": "markdown",
   "metadata": {
    "nbpresent": {
     "id": "4200feee-f23c-4207-9018-554b665bfffb"
    },
    "slideshow": {
     "slide_type": "slide"
    }
   },
   "source": [
    "# Jupyter Notebook Users Manual\n",
    "\n",
    "This page describes the functionality of the [Jupyter](http://jupyter.org) electronic document system. Jupyter documents are called \"notebooks\" and can be seen as many things at once. For example, notebooks allow:\n",
    "\n",
    "* creation in a **standard web browser**\n",
    "* direct **sharing**\n",
    "* using **text with styles** (such as italics and titles) to be explicitly marked using a [wikitext language](http://en.wikipedia.org/wiki/Wiki_markup)\n",
    "* easy creation and display of beautiful **equations**\n",
    "* creation and execution of interactive embedded **computer programs**\n",
    "* easy creation and display of **interactive visualizations**\n",
    "\n",
    "Jupyter notebooks (previously called \"IPython notebooks\") are thus interesting and useful to different groups of people:\n",
    "\n",
    "* readers who want to view and execute computer programs\n",
    "* authors who want to create executable documents or documents with visualizations\n",
    "\n",
    "<hr size=\"5\"/>"
   ]
  },
  {
   "cell_type": "markdown",
   "metadata": {
    "nbpresent": {
     "id": "b0743cec-04e9-46c6-b639-0a6e5dea7528"
    },
    "slideshow": {
     "slide_type": "subslide"
    }
   },
   "source": [
    "# Heading1\n",
    "\n",
    "This page describes [wikitext language](https://en.wikipedia.org/wiki/Wiki_markup)\n",
    "* creation in a\n",
    "* direct  **sharing**\n",
    "\n",
    "\n",
    "#My Awesome inLink"
   ]
  },
  {
   "cell_type": "markdown",
   "metadata": {
    "nbpresent": {
     "id": "41b09f61-3363-47bc-8209-70316604e461"
    }
   },
   "source": [
    "# This is a header"
   ]
  },
  {
   "cell_type": "markdown",
   "metadata": {
    "nbpresent": {
     "id": "53762873-3352-443d-9333-d86b585e779e"
    }
   },
   "source": [
    "### Table of Contents\n",
    "\n",
    "* [1. Getting to Know your Jupyter Notebook's Toolbar](#1.-Getting-to-Know-your-Jupyter-Notebook's-Toolbar)\n",
    "* [2. Different Kinds of Cells](#2.-Different-Kinds-of-Cells)\n",
    "\t* [2.1 Code Cells](#2.1-Code-Cells)\n",
    "\t\t* [2.1.1 Code Cell Layout](#2.1.1-Code-Cell-Layout)\n",
    "\t\t\t* [2.1.1.1 Row Configuration (Default Setting)](#2.1.1.1-Row-Configuration-%28Default-Setting%29)\n",
    "\t\t\t* [2.1.1.2 Cell Tabbing](#2.1.1.2-Cell-Tabbing)\n",
    "\t\t\t* [2.1.1.3 Column Configuration](#2.1.1.3-Column-Configuration)\n",
    "\t* [2.2 Markdown Cells](#2.2-Markdown-Cells)\n",
    "\t* [2.3 Raw Cells](#2.3-Raw-Cells)\n",
    "\t* [2.4 Header Cells](#2.4-Header-Cells)\n",
    "\t\t* [2.4.1 Linking](#2.4.1-Linking)\n",
    "\t\t* [2.4.2 Automatic Section Numbering and Table of Contents Support](#2.4.2-Automatic-Section-Numbering-and-Table-of-Contents-Support)\n",
    "\t\t\t* [2.4.2.1 Automatic Section Numbering](#2.4.2.1-Automatic-Section-Numbering)\n",
    "\t\t\t* [2.4.2.2 Table of Contents Support](#2.4.2.2-Table-of-Contents-Support)\n",
    "\t\t\t* [2.4.2.3 Using Both Automatic Section Numbering and Table of Contents Support](#2.4.2.3-Using-Both-Automatic-Section-Numbering-and-Table-of-Contents-Support)\n",
    "* [3. Keyboard Shortcuts](#3.-Keyboard-Shortcuts)\n",
    "* [4. Using Markdown Cells for Writing](#4.-Using-Markdown-Cells-for-Writing)\n",
    "\t* [4.1 Block Elements](#4.1-Block-Elements)\n",
    "\t\t* [4.1.1 Paragraph Breaks](#4.1.1-Paragraph-Breaks)\n",
    "\t\t* [4.1.2 Line Breaks](#4.1.2-Line-Breaks)\n",
    "\t\t\t* [4.1.2.1 Hard-Wrapping and Soft-Wrapping](#4.1.2.1-Hard-Wrapping-and-Soft-Wrapping)\n",
    "\t\t\t* [4.1.2.2 Soft-Wrapping](#4.1.2.2-Soft-Wrapping)\n",
    "\t\t\t* [4.1.2.3 Hard-Wrapping](#4.1.2.3-Hard-Wrapping)\n",
    "\t\t* [4.1.3 Headers](#4.1.3-Headers)\n",
    "\t\t* [4.1.4 Block Quotes](#4.1.4-Block-Quotes)\n",
    "\t\t\t* [4.1.4.1 Standard Block Quoting](#4.1.4.1-Standard-Block-Quoting)\n",
    "\t\t\t* [4.1.4.2 Nested Block Quoting](#4.1.4.2-Nested-Block-Quoting)\n",
    "\t\t* [4.1.5 Lists](#4.1.5-Lists)\n",
    "\t\t\t* [4.1.5.1 Ordered Lists](#4.1.5.1-Ordered-Lists)\n",
    "\t\t\t* [4.1.5.2 Bulleted Lists](#4.1.5.2-Bulleted-Lists)\n",
    "\t\t* [4.1.6 Section Breaks](#4.1.6-Section-Breaks)\n",
    "\t* [4.2 Backslash Escape](#4.2-Backslash-Escape)\n",
    "\t* [4.3 Hyperlinks](#4.3-Hyperlinks)\n",
    "\t\t* [4.3.1 Automatic Links](#4.3.1-Automatic-Links)\n",
    "\t\t* [4.3.2 Standard Links](#4.3.2-Standard-Links)\n",
    "\t\t* [4.3.3 Standard Links With Mouse-Over Titles](#4.3.3-Standard-Links-With-Mouse-Over-Titles)\n",
    "\t\t* [4.3.4 Reference Links](#4.3.4-Reference-Links)\n",
    "\t\t* [4.3.5 Notebook-Internal Links](#4.3.5-Notebook-Internal-Links)\n",
    "\t\t\t* [4.3.5.1 Standard Notebook-Internal Links Without Mouse-Over Titles](#4.3.5.1-Standard-Notebook-Internal-Links-Without-Mouse-Over-Titles)\n",
    "\t\t\t* [4.3.5.2 Standard Notebook-Internal Links With Mouse-Over Titles](#4.3.5.2-Standard-Notebook-Internal-Links-With-Mouse-Over-Titles)\n",
    "\t\t\t* [4.3.5.3 Reference-Style Notebook-Internal Links](#4.3.5.3-Reference-Style-Notebook-Internal-Links)\n",
    "\t* [4.4 Tables](#4.4-Tables)\n",
    "\t\t* [4.4.1 Cell Justification](#4.4.1-Cell-Justification)\n",
    "\t* [4.5 Style and Emphasis](#4.5-Style-and-Emphasis)\n",
    "\t* [4.6 Other Characters](#4.6-Other-Characters)\n",
    "\t* [4.7 Including Code Examples](#4.7-Including-Code-Examples)\n",
    "\t* [4.8 Images](#4.8-Images)\n",
    "\t\t* [4.8.1 Images from the Internet](#4.8.1-Images-from-the-Internet)\n",
    "\t\t\t* [4.8.1.1 Reference-Style Images from the Internet](#4.8.1.1-Reference-Style-Images-from-the-Internet)\n",
    "\t* [4.9 LaTeX Math](#4.9-LaTeX-Math)\n",
    "* [5. Bibliographic Support](#5.-Bibliographic-Support)\n",
    "\t* [5.1 Creating a Bibtex Database](#5.1-Creating-a-Bibtex-Database)\n",
    "\t\t* [5.1.1 External Bibliographic Databases](#5.1.1-External-Bibliographic-Databases)\n",
    "\t\t* [5.1.2 Internal Bibliographic Databases](#5.1.2-Internal-Bibliographic-Databases)\n",
    "\t\t\t* [5.1.2.1 Hiding Your Internal Database](#5.1.2.1-Hiding-Your-Internal-Database)\n",
    "\t\t* [5.1.3 Formatting Bibtex Entries](#5.1.3-Formatting-Bibtex-Entries)\n",
    "\t* [5.2 Cite Commands and Citation IDs](#5.2-Cite-Commands-and-Citation-IDs)\n",
    "* [6. Turning Your Jupyter Notebook into a Slideshow](#6.-Turning-Your-Jupyter-Notebook-into-a-Slideshow)\n"
   ]
  },
  {
   "cell_type": "markdown",
   "metadata": {
    "nbpresent": {
     "id": "43dd09c3-74f8-40d6-9f01-7413949e285d"
    }
   },
   "source": [
    "# 1. Getting to Know your Jupyter Notebook's Toolbar"
   ]
  },
  {
   "cell_type": "markdown",
   "metadata": {
    "nbpresent": {
     "id": "5d80ccc3-8542-4add-b215-568dba893866"
    },
    "slideshow": {
     "slide_type": "fragment"
    }
   },
   "source": [
    "At the top of your Jupyter Notebook window there is a toolbar. It looks like this:"
   ]
  },
  {
   "cell_type": "markdown",
   "metadata": {
    "nbpresent": {
     "id": "51fd0c95-8425-4353-8a74-878e2d7e9dcb"
    },
    "slideshow": {
     "slide_type": "fragment"
    }
   },
   "source": [
    "![](images/jupytertoolbar.png)"
   ]
  },
  {
   "cell_type": "markdown",
   "metadata": {
    "nbpresent": {
     "id": "c0dfaf58-68a0-429c-a908-666428d2551b"
    },
    "slideshow": {
     "slide_type": "fragment"
    }
   },
   "source": [
    "Below is a table which helpfully pairs a picture of each of the items in your toolbar with a corresponding explanation of its function. "
   ]
  },
  {
   "cell_type": "markdown",
   "metadata": {
    "nbpresent": {
     "id": "88daf019-92ea-4ec5-86ec-6e5788e81915"
    },
    "slideshow": {
     "slide_type": "skip"
    }
   },
   "source": [
    "Button|Function\n",
    ":-:|-\n",
    "![](images/jupytertoolbarsave.png)|This is your save button. You can click this button to save your notebook at any time, though keep in mind that Jupyter Notebooks automatically save your progress very frequently.  \n",
    "![](images/jupytertoolbarnewcell.png)|This is the new cell button. You can click this button any time you want a new cell in your Jupyter Notebook. \n",
    "![](images/jupytertoolbarcutcell.png)|This is the cut cell button. If you click this button, the cell you currently have selected will be deleted from your Notebook. \n",
    "![](images/jupytertoolbarcopycell.png)|This is the copy cell button. If you click this button, the currently selected cell will be duplicated and stored in your clipboard. \n",
    "![](images/jupytertoolbarpastecell.png)|This is the paste button. It allows you to paste the duplicated cell from your clipboard into your notebook. \n",
    "![](images/jupytertoolbarupdown.png)|These buttons allow you to move the location of a selected cell within a Notebook. Simply select the cell you wish to move and click either the up or down button until the cell is in the location you want it to be.\n",
    "![](images/jupytertoolbarrun.png)|This button will \"run\" your cell, meaning that it will interpret your input and render the output in a way that depends on [what kind of cell] [cell kind] you're using. \n",
    "![](images/jupytertoolbarstop.png)|This is the stop button. Clicking this button will stop your cell from continuing to run. This tool can be useful if you are trying to execute more complicated code, which can sometimes take a while, and you want to edit the cell before waiting for it to finish rendering. \n",
    "![](images/jupytertoolbarrestartkernel.png)|This is the restart kernel button. See your kernel documentation for more information.\n",
    "![](images/jupytertoolbarcellkind.png)|This is a drop down menu which allows you to tell your Notebook how you want it to interpret any given cell. You can read more about the [different kinds of cells] [cell kind] in the following section. \n",
    "![](images/jupytertoolbartoolbartype.png)|Individual cells can have their own toolbars. This is a drop down menu from which you can select the type of toolbar that you'd like to use with the cells in your Notebook. Some of the options in the cell toolbar menu will only work in [certain kinds of cells][cell kind]. \"None,\" which is how you specify that you do not want any cell toolbars, is the default setting. If you select \"Edit Metadata,\" a toolbar that allows you to edit data about [Code Cells][code cells] directly will appear in the corner of all the Code cells in your notebook. If you select \"Raw Cell Format,\" a tool bar that gives you several formatting options will appear in the corner of all your [Raw Cells][raw cells]. If you want to view and present your notebook as a slideshow, you can select \"Slideshow\" and a toolbar that enables you to organize your cells in to slides, sub-slides, and slide fragments will appear in the corner of every cell. Go to [this section][slideshow] for more information on how to create a slideshow out of your Jupyter Notebook. \n",
    "\n",
    "\n",
    "[cell kind]: #2.-Different-Kinds-of-Cells \"Different Kinds of Cells\"\n",
    "[code cells]: #2.1-Code-Cells \"Code Cells\"\n",
    "[raw cells]: #2.3-Raw-Cells \"Raw Cells\"\n",
    "[slideshow]: #6.-Turning-Your-Jupyter-Notebook-into-a-Slideshow \"Turning Your Jupyter Notebook Into a Slideshow\"\n",
    "[section numbering]: #2.4.2.1-Automatic-Section-Numbering\n",
    "[table of contents]: #2.4.2.2-Table-of-Contents-Support\n",
    "[cell tabbing]: #2.1.1.2-Cell-Tabbing\n",
    "[cell layout]: #2.1.1-Code-Cell-Layout\n",
    "[bib support]: #5.-Bibliographic-Support\n",
    "[cite commands]: #5.2-Cite-Commands-and-Citation-IDs\n",
    "[md writing]: #4.-Using-Markdown-Cells-for-Writing\n",
    "[collumn configuration]: #2.1.1.3-Column-Configuration\n",
    "[Markdown Cells]: #2.2-Markdown-Cells\n",
    "[Header Cells]: #2.4-Header-Cells\n"
   ]
  },
  {
   "cell_type": "markdown",
   "metadata": {
    "nbpresent": {
     "id": "b07ee4fb-3c6c-45ba-9ac2-31e0083c7272"
    },
    "slideshow": {
     "slide_type": "-"
    }
   },
   "source": [
    "# 2. Different Kinds of Cells"
   ]
  },
  {
   "cell_type": "markdown",
   "metadata": {
    "nbpresent": {
     "id": "798d8c93-aec9-417e-90e9-f7e3924202bf"
    }
   },
   "source": [
    "There are essentially four kinds of cells in your Jupyter notebook: Code Cells, Markdown Cells, Raw Cells, and Header Cells, though there are six levels of Header Cells.  "
   ]
  },
  {
   "cell_type": "markdown",
   "metadata": {
    "nbpresent": {
     "id": "428e25d2-2971-4b1f-80c8-a75eee1647ce"
    }
   },
   "source": [
    "## 2.1 Code Cells"
   ]
  },
  {
   "cell_type": "markdown",
   "metadata": {
    "nbpresent": {
     "id": "fd42bfef-e111-448a-9a8e-e88a108e50d4"
    }
   },
   "source": [
    "By default, Jupyter Notebooks' Code Cells will execute Python. Jupyter Notebooks generally also support JavaScript, Python, HTML, and Bash commands. For a more comprehensive list, see your Kernel's documentation. "
   ]
  },
  {
   "cell_type": "markdown",
   "metadata": {
    "nbpresent": {
     "id": "3fa4135a-3d3b-4f8a-9e7d-42f2dda4c16e"
    }
   },
   "source": [
    "### 2.1.1 Code Cell Layout"
   ]
  },
  {
   "cell_type": "markdown",
   "metadata": {
    "nbpresent": {
     "id": "f877ae9f-5d6a-41cb-9dfd-0f06cf00bc66"
    }
   },
   "source": [
    "Code cells have both an input and an output component. You can view these components in three different ways. "
   ]
  },
  {
   "cell_type": "markdown",
   "metadata": {
    "nbpresent": {
     "id": "84328c56-3fee-4aee-8a3b-4aed06fe0094"
    }
   },
   "source": [
    "#### 2.1.1.1 Row Configuration (Default Setting)"
   ]
  },
  {
   "cell_type": "markdown",
   "metadata": {
    "nbpresent": {
     "id": "eea2a496-fadd-440f-8908-afcb3af79189"
    }
   },
   "source": [
    "Unless you specific otherwise, your Code Cells will always be configured this way, with both the input and output components appearing as horizontal rows and with the input above the output. Below is an example of a Code Cell in this default setting:"
   ]
  },
  {
   "cell_type": "code",
   "execution_count": 1,
   "metadata": {
    "collapsed": false,
    "format": "row",
    "nbpresent": {
     "id": "31839574-9f9d-4951-9c61-f8264f5daa97"
    }
   },
   "outputs": [
    {
     "data": {
      "text/plain": [
       "5"
      ]
     },
     "execution_count": 1,
     "metadata": {},
     "output_type": "execute_result"
    }
   ],
   "source": [
    "2 + 3"
   ]
  },
  {
   "cell_type": "markdown",
   "metadata": {
    "nbpresent": {
     "id": "83e9e965-0477-4708-8865-6fab755929a5"
    }
   },
   "source": [
    "#### 2.1.1.2 Cell Tabbing"
   ]
  },
  {
   "cell_type": "markdown",
   "metadata": {
    "nbpresent": {
     "id": "1494fcd7-3e2f-47f3-8212-96e7b5641b09"
    }
   },
   "source": [
    "Cell tabbing allows you to look at the input and output components of a cell separately. It also allows you to hide either component behind the other, which can be usefull when creating visualizations of data. Below is an example of a tabbed Code Cell:"
   ]
  },
  {
   "cell_type": "code",
   "execution_count": 1,
   "metadata": {
    "collapsed": false,
    "format": "tab",
    "nbpresent": {
     "id": "5c51c961-726f-411d-83b2-c1b6211fab87"
    }
   },
   "outputs": [
    {
     "data": {
      "text/plain": [
       "5"
      ]
     },
     "execution_count": 1,
     "metadata": {},
     "output_type": "execute_result"
    }
   ],
   "source": [
    "2+3"
   ]
  },
  {
   "cell_type": "markdown",
   "metadata": {
    "nbpresent": {
     "id": "55f86ff1-563e-4e2b-88e5-b4536a912f2a"
    }
   },
   "source": [
    "#### 2.1.1.3 Column Configuration"
   ]
  },
  {
   "cell_type": "markdown",
   "metadata": {
    "nbpresent": {
     "id": "ebe711e5-f63d-41e5-934e-7d8f31409baf"
    }
   },
   "source": [
    "Like the row configuration, the column layout option allows you to look at both the input and the output components at once. In the column layout, however, the two components appear beside one another, with the input on the left and the output on the right. Below is an example of a Code Cell in the column configuration:"
   ]
  },
  {
   "cell_type": "code",
   "execution_count": 1,
   "metadata": {
    "collapsed": false,
    "format": "column",
    "nbpresent": {
     "id": "c40a053e-8c1d-4402-92fd-53764253c719"
    }
   },
   "outputs": [
    {
     "data": {
      "text/plain": [
       "5"
      ]
     },
     "execution_count": 1,
     "metadata": {},
     "output_type": "execute_result"
    }
   ],
   "source": [
    "2+3"
   ]
  },
  {
   "cell_type": "markdown",
   "metadata": {
    "nbpresent": {
     "id": "c2c614b0-cb23-44b2-9a7f-ae8f7433015c"
    }
   },
   "source": [
    "## 2.2 Markdown Cells"
   ]
  },
  {
   "cell_type": "markdown",
   "metadata": {
    "nbpresent": {
     "id": "c45b3b8d-df13-4c9e-a33f-8628e8b421e1"
    }
   },
   "source": [
    "In Jupyter Notebooks, Markdown Cells are the easiest way to write and format text. For a more thorough explanation of how to write in Markdown cells, refer to [this section of the guide][writing markdown].\n",
    "\n",
    "[writing markdown]: #4.-Using-Markdown-Cells-for-Writing \"Using Markdown Cells for Writing\"\n",
    "\n"
   ]
  },
  {
   "cell_type": "markdown",
   "metadata": {
    "nbpresent": {
     "id": "47be8247-bc80-4d81-bcb1-a88b24d971a2"
    }
   },
   "source": [
    "## 2.3 Raw Cells"
   ]
  },
  {
   "cell_type": "markdown",
   "metadata": {
    "nbpresent": {
     "id": "dd7566f9-6e0f-4f77-a3c8-816e21d7d239"
    }
   },
   "source": [
    "Raw Cells, unlike all other Jupyter Notebook cells, have no input-output distinction. This means that Raw Cells cannot be rendered into anything other than what they already are. If you click the run button in your tool bar with a Raw Cell selected, the cell will remain exactly as is and your Jupyter Notebook will automatically select the cell directly below it. Raw cells have no style options, just the same monospace font that you use in all other unrendered Notebook cells. You cannot bold, italicize, or enlarge any text or characters in a Raw Cell. \n",
    "\n",
    "Because they have no rendered form, Raw Cells are mainly used to create examples. If you save and close your Notebook and then reopen it, all of the Code, Markdown, and Header Cells will automatically render in whatever form you left them when you first closed the document. This means  that if you wanted to preserve the unrendered version of a cell, say if you were writing a computer science paper and needed code examples, or if you were writing [documentation on how to use Markdown] [writing markdown] and needed to demonstrate what input would yield which output, then you might want to use a Raw Cell to make sure your examples stayed in their most useful form. \n",
    "\n",
    "[writing markdown]: #4.-Using-Markdown-Cells-for-Writing \"Using Markdown Cells for Writing\""
   ]
  },
  {
   "cell_type": "markdown",
   "metadata": {
    "nbpresent": {
     "id": "419115dc-2525-4309-96fe-0a6b0b70e5ba"
    }
   },
   "source": [
    "## 2.4 Header Cells"
   ]
  },
  {
   "cell_type": "markdown",
   "metadata": {
    "nbpresent": {
     "id": "0b8e364f-9fd3-4545-b567-4e14a9028529"
    }
   },
   "source": [
    "While it is possible to organize your document using [Markdown headers][], Header Cells provide a more deeply structural organization for your Notebook and thus there are several advantages to using them. \n",
    "\n",
    "[Markdown headers]: #4.1.3-Headers \"Headers\" "
   ]
  },
  {
   "cell_type": "markdown",
   "metadata": {
    "nbpresent": {
     "id": "7d957a51-7d3e-42c9-83ab-1f7104f2ddfe"
    }
   },
   "source": [
    "### 2.4.1 Linking"
   ]
  },
  {
   "cell_type": "markdown",
   "metadata": {
    "nbpresent": {
     "id": "fac1ca96-2a75-4893-9ee0-8768925c9767"
    }
   },
   "source": [
    "Header Cells have specific locations inside your Notebook. \n",
    "\n",
    "This means you can use them to [create Notebook-internal links](#4.3.5-Notebook-Internal-Links \"Notebook-Internal Links\")."
   ]
  },
  {
   "cell_type": "markdown",
   "metadata": {
    "nbpresent": {
     "id": "3f79b23d-ea44-4f62-b952-30174ba8575b"
    }
   },
   "source": [
    "### 2.4.2 Automatic Section Numbering and Table of Contents Support"
   ]
  },
  {
   "cell_type": "markdown",
   "metadata": {
    "nbpresent": {
     "id": "e32fb3c0-a8fd-4171-b539-3c9758d2d542"
    }
   },
   "source": [
    "Your Jupyter Notebook has two helpful tools that utilize the structural organization that Header Cells give your document: automatic section numbering and table of contents generation. "
   ]
  },
  {
   "cell_type": "markdown",
   "metadata": {
    "nbpresent": {
     "id": "d6ce9733-10d8-4256-b9e1-028d82e53744"
    }
   },
   "source": [
    "#### 2.4.2.1 Automatic Section Numbering"
   ]
  },
  {
   "cell_type": "markdown",
   "metadata": {
    "nbpresent": {
     "id": "bb62a448-6b14-4d09-8430-1929f4e90adc"
    }
   },
   "source": [
    "Suppose you are writing a paper and, as is prone to happening when you have a lot of complicate thoughts buzzing around your brain, you've reorganized your ideas several times. Automatic section numbering will go through your Notebook and number your sections and subsection as designated by your Header Cells. This means that if you've moved one or more big sections around several times, you won't have to go through your paper and renumber it, as well as all its subsections, yourself.\n",
    "\n",
    "\n",
    "\n",
    "**Notes:** Automatic Section Numbering tri-toggling tool, so when you click the Number Sections button one of three actions will occur: Automatic Section Numbering will number your sections, correct inconsistent numbering, or unnumber your sections (if all of your sections are already consistently and correctly numbered). \n",
    "\n",
    "So, even if you have previously numbered your sections, Automatic Section Numbering will go through your document, delete the current section numbers, and replace them the correct number in a linear sequence. This means that if your third section was once your second, Automatic Section Numbering will delete the \"2\" in front of your section's name and replace it with a \"3.\" \n",
    "\n",
    "While this function saves you a lot of time, it creates one limitation. Maybe you're writing a paper about children's books and one of the books you're discussing is called **`2 Cats`**. You've unsurprisingly titled the section where you summarize and analyze this book **`2 Cats`**. Automatic Section Numbering will assume the number 2 is section information and delete it, leaving just the title **`Cats`** behind. If you bold, italicize, or place the title of the section inside quotes, however, the entire section title will be be preserved without any trouble. It should also be noted that even if you must title a section with a number occurring before any letters and you do not want to bold it, italicize it, or place it inside quotes, then you can always run Automatic Section Numbering and then go to that section and retype its name by hand. \n",
    "\n",
    "Because Automatic Section Numbering uses your header cells, its performance relies somewhat on the clarity of your organization. If you have two sections that begin with Header 1 Cells in your paper, and each of the sections has two subsections that begin with Header 2 Cells, Automatic Section Numbering will number them 1, 1.1, 1.2, 2, 2.1, and 2.2 respectively. If, however, you have used a Header 3 Cell to indicate the beginning of what would have been section 2.1, Automatic Section Numbering will number that section 2.0.1 and an error message will appear telling you that \"You placed a Header 3 cell under a Header 2 Cell in section 2\". Similarly, if you begin your paper with any Header Cell smaller than a Header 1, say a Header 3 Cell, then Automatic Section Numbering will number your first section 0.0.3 and an error message will appear telling you that \"Notebook begins with a Header 3 Cell.\"\n"
   ]
  },
  {
   "cell_type": "markdown",
   "metadata": {
    "nbpresent": {
     "id": "f4047584-9bde-4bec-9cd1-b56358816845"
    }
   },
   "source": [
    "#### 2.4.2.2 Table of Contents Support"
   ]
  },
  {
   "cell_type": "markdown",
   "metadata": {
    "nbpresent": {
     "id": "47f57af3-225d-410d-9c63-c1d8f6b1670c"
    }
   },
   "source": [
    "The Table of Contents tool will automatically generate a table of contents for your paper by taking all your Header Cell titles and ordering them in a list, which it will place in a new cell at the very beginning of you Notebook. Because your Notebook does note utilize formal page breaks or numbers, each listed section will be hyperlinked to the actual section within your document.\n",
    "\n",
    "**Notes: **Because Table of Contents Support uses your header cells, its performance relies somewhat on the clarity of your organization. If you have two sections that begin with Header 1 Cells in your paper, and each of the sections has two subsections that begin with Header 2 Cells, Table of Contents will order them in the following way:\n",
    "\n",
    "* 1.\n",
    "   * 1.1\n",
    "   * 1.2\n",
    "* 2.\n",
    "   * 2.1\n",
    "   * 2.2\n",
    "    \n",
    "\n",
    "If, however, you have used a Header 3 Cell to indicate the beginning of what would have been section 2.1, Table of Contents Support will insert a dummy line so that your table of contents looks like this:\n",
    "\n",
    "\n",
    "* 1.\n",
    "   * 1.1\n",
    "   * 1.2\n",
    "* 2.\n",
    "   * &nbsp;           \n",
    "       * 2.0.1\n",
    "   * 2.2\n",
    "\n"
   ]
  },
  {
   "cell_type": "markdown",
   "metadata": {
    "nbpresent": {
     "id": "32851d19-8b09-4b54-b29a-ce36ad427258"
    }
   },
   "source": [
    "#### 2.4.2.3 Using Both Automatic Section Numbering and Table of Contents Support"
   ]
  },
  {
   "cell_type": "markdown",
   "metadata": {
    "nbpresent": {
     "id": "a18d1e7d-f152-4b58-97ee-18af72279b2d"
    }
   },
   "source": [
    "Automatic Section Numbering will always update every aspect of your notebook that is dependent on the title of one or more of your sections. This means that it will automatically correct an existing table of contents and all of your Notebook-internal links to reflect the new numbered section titles.\n"
   ]
  },
  {
   "cell_type": "markdown",
   "metadata": {
    "nbpresent": {
     "id": "400c847b-0f98-433d-8dce-f9f490300d20"
    }
   },
   "source": [
    "# 3. Keyboard Shortcuts"
   ]
  },
  {
   "cell_type": "markdown",
   "metadata": {
    "nbpresent": {
     "id": "c0b5c982-8deb-431a-8203-06f843e82cc3"
    }
   },
   "source": [
    "Jupyter Notebooks support many helpful Keyboard shortcuts, including ones for most of the buttons in [your toolbar][]. To view these shortcuts, you can click the help menu and then select Keyboard Shortcuts, as pictured below. \n",
    "\n",
    "[your toolbar]: #1.-Getting-to-Know-your-Jupyter-Notebook's-Toolbar \"Getting to know Your Jupyter Notebook's Toolbar\""
   ]
  },
  {
   "cell_type": "markdown",
   "metadata": {
    "nbpresent": {
     "id": "f11410ab-8b88-4457-9982-d9dc12e45b3d"
    }
   },
   "source": [
    "![](images/keyboardshortcuts.png)"
   ]
  },
  {
   "cell_type": "markdown",
   "metadata": {
    "nbpresent": {
     "id": "f3f6de18-fa1e-4d05-ba48-9dc9e4af427b"
    }
   },
   "source": [
    "# 4. Using Markdown Cells for Writing"
   ]
  },
  {
   "cell_type": "markdown",
   "metadata": {
    "nbpresent": {
     "id": "80921518-4887-4bcf-bdcf-7b36ea86fcfe"
    }
   },
   "source": [
    "**Why aren't there font and font size selection drop down menus, buttons I can press to bold and italicize my text, or other advanced style options in my Notebook?**"
   ]
  },
  {
   "cell_type": "markdown",
   "metadata": {
    "nbpresent": {
     "id": "2cee4ed4-a161-4869-8db7-c57841f03285"
    }
   },
   "source": [
    "When you use Microsoft Word, Google Docs, Apple Pages, Open Office, or any other word processing software, you generally use your mouse to select various style options, like line spacing, font size, font color, paragraph format etc. This kind of system is often describes as a WYSIWYG (What You See Is What You Get) interface. This means that the input (what you tell the computer) exactly matches the output (what the computer gives back to you). If you type the letter **`G`**, highlight it, select the color green and up the font size to 64 pt, your word processor will show you a fairly large green colored letter **`G`**. And if you print out that document you will print out a fairly large green colored letter **`G`**. \n",
    "\n",
    "This Notebook, however, does not use a WYSIWYG interface. Instead it uses something called a \"[markup Language][]\". When you use a a markup language, your input does not necessarily exactly equal your output.\n",
    "\n",
    "\n",
    "[markup language]: http://en.wikipedia.org/wiki/Markup_language \"Wikipedia Article on Markup\"\n",
    "\n"
   ]
  },
  {
   "cell_type": "markdown",
   "metadata": {
    "nbpresent": {
     "id": "b8b42059-bf69-4a83-84a0-2b9873928a4d"
    }
   },
   "source": [
    "For example, if I type \"#Header 1\" at the beginning of a cell, but then press Shift-Enter (or click the play button at the top of the window), this notebook will turn my input into a somewhat different output in the following way:"
   ]
  },
  {
   "cell_type": "markdown",
   "metadata": {
    "nbpresent": {
     "id": "e3241559-49d2-4f06-a093-8e88b8536093"
    }
   },
   "source": [
    "<pre>\n",
    "#Header 1\n",
    "</pre>"
   ]
  },
  {
   "cell_type": "markdown",
   "metadata": {
    "nbpresent": {
     "id": "ece6f527-049f-4795-9801-fba3814aea02"
    }
   },
   "source": [
    "#Header 1"
   ]
  },
  {
   "cell_type": "markdown",
   "metadata": {
    "nbpresent": {
     "id": "0d1dc791-8634-4df8-b4c5-3614736cd248"
    }
   },
   "source": [
    "And if I type \"##Header 2\" (at the beginning of a cell), this notebook will turn that input into another output:"
   ]
  },
  {
   "cell_type": "markdown",
   "metadata": {
    "nbpresent": {
     "id": "3d28cd77-a702-4094-9089-577db510c762"
    }
   },
   "source": [
    "<pre>\n",
    "##Header 2\n",
    "</pre>"
   ]
  },
  {
   "cell_type": "markdown",
   "metadata": {
    "nbpresent": {
     "id": "0fcfd82b-8d19-4301-a84d-f26ccdf94512"
    }
   },
   "source": [
    "##Header 2"
   ]
  },
  {
   "cell_type": "markdown",
   "metadata": {
    "nbpresent": {
     "id": "3a5e160c-2511-41ba-9aee-81e26279e6d4"
    }
   },
   "source": [
    "In these examples, the hashtags are markers which tell the Notebook how to typeset the text. There are many markup languages, but one family, or perhaps guiding philosophy, of markup languages is called \"Markdown,\" named somewhat jokingly for its simplicity. Your Notebook uses \"marked,\" a Markdown library of typeset and other formatting instructions, like the hashtags in the examples above.\n",
    "\n",
    "Markdown is a markup language that generates HTML, which the cell can interpret and render. This means that Markdown Cells can also render plain HTML code. If you're interested in learning HTML, check out this [helpful online tutorial][html tutorial].\n",
    "\n",
    "[html tutorial]: http://www.w3schools.com/html/ \"w3schools.com HTML Tutorial\""
   ]
  },
  {
   "cell_type": "markdown",
   "metadata": {
    "nbpresent": {
     "id": "0478cde2-3c30-47fd-9d29-2b6ebad03f29"
    }
   },
   "source": [
    "**Why Use Markdown (and not a WYSIWYG)?**"
   ]
  },
  {
   "cell_type": "markdown",
   "metadata": {
    "nbpresent": {
     "id": "853d8aa9-74db-4bf1-8cbf-fa671bf26c1e"
    }
   },
   "source": [
    "Why is Markdown better? Well, it’s worth saying that maybe it isn't. Mainly, it’s not actually a question of better or worse, but of what’s in front of you and of who you are. A definitive answer depends on the user and on that user’s goals and experience. These Notebooks don't use Markdown because it's definitely better, but rather because it's different and thus encourages users to think about their work differently. \n",
    "\n",
    "It is very important for computer science students to learn how to conceptualize input and output as dependent, but also distinct. One good reason to use Markdown is that it encourages this kind of thinking. Relatedly, it might also promote focus on substance over surface aesthetic. Markdown is somewhat limited in its style options, which means that there are inherently fewer non-subject-specific concerns to agonize over while working. It is the conceit of this philosophy that you would, by using Markdown and this Notebook, begin to think of the specific stylistic rendering of your cells as distinct from what you type into those same cells, and thus also think of the content of your writing as necessarily separate from its formating and appearance. "
   ]
  },
  {
   "cell_type": "markdown",
   "metadata": {
    "nbpresent": {
     "id": "d4202b4b-b673-486b-bb26-c616ab57181b"
    }
   },
   "source": [
    "## 4.1 Block Elements"
   ]
  },
  {
   "cell_type": "markdown",
   "metadata": {
    "nbpresent": {
     "id": "a3ddb6d7-4015-4fef-ad24-aaa459e617db"
    }
   },
   "source": [
    "### 4.1.1 Paragraph Breaks"
   ]
  },
  {
   "cell_type": "markdown",
   "metadata": {
    "nbpresent": {
     "id": "c81c79b1-b4ce-4361-8377-18f53ff3dafe"
    }
   },
   "source": [
    "Paragraphs consist of one or more consecutive lines of text and they are separated by one or more blank lines. If a line contains only spaces, it is a blank line."
   ]
  },
  {
   "cell_type": "markdown",
   "metadata": {
    "nbpresent": {
     "id": "f0d5b58e-b31a-4236-bdd2-35d16ba57cb8"
    }
   },
   "source": [
    "### 4.1.2 Line Breaks"
   ]
  },
  {
   "cell_type": "markdown",
   "metadata": {
    "nbpresent": {
     "id": "b3cb8118-b25f-4cfc-8fd0-57c573150dba"
    }
   },
   "source": [
    "#### 4.1.2.1 Hard-Wrapping and Soft-Wrapping"
   ]
  },
  {
   "cell_type": "markdown",
   "metadata": {
    "nbpresent": {
     "id": "b16289ed-3b9b-4efb-bc38-a0faaee67d45"
    }
   },
   "source": [
    "If you're used to word processing software, you've been writing with automatically hard-wrapped lines and paragraphs. In a hard-wrapped paragraph the line breaks are not dependent on the size of the viewing window. If you click and drag your mouse to expand a word processing document, for example, the shape of the paragraphs and the length of the lines will not change. In other words, the length of a hard-wrapped line is determined either by the number of words in the line (in the case of word processing software where this number is predetermined and the program wraps for the user automatically), or individual intention (when a user manually presses an Enter or Return key to control exactly how long a line is).\n",
    "\n",
    "Soft-wrapped paragraphs and lines, however, *do* depend on the size of their viewing window. If you increase the size of a window where soft-wrapped paragraphs are displayed, they too will expand into longer lines, becoming shorter and wider to fill the increased window space horizontally. Unsurprising, then, if you *narrow* a window, soft-wrapped lines will shrink and the paragraphs will become longer vertically. \n",
    "\n",
    "Markdown, unlike most word processing software, does not automatically hard-wrap. If you want your paragraphs to have a particular or deliberate shape and size, you must insert your own break by ending the line with two spaces and then typing Return.\n"
   ]
  },
  {
   "cell_type": "markdown",
   "metadata": {
    "nbpresent": {
     "id": "4d1f8341-f581-45ca-a699-4402c6320044"
    }
   },
   "source": [
    "#### 4.1.2.2 Soft-Wrapping"
   ]
  },
  {
   "cell_type": "markdown",
   "metadata": {
    "nbpresent": {
     "id": "6c112905-cd96-4d8f-8b66-066e96955b8b"
    }
   },
   "source": [
    "<tt>\n",
    "blah blah blah blah blah blah blah blah blah blah blah blah blah blah blah blah blah blah blah blah blah blah blah blah blah blah blah blah blah blah blah blah blah blah blah blah blah blah blah blah blah blah blah blah blah\n",
    "</tt>"
   ]
  },
  {
   "cell_type": "markdown",
   "metadata": {
    "nbpresent": {
     "id": "865597db-95de-4f50-b247-c90dfa6d8a1e"
    }
   },
   "source": [
    "blah blah blah blah blah blah blah blah blah blah blah blah blah blah blah blah blah blah blah blah blah blah blah blah blah blah blah blah blah blah blah blah blah blah blah blah blah blah blah blah blah blah blah blah blah"
   ]
  },
  {
   "cell_type": "markdown",
   "metadata": {
    "nbpresent": {
     "id": "edf0a0c8-af7b-407e-876a-2f1499f20651"
    }
   },
   "source": [
    "#### 4.1.2.3 Hard-Wrapping"
   ]
  },
  {
   "cell_type": "markdown",
   "metadata": {
    "nbpresent": {
     "id": "ba24b0aa-868b-445b-889b-bba9f11854bf"
    }
   },
   "source": [
    "<tt>tjtkjkg  \n",
    "dnfdngkfgkfjgkfjkgjfkgjfkjg  </tt>"
   ]
  },
  {
   "cell_type": "markdown",
   "metadata": {
    "nbpresent": {
     "id": "10b926ab-df92-47fc-9c7c-300eaf0cb076"
    }
   },
   "source": [
    "<tt>\n",
    "blah blah blah blah blah  \n",
    "blah blah blah blah blah blah blah blah blah  \n",
    "blah blah blah blah blah blah blah blah blah blah blah  \n",
    "blah blah blah blah blah  \n",
    "blah blah blah blah blah   \n",
    "blah blah blah blah blah blah blah blah blah blah blah blah blah  \n",
    "</tt>"
   ]
  },
  {
   "cell_type": "markdown",
   "metadata": {
    "nbpresent": {
     "id": "ef1ac8f9-a588-4d7c-80dd-d3066538d771"
    }
   },
   "source": [
    "blah blah blah blah blah  \n",
    "blah blah blah blah blah blah blah blah blah  \n",
    "blah blah blah blah blah blah blah blah blah blah blah  \n",
    "blah blah blah blah blah  \n",
    "blah blah blah blah blah   \n",
    "blah blah blah blah blah blah blah blah blah blah blah blah blah  \n"
   ]
  },
  {
   "cell_type": "markdown",
   "metadata": {
    "nbpresent": {
     "id": "4871efa9-379a-449d-9d1f-4d84c5694310"
    }
   },
   "source": [
    "### 4.1.3 Headers"
   ]
  },
  {
   "cell_type": "markdown",
   "metadata": {
    "nbpresent": {
     "id": "628c7a54-3063-4275-b977-f584b82f20f2"
    }
   },
   "source": [
    "<pre>\n",
    "#Header 1\n",
    "</pre>"
   ]
  },
  {
   "cell_type": "markdown",
   "metadata": {
    "nbpresent": {
     "id": "fd31697a-67d7-4c83-a3f7-4b1808961c2a"
    }
   },
   "source": [
    "# Header 1"
   ]
  },
  {
   "cell_type": "markdown",
   "metadata": {
    "nbpresent": {
     "id": "5525676a-f219-4b28-9c09-f84bbd4c3846"
    }
   },
   "source": [
    "<pre>\n",
    "##Header 2\n",
    "</pre>"
   ]
  },
  {
   "cell_type": "markdown",
   "metadata": {
    "nbpresent": {
     "id": "f81fac56-a844-492f-9f1c-531dfe0a5d7a"
    }
   },
   "source": [
    "## Header 2"
   ]
  },
  {
   "cell_type": "markdown",
   "metadata": {
    "nbpresent": {
     "id": "85429494-880f-43e2-a373-4c9491fb224e"
    }
   },
   "source": [
    "<pre>\n",
    "###Header 3\n",
    "</pre>"
   ]
  },
  {
   "cell_type": "markdown",
   "metadata": {
    "nbpresent": {
     "id": "87d6c0ad-739a-4e53-be12-74d3695dd23b"
    }
   },
   "source": [
    "### Header 3"
   ]
  },
  {
   "cell_type": "markdown",
   "metadata": {
    "nbpresent": {
     "id": "4e32b985-5015-4375-84c8-917872dc8069"
    }
   },
   "source": [
    "<pre>\n",
    "####Header 4\n",
    "</pre>"
   ]
  },
  {
   "cell_type": "markdown",
   "metadata": {
    "nbpresent": {
     "id": "3e5eae35-05bb-414b-bf29-79fa359ecf5c"
    }
   },
   "source": [
    "#### Header 4"
   ]
  },
  {
   "cell_type": "markdown",
   "metadata": {
    "nbpresent": {
     "id": "a6897d39-3e34-4b10-b122-67f13dd9a65b"
    }
   },
   "source": [
    "<pre>\n",
    "#####Header 5\n",
    "</pre>"
   ]
  },
  {
   "cell_type": "markdown",
   "metadata": {
    "nbpresent": {
     "id": "891a3472-4a6f-44d7-8d20-9e61309951c7"
    }
   },
   "source": [
    "##### Header 5"
   ]
  },
  {
   "cell_type": "markdown",
   "metadata": {
    "nbpresent": {
     "id": "a0a0053b-74a5-4e0c-97dc-d81da044e56e"
    }
   },
   "source": [
    "<pre>\n",
    "######Header 6\n",
    "</pre>"
   ]
  },
  {
   "cell_type": "markdown",
   "metadata": {
    "nbpresent": {
     "id": "8d9be281-015f-4ac1-87b6-f488d1503f2e"
    }
   },
   "source": [
    "###### Header 6"
   ]
  },
  {
   "cell_type": "markdown",
   "metadata": {
    "nbpresent": {
     "id": "02839b69-05b6-4313-9385-7e3daf9d3222"
    }
   },
   "source": [
    "### 4.1.4 Block Quotes"
   ]
  },
  {
   "cell_type": "markdown",
   "metadata": {
    "nbpresent": {
     "id": "ee40aefe-ae4f-4b41-ab8d-eca935128825"
    }
   },
   "source": [
    "#### 4.1.4.1 Standard Block Quoting"
   ]
  },
  {
   "cell_type": "markdown",
   "metadata": {
    "nbpresent": {
     "id": "30b1790d-f964-4711-85ff-4f10cf291b6b"
    }
   },
   "source": [
    "<tt>\n",
    ">blah blah block quote blah blah block quote blah blah block  \n",
    "quote blah blah block quote blah blah block   \n",
    "quote blah blah block quote blah blah block quote blah blah block quote\n",
    "</tt>"
   ]
  },
  {
   "cell_type": "markdown",
   "metadata": {
    "nbpresent": {
     "id": "97d7b8a9-0e31-456b-895a-01296a54ded0"
    }
   },
   "source": [
    ">blah blah block quote blah blah block quote blah blah block  \n",
    "quote blah blah block quote blah blah block   \n",
    "quote blah blah block quote blah blah block quote blah blah block quote"
   ]
  },
  {
   "cell_type": "markdown",
   "metadata": {
    "nbpresent": {
     "id": "c5a8cd96-5bca-4f81-8d84-da2a20d02ebc"
    }
   },
   "source": [
    "**Note**: Block quotes work best if you intentionally hard-wrap the lines."
   ]
  },
  {
   "cell_type": "markdown",
   "metadata": {
    "nbpresent": {
     "id": "acd006e6-1e6f-4ced-94ca-683873d4183e"
    }
   },
   "source": [
    "#### 4.1.4.2 Nested Block Quoting"
   ]
  },
  {
   "cell_type": "markdown",
   "metadata": {
    "nbpresent": {
     "id": "1933c664-ce35-4157-80ed-e3e28283b3f8"
    }
   },
   "source": [
    "<pre>\n",
    ">blah blah block quote blah blah block quote blah blah block  \n",
    "block quote blah blah block block quote blah blah block  \n",
    ">>quote blah blah block quote blah blah  \n",
    "block block quote blah blah block   \n",
    ">>>quote blah blah block quote blah blah block quote blah blah block quote\n",
    "</pre>"
   ]
  },
  {
   "cell_type": "markdown",
   "metadata": {
    "nbpresent": {
     "id": "96f7f124-25d2-469b-8695-092119b1f680"
    }
   },
   "source": [
    ">blah blah block quote blah blah block quote blah blah block  \n",
    "block quote blah blah block block quote blah blah block  \n",
    ">>quote blah blah block quote blah blah  \n",
    "block block quote blah blah block   \n",
    ">>>quote blah blah block quote blah blah block quote blah blah block quote"
   ]
  },
  {
   "cell_type": "markdown",
   "metadata": {
    "nbpresent": {
     "id": "35f8ba1e-14af-45ac-93fc-bb0219d1f399"
    }
   },
   "source": [
    "### 4.1.5 Lists"
   ]
  },
  {
   "cell_type": "markdown",
   "metadata": {
    "nbpresent": {
     "id": "5845ebaf-c7b3-4ec0-8c7d-340c2c007f3f"
    }
   },
   "source": [
    ">jkgfjkgjfkjgkfjgkjfkjgkfjkgjkfjgkj  \n",
    "kdfffffffffffffffffffffffffffffffffffffkdfkfdjgitjitjitjitghfnfnbmv  \n",
    ">>hello hi rhabjbjfbjfbjfb  \n",
    ">>>vvnbnbnbnbnbnbnbgjgjghghghghgggggg"
   ]
  },
  {
   "cell_type": "markdown",
   "metadata": {
    "nbpresent": {
     "id": "420d23a2-e278-4351-b077-5341ed09db54"
    }
   },
   "source": [
    "#### 4.1.5.1 Ordered Lists"
   ]
  },
  {
   "cell_type": "markdown",
   "metadata": {
    "nbpresent": {
     "id": "356632bf-db38-4b69-b6db-18e05ddf5888"
    }
   },
   "source": [
    "In Markdown, you can list items using numbers, a **`+`**, a **` - `**, or a **`*`**. However, if the first item in a list or sublist is numbered, Markdown will interpret the entire list as ordered and will automatically number the items linearly, no matter what character you use to denote any given separate item."
   ]
  },
  {
   "cell_type": "markdown",
   "metadata": {
    "nbpresent": {
     "id": "4b284dbf-88fc-49a4-bf96-18e55a283b7d"
    }
   },
   "source": [
    "<pre>\n",
    "####Groceries:\n",
    "\n",
    "0. Fruit:\n",
    "    6. Pears\n",
    "    0. Peaches\n",
    "    3. Plums\n",
    "    4. Apples \n",
    "        2. Granny Smith \n",
    "        7. Gala\n",
    "    * Oranges\n",
    "    - Berries \n",
    "        8. Strawberries \n",
    "        + Blueberries\n",
    "        * Raspberries\n",
    "    - Bananas\n",
    "9. Bread:\n",
    "    9. Whole Wheat\n",
    "        0. With oats on crust\n",
    "        0. Without oats on crust\n",
    "    0. Rye \n",
    "    0. White\n",
    "0. Dairy:\n",
    "    0. Milk\n",
    "        0. Whole\n",
    "        0. Skim\n",
    "    0. Cheese\n",
    "        0. Wisconsin Cheddar\n",
    "        0. Pepper Jack\n",
    "</pre> "
   ]
  },
  {
   "cell_type": "markdown",
   "metadata": {
    "nbpresent": {
     "id": "cc7e8375-d8e0-46d7-b967-7d6258069acb"
    }
   },
   "source": [
    "####Groceries:\n",
    "\n",
    "0. Fruit:\n",
    "    6. Pears\n",
    "    0. Peaches\n",
    "    3. Plums\n",
    "    4. Apples \n",
    "        2. Granny Smith \n",
    "        7. Gala\n",
    "    * Oranges\n",
    "    - Berries \n",
    "        8. Strawberries \n",
    "        + Blueberries\n",
    "        * Raspberries\n",
    "    - Bananas\n",
    "9. Bread:\n",
    "    9. Whole Wheat\n",
    "        0. With oats on crust\n",
    "        0. Without oats on crust\n",
    "    0. Rye \n",
    "    0. White\n",
    "0. Dairy:\n",
    "    0. Milk\n",
    "        0. Whole\n",
    "        0. Skim\n",
    "    0. Cheese\n",
    "        0. Wisconsin Cheddar\n",
    "        0. Pepper Jack"
   ]
  },
  {
   "cell_type": "markdown",
   "metadata": {
    "nbpresent": {
     "id": "2f1bf860-49a0-47ee-89f6-3459a72d622d"
    }
   },
   "source": [
    "#### 4.1.5.2 Bulleted Lists"
   ]
  },
  {
   "cell_type": "markdown",
   "metadata": {
    "nbpresent": {
     "id": "4c4044bb-066b-46ea-a853-ad856c38a9f7"
    }
   },
   "source": [
    "If you begin your list or sublist with a **`+`**, a **` - `**, or a **`*`**, then Markdown will interpret the whole list as unordered and will use bullets regardless of the characters you type before any individual list item."
   ]
  },
  {
   "cell_type": "markdown",
   "metadata": {
    "nbpresent": {
     "id": "4bb9432e-3db5-4cd0-aa5f-b9543019df73"
    }
   },
   "source": [
    "<pre>\n",
    "####Groceries:\n",
    "\n",
    "* Fruit:\n",
    "    * Pears\n",
    "    0. Peaches\n",
    "    3. Plums\n",
    "    4. Apples \n",
    "        - Granny Smith \n",
    "        7. Gala\n",
    "    * Oranges\n",
    "    - Berries \n",
    "        - Strawberries \n",
    "        + Blueberries\n",
    "        * Raspberries\n",
    "    - Bananas\n",
    "9. Bread:\n",
    "    * Whole Wheat\n",
    "        * With oats on crust\n",
    "        0. Without oats on crust\n",
    "    + Rye \n",
    "    0. White\n",
    "0. Dairy:\n",
    "    * Milk\n",
    "        + Whole\n",
    "        0. Skim\n",
    "    - Cheese\n",
    "        - Wisconsin Cheddar\n",
    "        0. Pepper Jack\n",
    "        </pre>"
   ]
  },
  {
   "cell_type": "markdown",
   "metadata": {
    "nbpresent": {
     "id": "8287496c-dfdd-45d8-b6ec-9f5677becb41"
    }
   },
   "source": [
    "####Groceries:\n",
    "\n",
    "* Fruit:\n",
    "    * Pears\n",
    "    0. Peaches\n",
    "    3. Plums\n",
    "    4. Apples \n",
    "        - Granny Smith \n",
    "        7. Gala\n",
    "    * Oranges\n",
    "    - Berries \n",
    "        - Strawberries \n",
    "        + Blueberries\n",
    "        * Raspberries\n",
    "    - Bananas\n",
    "9. Bread:\n",
    "    * Whole Wheat\n",
    "        * With oats on crust\n",
    "        0. Without oats on crust\n",
    "    + Rye \n",
    "    0. White\n",
    "0. Dairy:\n",
    "    * Milk\n",
    "        + Whole\n",
    "        0. Skim\n",
    "    - Cheese\n",
    "        - Wisconsin Cheddar\n",
    "        0. Pepper Jack"
   ]
  },
  {
   "cell_type": "markdown",
   "metadata": {
    "nbpresent": {
     "id": "a3331315-8552-4782-a065-747f98f61d66"
    }
   },
   "source": [
    "Items\n",
    "1. Name:\n",
    "    1. Nidhi\n",
    "    5. Vineet\n",
    "* Place\n",
    "    3. Delhi\n",
    "    7. Mumbai\n",
    "5. Animal\n",
    "    4. Dog\n",
    "    * Cat"
   ]
  },
  {
   "cell_type": "markdown",
   "metadata": {
    "nbpresent": {
     "id": "2f9900a2-c0b5-4cff-ab8e-5c5a7ddac756"
    }
   },
   "source": [
    "---"
   ]
  },
  {
   "cell_type": "markdown",
   "metadata": {
    "nbpresent": {
     "id": "eb083023-0691-46a5-9d65-964b9b279e0d"
    }
   },
   "source": [
    "### 4.1.6 Section Breaks"
   ]
  },
  {
   "cell_type": "markdown",
   "metadata": {
    "nbpresent": {
     "id": "526d1885-b8a9-4a4d-b259-d4e09796e496"
    }
   },
   "source": [
    "<pre>\n",
    "___\n",
    "</pre>"
   ]
  },
  {
   "cell_type": "markdown",
   "metadata": {
    "nbpresent": {
     "id": "e228f53c-66ea-47f4-96f7-cf696e2da32a"
    }
   },
   "source": [
    "___ "
   ]
  },
  {
   "cell_type": "markdown",
   "metadata": {
    "nbpresent": {
     "id": "6372d09e-bfb3-44b0-994f-20b6bc9ad879"
    }
   },
   "source": [
    "<pre>\n",
    "***\n",
    "</pre>"
   ]
  },
  {
   "cell_type": "markdown",
   "metadata": {
    "nbpresent": {
     "id": "011b30af-5101-44b4-bdc5-dfae2a007c7b"
    }
   },
   "source": [
    "***"
   ]
  },
  {
   "cell_type": "markdown",
   "metadata": {
    "nbpresent": {
     "id": "714fdd37-fa3e-437b-a742-1173c7c08c1d"
    }
   },
   "source": [
    "<pre>------</pre>"
   ]
  },
  {
   "cell_type": "markdown",
   "metadata": {
    "nbpresent": {
     "id": "6dfed418-c9a7-4dcf-ba5f-da357d0dc9b0"
    }
   },
   "source": [
    "------"
   ]
  },
  {
   "cell_type": "markdown",
   "metadata": {
    "nbpresent": {
     "id": "3de7e63d-0942-4556-8755-6967985bb516"
    }
   },
   "source": [
    "<pre>\n",
    "* * *\n",
    "</pre>"
   ]
  },
  {
   "cell_type": "markdown",
   "metadata": {
    "nbpresent": {
     "id": "458290d4-da72-4420-9679-cadbabc9b270"
    }
   },
   "source": [
    "* * *"
   ]
  },
  {
   "cell_type": "markdown",
   "metadata": {
    "nbpresent": {
     "id": "a6548b5c-d8bf-4a56-ab7a-a1d7d85b23eb"
    }
   },
   "source": [
    "<pre>\n",
    "_ _ _\n",
    "</pre>"
   ]
  },
  {
   "cell_type": "markdown",
   "metadata": {
    "nbpresent": {
     "id": "fdb9813b-9be3-4202-85fb-45f983ed671b"
    }
   },
   "source": [
    "_ _ _"
   ]
  },
  {
   "cell_type": "markdown",
   "metadata": {
    "nbpresent": {
     "id": "9d183e2d-f1bd-4645-8a2f-9c13d8b91356"
    }
   },
   "source": [
    "<pre> \n",
    "- - -\n",
    "</pre>"
   ]
  },
  {
   "cell_type": "markdown",
   "metadata": {
    "nbpresent": {
     "id": "37399477-0a38-439e-8081-7ae57e41b16b"
    }
   },
   "source": [
    "- - -"
   ]
  },
  {
   "cell_type": "markdown",
   "metadata": {
    "nbpresent": {
     "id": "e3222669-c1e3-4247-90e8-8349ff607a67"
    }
   },
   "source": [
    "## 4.2 Backslash Escape"
   ]
  },
  {
   "cell_type": "markdown",
   "metadata": {
    "nbpresent": {
     "id": "e1b49a7f-19e7-4701-b5a6-40a1e2795530"
    }
   },
   "source": [
    "What happens if you want to include a literal character, like a **`#`**, that usually has a specific function in Markdown? Backslash Escape is a function that prevents Markdown from interpreting a character as an instruction, rather than as the character itself. It works like this:"
   ]
  },
  {
   "cell_type": "markdown",
   "metadata": {
    "nbpresent": {
     "id": "579f1f01-a5af-404a-af5a-a089e86438f5"
    }
   },
   "source": [
    "<pre>\n",
    "\\# Wow, this isn't a header. \n",
    "# This is definitely a header.\n",
    "</pre>"
   ]
  },
  {
   "cell_type": "markdown",
   "metadata": {
    "nbpresent": {
     "id": "9ead8e23-3ca1-4ce6-898e-8c9503b8a5af"
    }
   },
   "source": [
    "\\# Wow, this isn't a header. \n",
    "# This is definitely a header."
   ]
  },
  {
   "cell_type": "markdown",
   "metadata": {
    "nbpresent": {
     "id": "d720320b-300a-43b7-8b98-a0a11ac1ee59"
    }
   },
   "source": [
    "Markdown allows you to use a backslash to escape from the functions of the following characters:\n",
    "* \\   backslash\n",
    "* `   backtick\n",
    "* \\*   asterisk\n",
    "* _   underscore\n",
    "* {}  curly braces\n",
    "* []  square brackets\n",
    "* ()  parentheses\n",
    "* \\#   hashtag\n",
    "* \\+   plus sign|\n",
    "* \\-   minus sign (hyphen)\n",
    "* .   dot\n",
    "* !   exclamation mark"
   ]
  },
  {
   "cell_type": "markdown",
   "metadata": {
    "nbpresent": {
     "id": "2ab179b5-01b4-4064-b721-9898a87f42f1"
    }
   },
   "source": [
    "## 4.3 Hyperlinks"
   ]
  },
  {
   "cell_type": "markdown",
   "metadata": {
    "nbpresent": {
     "id": "463ab4cb-9d1d-4255-a039-0605c9975a18"
    }
   },
   "source": [
    "### 4.3.1 Automatic Links"
   ]
  },
  {
   "cell_type": "markdown",
   "metadata": {
    "nbpresent": {
     "id": "d9921297-3c6f-41b2-ba94-b6d225203980"
    }
   },
   "source": [
    "<pre>\n",
    "http://en.wikipedia.org\n",
    "</pre>"
   ]
  },
  {
   "cell_type": "markdown",
   "metadata": {
    "nbpresent": {
     "id": "9ca5806a-fa49-4109-b01d-b37a9d1b2e34"
    }
   },
   "source": [
    "http://en.wikipedia.org"
   ]
  },
  {
   "cell_type": "markdown",
   "metadata": {
    "nbpresent": {
     "id": "62949875-0065-4242-967c-5d92c3cec06d"
    }
   },
   "source": [
    "### 4.3.2 Standard Links"
   ]
  },
  {
   "cell_type": "markdown",
   "metadata": {
    "nbpresent": {
     "id": "330e42ce-daa6-4a12-9f46-f417b2e8f4d1"
    }
   },
   "source": [
    "<pre>\n",
    "[click this link](http://en.wikipedia.org)\n",
    "</pre>"
   ]
  },
  {
   "cell_type": "markdown",
   "metadata": {
    "nbpresent": {
     "id": "d699faed-4761-4be8-9ba5-f0166240d74f"
    }
   },
   "source": [
    "[click this link](http://en.wikipedia.org)"
   ]
  },
  {
   "cell_type": "markdown",
   "metadata": {
    "nbpresent": {
     "id": "806124d7-7c9f-431e-aa63-16a9ee959150"
    }
   },
   "source": [
    "### 4.3.3 Standard Links With Mouse-Over Titles"
   ]
  },
  {
   "cell_type": "markdown",
   "metadata": {
    "nbpresent": {
     "id": "cae0f1eb-1ee8-466d-9b66-fc6afdbd1000"
    }
   },
   "source": [
    "<pre> \n",
    "[click this link](http://en.wikipedia.org \"Wikipedia\")\n",
    "</pre>"
   ]
  },
  {
   "cell_type": "markdown",
   "metadata": {
    "nbpresent": {
     "id": "ee861216-c719-4445-8a59-4095f0841c6e"
    }
   },
   "source": [
    "[click this link](http://en.wikipedia.org \"Wikipedia\")"
   ]
  },
  {
   "cell_type": "markdown",
   "metadata": {
    "nbpresent": {
     "id": "527dddbd-1215-4bb1-8255-aa8f1e826308"
    }
   },
   "source": [
    "### 4.3.4 Reference Links"
   ]
  },
  {
   "cell_type": "markdown",
   "metadata": {
    "nbpresent": {
     "id": "8adde027-7f25-4877-9c3f-29a7419090ff"
    }
   },
   "source": [
    "Suppose you are writing a document in which you intend to include many links. The format above is a little arduous and if you have to do it repeatedly *while* you're trying to focus on the content of what you're writing, it's going to be a really big pain. \n",
    "\n",
    "Fortunately, there is an alternative way to insert hyperlinks into your text, one where you indicate that there is a link, name that link, and then use the name to provide the actually URL later on when you're less in the writing zone. This method can be thought of as a \"reference-style\" link because it is similar to using in-text citations and then defining those citations later in a more detailed reference section or bibliography. \n"
   ]
  },
  {
   "cell_type": "markdown",
   "metadata": {
    "nbpresent": {
     "id": "5b62f1ce-7a1f-4379-9075-0e5e39c0a27c"
    }
   },
   "source": [
    "<pre>\n",
    "This is [a reference] [identification tag for link]\n",
    "\n",
    "[identification tag for link]: http://en.wikipedia.org/wiki/Chile \"Wikipedia Article About Chile\"\n",
    "</pre>"
   ]
  },
  {
   "cell_type": "markdown",
   "metadata": {
    "nbpresent": {
     "id": "75f98c11-6880-4f62-86d1-ab232668e296"
    }
   },
   "source": [
    "This is [a reference] [identification tag for link]\n",
    "\n",
    "[identification tag for link]: http://en.wikipedia.org/wiki/Chile \"Wikipedia Article About Chile\""
   ]
  },
  {
   "cell_type": "markdown",
   "metadata": {
    "nbpresent": {
     "id": "5eb6d71c-f808-4579-8271-0b51f79c125a"
    }
   },
   "source": [
    "**Note:** The \"identification tag for link\" can be anything. For example:"
   ]
  },
  {
   "cell_type": "markdown",
   "metadata": {
    "nbpresent": {
     "id": "dfed48e4-d3d8-4e20-9b9e-c45e9e8dca8b"
    }
   },
   "source": [
    "<pre>\n",
    "This is [a reference] [lfskdhflhslgfh333676]\n",
    "\n",
    "[lfskdhflhslgfh333676]: http://en.wikipedia.org/wiki/Chile \"Wikipedia Article About Chile\"\n",
    "</pre>"
   ]
  },
  {
   "cell_type": "markdown",
   "metadata": {
    "nbpresent": {
     "id": "aeeb7e7e-0937-47fb-bbe9-d69572a5d9c4"
    }
   },
   "source": [
    "This is [a reference] [lfskdhflhslgfh333676]\n",
    "\n",
    "[lfskdhflhslgfh333676]: http://en.wikipedia.org/wiki/Chile \"Wikipedia Article About Chile\""
   ]
  },
  {
   "cell_type": "markdown",
   "metadata": {
    "nbpresent": {
     "id": "698730fa-9d82-4ff9-8a6a-a5952a5c9fd1"
    }
   },
   "source": [
    "This means you can give your link an intuitive, easy to remember, and relevant ID:"
   ]
  },
  {
   "cell_type": "markdown",
   "metadata": {
    "nbpresent": {
     "id": "a6c51c07-5cf3-480b-a484-8f0097ee40ea"
    }
   },
   "source": [
    "<pre>\n",
    "This is [a reference][Chile]\n",
    "\n",
    "[chile]: http://en.wikipedia.org/wiki/Chile \"Wikipedia Article About Chile\"\n",
    "</pre>"
   ]
  },
  {
   "cell_type": "markdown",
   "metadata": {
    "nbpresent": {
     "id": "ad95ce51-7058-419e-b991-73fcba93466e"
    }
   },
   "source": [
    "This is [a reference][Chile]\n",
    "\n",
    "[chile]: http://en.wikipedia.org/wiki/Chile \"Wikipedia Article About Chile\""
   ]
  },
  {
   "cell_type": "markdown",
   "metadata": {
    "nbpresent": {
     "id": "7fef090c-ebc9-4803-a51e-504c51f0b725"
    }
   },
   "source": [
    "**Note**: Link IDs are not case-sensitive."
   ]
  },
  {
   "cell_type": "markdown",
   "metadata": {
    "nbpresent": {
     "id": "1f2d07ed-2f23-49cc-8449-0de732f6b6d1"
    }
   },
   "source": [
    "If you don't want to give your link an ID, you don't have to. As a short cut, Markdown will understand if you just use the words in the first set of brackets to define the link later on. This works in the following way:"
   ]
  },
  {
   "cell_type": "markdown",
   "metadata": {
    "nbpresent": {
     "id": "9e07781c-483e-444b-8f7b-1c7b5d843d60"
    }
   },
   "source": [
    "<pre>\n",
    "This is [a reference][]\n",
    "\n",
    "[a reference]: http://en.wikipedia.org/wiki/Chile \"Wikipedia Article About Chile\"\n",
    "</pre>"
   ]
  },
  {
   "cell_type": "markdown",
   "metadata": {
    "nbpresent": {
     "id": "29d490d4-24dd-47fe-ba2f-d0d28dc07e00"
    }
   },
   "source": [
    "This is [a reference][]\n",
    "\n",
    "[a reference]: http://en.wikipedia.org/wiki/Chile \"Wikipedia Article About Chile\""
   ]
  },
  {
   "cell_type": "markdown",
   "metadata": {
    "nbpresent": {
     "id": "0949b7fb-760b-4181-a0ae-ec53652e76eb"
    }
   },
   "source": [
    "Another really helpful feature of a reference-style link is that you can define the link anywhere in the cell. (must be in the cell) For example:\n"
   ]
  },
  {
   "cell_type": "markdown",
   "metadata": {
    "nbpresent": {
     "id": "ec181a3c-07dd-4348-84db-a24c754044f6"
    }
   },
   "source": [
    "<tt>\n",
    "This is [a reference] [ref] blah blah blah blah blah blah blah blah blah blah blah blah blah blah blah blah blah blah blah blah blah blah blah blah blah blah blah blah blah blah blah blah blah blah blah blah blah blah blah blah blah blah blah blah blah blah blah blah blah blah blah blah blah blah blah blah blah blah blah blah blah blah blah blah blah blah blah blah blah blah blah blah blah blah blah blah blah blah blah blah blah blah blah blah blah blah blah blah blah blah blah blah blah blah blah blah blah blah blah blah blah blah blah blah blah blah blah blah blah blah blah blah\n",
    "blah blah blah blah blah blah blah blah blah blah blah blah blah blah blah blah blah blah blah blah blah blah blah blah blah blah blah blah blah blah blah blah blah blah blah blah blah blah blah blah blah blah blah blah blah blah blah blah blah blah blah blah blah blah blah blah <br/><br/>\n",
    "\n",
    "[ref]: http://en.wikipedia.org/wiki/Chile \"Wikipedia Article About Chile\"\n",
    "</tt>"
   ]
  },
  {
   "cell_type": "markdown",
   "metadata": {
    "nbpresent": {
     "id": "6b11b7fb-b6fb-4af6-bf4b-980fa08ceb3f"
    }
   },
   "source": [
    "This is [a reference] [ref] blah blah blah blah blah blah blah blah blah blah blah blah blah blah blah blah blah blah blah blah blah blah blah blah blah blah blah blah blah blah blah blah blah blah blah blah blah blah blah blah blah blah blah blah blah blah blah blah blah blah blah blah blah blah blah blah blah blah blah blah blah blah blah blah blah blah blah blah blah blah blah blah blah blah blah blah blah blah blah blah blah blah blah blah blah blah blah blah blah blah blah blah blah blah blah blah blah blah blah blah blah blah blah blah blah blah blah blah blah blah blah blah\n",
    "blah blah blah blah blah blah blah blah blah blah blah blah blah blah blah blah blah blah blah blah blah blah blah blah blah blah blah blah blah blah blah blah blah blah blah blah blah blah blah blah blah blah blah blah blah blah blah blah blah blah blah blah blah blah blah blah\n",
    "\n",
    "[ref]: http://en.wikipedia.org/wiki/Chile \"Wikipedia Article About Chile\""
   ]
  },
  {
   "cell_type": "markdown",
   "metadata": {
    "nbpresent": {
     "id": "110068e1-5438-4ca6-8370-13c3c7ee7adf"
    }
   },
   "source": [
    "**Note:** Providing a mouse-over title for any link, regardless of whether it is a standard or reference-stlye type, is optional. With reference-style links, you can include the mouse-over title by placing it in quotes, single quotes, or parentheses. For standard links, you can only define a mouse-over title in quotes.\n",
    "\n"
   ]
  },
  {
   "cell_type": "markdown",
   "metadata": {
    "nbpresent": {
     "id": "16f41e2d-9e93-47bf-8e9b-d9fb851bda58"
    }
   },
   "source": [
    "### 4.3.5 Notebook-Internal Links"
   ]
  },
  {
   "cell_type": "markdown",
   "metadata": {
    "nbpresent": {
     "id": "1eba6403-a0b5-46f7-b389-5e9f1cc9e700"
    }
   },
   "source": [
    "When you create a Header you also create a discrete location within your Notebook. This means that, just like you can link to a specific location on the web, you can also link to a Header Cell inside your Notebook. Internal links have very similar Markdown formatting to regular links. The only difference is that the name of the link, which is the URL in the case of external links, is just a hashtag plus the name of the Header Cell you are linking to (case-sensitive) with dashes in between every word. If you hover your mouse over a Header Cell, a blue Greek pi letter will appear next to your title. If you click on it, the URL at the top of your window will change and the internal link to that section will appear last in the address. You can copy and paste it in order to make an internal link inside a Markdown Cell.  "
   ]
  },
  {
   "cell_type": "markdown",
   "metadata": {
    "nbpresent": {
     "id": "08e86b6a-0259-4bfb-8c6e-d75a026794af"
    }
   },
   "source": [
    "#### 4.3.5.1 Standard Notebook-Internal Links Without Mouse-Over Titles"
   ]
  },
  {
   "cell_type": "markdown",
   "metadata": {
    "nbpresent": {
     "id": "df570739-0af9-4663-898f-dffd97cb1e22"
    }
   },
   "source": [
    "<pre>\n",
    "&#91;Here's a link to the section of Automatic Section Numbering](&#35;Automatic-Section-Numbering)\n",
    "</pre>"
   ]
  },
  {
   "cell_type": "markdown",
   "metadata": {
    "nbpresent": {
     "id": "0d617357-bfd0-4f36-b601-fa34bea2a279"
    }
   },
   "source": [
    "[Here's a link to the section of Automatic Section Numbering](#2.4.2.1-Automatic-Section-Numbering)"
   ]
  },
  {
   "cell_type": "markdown",
   "metadata": {
    "nbpresent": {
     "id": "4788bba9-5c7b-46ad-8252-05c95f775d2c"
    }
   },
   "source": [
    "#### 4.3.5.2 Standard Notebook-Internal Links With Mouse-Over Titles"
   ]
  },
  {
   "cell_type": "markdown",
   "metadata": {
    "nbpresent": {
     "id": "cacdc071-18a9-4099-bbb9-5a53854417cd"
    }
   },
   "source": [
    "\n",
    "<pre>\n",
    "&#91;Here's a link to the section on lists](#Lists \"Lists\")\n",
    "</pre>"
   ]
  },
  {
   "cell_type": "markdown",
   "metadata": {
    "nbpresent": {
     "id": "6b15bed1-a076-4f4d-b434-79830b5fe40b"
    }
   },
   "source": [
    "[Here's a link to the section of Automatic Section Numbering](#2.4.2.1-Automatic-Section-Numbering)"
   ]
  },
  {
   "cell_type": "markdown",
   "metadata": {
    "nbpresent": {
     "id": "704a7d8a-83c9-43a1-8e11-f97a27d3aa3f"
    }
   },
   "source": [
    "#### 4.3.5.3 Reference-Style Notebook-Internal Links"
   ]
  },
  {
   "cell_type": "markdown",
   "metadata": {
    "nbpresent": {
     "id": "8322efe2-2819-49c7-80f0-81cb0a4a6951"
    }
   },
   "source": [
    "<pre>\n",
    "[Here's a link to the section on Table of Contents Support][TOC]\n",
    "\n",
    "&#91;TOC]: #Table-of-Contents-Support\n",
    "</pre>"
   ]
  },
  {
   "cell_type": "markdown",
   "metadata": {
    "nbpresent": {
     "id": "95d21e80-850d-4afa-8a4b-f2b0c12cbd00"
    }
   },
   "source": [
    "[Here's a link to the section on Table of Contents Support][TOC]\n",
    "\n",
    "[TOC]: #2.4.2.2-Table-of-Contents-Support"
   ]
  },
  {
   "cell_type": "markdown",
   "metadata": {
    "nbpresent": {
     "id": "dcbe4852-9470-44c2-aaca-9884284fd213"
    }
   },
   "source": [
    "## 4.4 Tables"
   ]
  },
  {
   "cell_type": "markdown",
   "metadata": {
    "nbpresent": {
     "id": "900dd504-e863-4af4-8d21-90547bfe089c"
    }
   },
   "source": [
    "In Markdown, you can make a table by using vertical bars and dashes to define the cell and header borders:"
   ]
  },
  {
   "cell_type": "markdown",
   "metadata": {
    "nbpresent": {
     "id": "a4e69623-6d90-4be8-a82e-aa9492827484"
    }
   },
   "source": [
    "<pre>\n",
    "|Header|Header|Header|Header|\n",
    "|------|------|------|------|\n",
    "|Cell  |Cell  |Cell  | Cell |\n",
    "|Cell  |Cell  |Cell  | Cell |\n",
    "|Cell  |Cell  |Cell  | Cell |\n",
    "|Cell  |Cell  |Cell  | Cell |\n",
    "</pre>"
   ]
  },
  {
   "cell_type": "raw",
   "metadata": {
    "nbpresent": {
     "id": "c08b927d-d6c2-4757-8f1d-083ee17dc71d"
    }
   },
   "source": []
  },
  {
   "cell_type": "markdown",
   "metadata": {
    "nbpresent": {
     "id": "47dc51dc-e03d-4081-9527-c777508ad7d8"
    }
   },
   "source": [
    "\n",
    "|Header|Header|Header|\n",
    "|------|------|------|\n",
    "|v1|V2|V3|\n"
   ]
  },
  {
   "cell_type": "markdown",
   "metadata": {
    "nbpresent": {
     "id": "c15adbbd-a9d9-41b3-aad7-920bebb1c230"
    }
   },
   "source": [
    "|Header|Header|Header|Header|\n",
    "|------|------|------|------|\n",
    "|Cell  |Cell  |Cell  | Cell |\n",
    "|Cell  |Cell  |Cell  | Cell |\n",
    "|Cell  |Cell  |Cell  | Cell |\n",
    "|Cell  |Cell  |Cell  | Cell |\n",
    "\n",
    "\n",
    "\n",
    "\n",
    "## my table\n",
    "\n",
    "|col1|col2|col3|\n",
    "|---|---|---|\n",
    "|a|b|c|"
   ]
  },
  {
   "cell_type": "markdown",
   "metadata": {
    "nbpresent": {
     "id": "9890dabe-6ef6-4d2d-8ff8-27ea5cc57101"
    }
   },
   "source": [
    "Making a table this way might be especially useful if you want your document to be legible both rendered and unrendered. However, you don't *need* to include all of those dashes, vertical bars, and spaces for Markdown to understand that you're making a table. Here's the bare minimum you would need to create the table above:  "
   ]
  },
  {
   "cell_type": "markdown",
   "metadata": {
    "nbpresent": {
     "id": "d822d4d3-47b3-4d14-a7fb-b92bf5517811"
    }
   },
   "source": [
    "<pre>\n",
    "Header|Header|Header|Header\n",
    "-|-|-|-\n",
    "Cell|Cell|Cell|Cell\n",
    "Cell|Cell|Cell|Cell\n",
    "Cell|Cell|Cell|Cell\n",
    "Cell|Cell|Cell|Cell\n",
    "</pre>"
   ]
  },
  {
   "cell_type": "markdown",
   "metadata": {
    "nbpresent": {
     "id": "94626911-1190-454a-b4d8-4b5d18c56d95"
    }
   },
   "source": [
    "Header|Header|Header|Header\n",
    "-|-|-|-\n",
    "Cell|Cell|Cell|Cell\n",
    "Cell|Cell|Cell|Cell\n",
    "Cell|Cell|Cell|Cell\n",
    "Cell|Cell|Cell|Cell\n"
   ]
  },
  {
   "cell_type": "markdown",
   "metadata": {
    "nbpresent": {
     "id": "65f8bfb1-ddc2-45e8-9b20-abca289bccf9"
    }
   },
   "source": [
    "It's important to note that the second line of dashes and vertical bars is essential. If you have just the line of headers and the second line of dashes and vertical bars, that's enough for Markdown to make a table. \n",
    "\n",
    "Another important formatting issue has to do with the vertical bars that define the left and right edges of the table. If you include all the vertical bars on the far left and right of the table, like in the first example above, Markdown will ignore them completely. *But*, if you leave out some and include others, Markdown will interpret any extra vertical bar as an additional cell on the side that the bar appears in the unrendered version of the text. This also means that if you include the far left or right vertical bar in the second line of bars and dashes, you must include all of the otherwise optional vertical bars (like in the first example above)."
   ]
  },
  {
   "cell_type": "markdown",
   "metadata": {
    "nbpresent": {
     "id": "7d4b8764-dcc4-4188-9657-0d6321116587"
    }
   },
   "source": [
    "### 4.4.1 Cell Justification"
   ]
  },
  {
   "cell_type": "markdown",
   "metadata": {
    "nbpresent": {
     "id": "f1484b79-1e15-439c-b151-55a338f9f258"
    }
   },
   "source": [
    "If not otherwise specified the text in each header and cell of a table will justify to the left. If, however, you wish to specify either right justification or centering, you may do so like this: "
   ]
  },
  {
   "cell_type": "markdown",
   "metadata": {
    "nbpresent": {
     "id": "728c42ad-e706-4012-993a-4a7b2265d3e6"
    }
   },
   "source": [
    "<tt>\n",
    "**Centered, Right-Justified, and Regular Cells and Headers**:\n",
    "\n",
    "centered header  |  regular header  |  right-justified header  |  centered header  |  regular header  \n",
    ":-:|-|-:|:-:|-\n",
    "centered cell|regular cell|right-justified cell|centered cell|regular cell\n",
    "centered cell|regular cell|right-justified cell|centered cell|regular cell\n",
    "</tt>"
   ]
  },
  {
   "cell_type": "markdown",
   "metadata": {
    "nbpresent": {
     "id": "807c7ec8-935a-4a35-9ddc-52b2e906b5c4"
    }
   },
   "source": [
    "**Centered, Right-Justified, and Regular Cells and Headers**:\n",
    "\n",
    "centered header  |  regular header  |  right-justified header  |  centered header  |  regular header  \n",
    ":-:|-|-:|:-:|-\n",
    "centered cell|regular cell|right-justified cell|centered cell|regular cell\n",
    "centered cell|regular cell|right-justified cell|centered cell|regular cell\n"
   ]
  },
  {
   "cell_type": "markdown",
   "metadata": {
    "nbpresent": {
     "id": "2833ae24-3e5a-40a9-aebc-914fffe36d14"
    }
   },
   "source": [
    "While it is difficult to see that the headers are differently justified from one another, this is just because the longest line of characters in any column defines the width of the headers and cells in that column. "
   ]
  },
  {
   "cell_type": "markdown",
   "metadata": {
    "nbpresent": {
     "id": "51181b31-a293-4ac7-a3a5-8750228c0f4a"
    }
   },
   "source": [
    "**Note:** You cannot make tables directly beneath a line of text. You must put a blank line between the end of a paragraph and the beginning of a table. "
   ]
  },
  {
   "cell_type": "markdown",
   "metadata": {
    "nbpresent": {
     "id": "38cf0db6-d19c-4e24-8765-1f206ce05894"
    }
   },
   "source": [
    "## 4.5 Style and Emphasis"
   ]
  },
  {
   "cell_type": "markdown",
   "metadata": {
    "nbpresent": {
     "id": "e35344c0-e070-4902-be6b-b44b82607831"
    }
   },
   "source": [
    "<pre>\n",
    "*Italics*\n",
    "</pre>"
   ]
  },
  {
   "cell_type": "markdown",
   "metadata": {
    "nbpresent": {
     "id": "06b9baf7-b8c1-4bff-9e8a-928c54b8e8fb"
    }
   },
   "source": [
    "*Italics*"
   ]
  },
  {
   "cell_type": "markdown",
   "metadata": {
    "nbpresent": {
     "id": "f27dd5df-2b24-486e-816f-17f3cf0d8a97"
    }
   },
   "source": [
    "<pre>\n",
    "_Italics_\n",
    "</pre>"
   ]
  },
  {
   "cell_type": "markdown",
   "metadata": {
    "nbpresent": {
     "id": "d246e016-6e2c-4233-8c0a-7f07e5032718"
    }
   },
   "source": [
    "_Italics_"
   ]
  },
  {
   "cell_type": "markdown",
   "metadata": {
    "nbpresent": {
     "id": "1bd03403-1724-4514-9211-b35988eee51d"
    }
   },
   "source": [
    "<pre>\n",
    "**Bold**\n",
    "</pre>"
   ]
  },
  {
   "cell_type": "markdown",
   "metadata": {
    "nbpresent": {
     "id": "675fd687-d633-46db-aab6-3ede6598b751"
    }
   },
   "source": [
    "**Bold**"
   ]
  },
  {
   "cell_type": "markdown",
   "metadata": {
    "nbpresent": {
     "id": "f9dc9dbf-a00e-40a6-b850-ef93a34ba738"
    }
   },
   "source": [
    "<pre>\n",
    "__Bold__\n",
    "</pre>"
   ]
  },
  {
   "cell_type": "markdown",
   "metadata": {
    "nbpresent": {
     "id": "fa741848-a864-43c3-843a-ad2150adca7d"
    }
   },
   "source": [
    "__Bold__"
   ]
  },
  {
   "cell_type": "markdown",
   "metadata": {
    "nbpresent": {
     "id": "bb8dd8e5-ff2f-4ebb-abf3-7dbaa631251f"
    }
   },
   "source": [
    "_Hello_"
   ]
  },
  {
   "cell_type": "markdown",
   "metadata": {
    "nbpresent": {
     "id": "36dc221e-d714-4a1d-ad3c-0df959ecda79"
    }
   },
   "source": [
    "**Note:** If you want actual asterisks or underscores to appear in your text, you can use the [backslash escape function] [backslash] like this:\n",
    "\n",
    "[backslash]: #4.2-Backslash-Escape \"Backslash Escape\""
   ]
  },
  {
   "cell_type": "markdown",
   "metadata": {
    "nbpresent": {
     "id": "4e1f2cbc-3196-418a-a7f1-a421c9363345"
    }
   },
   "source": [
    "<pre>\n",
    "\\*awesome asterisks\\* and \\_incredible under scores\\_\n",
    "</pre>"
   ]
  },
  {
   "cell_type": "markdown",
   "metadata": {
    "nbpresent": {
     "id": "99fc58d3-82ca-4884-aeb1-c916be9a7b47"
    }
   },
   "source": [
    "\\*awesome asterisks\\* and \\_incredible under scores\\_"
   ]
  },
  {
   "cell_type": "markdown",
   "metadata": {
    "nbpresent": {
     "id": "89d269a3-6ca1-4d12-9ad1-c630287d892b"
    }
   },
   "source": [
    "## 4.6 Other Characters"
   ]
  },
  {
   "cell_type": "markdown",
   "metadata": {
    "nbpresent": {
     "id": "80837d9f-1196-4ba8-bbed-76cddb6738a9"
    }
   },
   "source": [
    "<pre> \n",
    "Ampersand &amp;amp; Ampersand\n",
    "</pre>"
   ]
  },
  {
   "cell_type": "markdown",
   "metadata": {
    "nbpresent": {
     "id": "2993b69a-86a1-4ae2-a12e-201600b68599"
    }
   },
   "source": [
    "Ampersand &amp; Ampersand"
   ]
  },
  {
   "cell_type": "markdown",
   "metadata": {
    "nbpresent": {
     "id": "078bb1a9-05f9-4c6f-9be3-43dfb37ed78b"
    }
   },
   "source": [
    "<pre>\n",
    "&amp;lt; angle brackets &amp;gt;\n",
    "</pre>"
   ]
  },
  {
   "cell_type": "markdown",
   "metadata": {
    "nbpresent": {
     "id": "8ae0c597-d866-44b9-8f64-a6d6013213c0"
    }
   },
   "source": [
    "&lt; angle brackets &gt;"
   ]
  },
  {
   "cell_type": "markdown",
   "metadata": {
    "nbpresent": {
     "id": "822a666f-0d52-4a21-a81b-381e5048b493"
    }
   },
   "source": [
    "<pre>\n",
    "&amp;quot; quotes &amp;quot; "
   ]
  },
  {
   "cell_type": "markdown",
   "metadata": {
    "nbpresent": {
     "id": "4aed7802-4b40-4cf8-a10c-780ed72d7bad"
    }
   },
   "source": [
    "&quot; quotes &quot; "
   ]
  },
  {
   "cell_type": "markdown",
   "metadata": {
    "nbpresent": {
     "id": "cc63fa0d-85cd-4723-9bf3-c0ca373a788f"
    }
   },
   "source": [
    "## 4.7 Including Code Examples"
   ]
  },
  {
   "cell_type": "markdown",
   "metadata": {
    "nbpresent": {
     "id": "f5799f1f-e20d-4c4f-ac29-f37279040096"
    }
   },
   "source": [
    "If you want to signify that a particular section of text is actually an example of code, you can use backquotes to surround the code example. These will switch the font to monospace, which creates a clear visual formatting difference between the text that is meant to be code and the text that isn't. \n",
    "\n",
    "Code can either in the middle of a paragraph, or as a block. Use a single backquote to start and stop code in the middle of a paragraph. Here's an example:"
   ]
  },
  {
   "cell_type": "markdown",
   "metadata": {
    "nbpresent": {
     "id": "a2c766b6-d78d-4574-b7d4-24d21ba0c57b"
    }
   },
   "source": [
    "<pre>\n",
    "The word `monospace` will appear in a code-like form.\n",
    "</pre>"
   ]
  },
  {
   "cell_type": "markdown",
   "metadata": {
    "nbpresent": {
     "id": "d40d3197-cc17-4861-9ce0-5891bd501e07"
    }
   },
   "source": [
    "The word `monospace` will appear in a code-like form."
   ]
  },
  {
   "cell_type": "markdown",
   "metadata": {
    "nbpresent": {
     "id": "905ef16b-5c04-4a69-8f25-4ae8c4d4dcb4"
    }
   },
   "source": [
    "**Note:** If you want to include a literal backquote in your code example you must suround the whole text block in double backquotes like this: "
   ]
  },
  {
   "cell_type": "markdown",
   "metadata": {
    "nbpresent": {
     "id": "71a4645d-fce6-42e1-99e7-eeeda599ca28"
    }
   },
   "source": [
    "<pre>\n",
    "`` Look at this literal backquote ` ``\n",
    "</pre>"
   ]
  },
  {
   "cell_type": "markdown",
   "metadata": {
    "nbpresent": {
     "id": "761845d0-4004-4356-a60c-497d721f008c"
    }
   },
   "source": [
    "`` Look at this literal backquote ` ``"
   ]
  },
  {
   "cell_type": "markdown",
   "metadata": {
    "nbpresent": {
     "id": "4d9fcb34-67a0-4a21-a2f9-ff4e65423724"
    }
   },
   "source": [
    "To include a complete code-block inside a Markdown cell, use triple backquotes. Optionally, you can put the name of the language that you are quoting after the starting triple backquotes, like this:"
   ]
  },
  {
   "cell_type": "markdown",
   "metadata": {
    "nbpresent": {
     "id": "2188a466-681c-4106-9f98-d7d7aaae5419"
    }
   },
   "source": [
    "<pre>\n",
    "```python\n",
    "def function(n):\n",
    "    return n + 1\n",
    "```\n",
    "</pre>"
   ]
  },
  {
   "cell_type": "markdown",
   "metadata": {
    "nbpresent": {
     "id": "49a04377-d680-4935-a2e9-57a49e5a1fe0"
    }
   },
   "source": [
    "That will format the code-block (sometimes called \"fenced code\") with syntax coloring. The above code block will be rendered like this:"
   ]
  },
  {
   "cell_type": "markdown",
   "metadata": {
    "nbpresent": {
     "id": "a15f7226-cf2a-4044-b311-fdcb1c425153"
    }
   },
   "source": [
    "```python\n",
    "def function(n):\n",
    "    return n + 1\n",
    "```"
   ]
  },
  {
   "cell_type": "markdown",
   "metadata": {
    "nbpresent": {
     "id": "b515adae-bf4a-41c1-be0f-39da92cc09d6"
    }
   },
   "source": [
    "The language formatting names that you can currently use after the triple backquote are:"
   ]
  },
  {
   "cell_type": "markdown",
   "metadata": {
    "nbpresent": {
     "id": "7dd6732f-d9f4-4e7f-b370-143baaa19c3a"
    }
   },
   "source": [
    "<pre>\n",
    "apl           django   go            jinja2      ntriples    q       smalltalk    toml\n",
    "asterisk      dtd      groovy        julia       octave      r       smarty       turtle\n",
    "clike         dylan    haml          less        pascal      rpm     smartymixed  vb\n",
    "clojure       ecl      haskell       livescript  pegjs       rst     solr         vbscript\n",
    "cobol         eiffel   haxe          lua         perl        ruby    sparql       velocity\n",
    "coffeescript  erlang   htmlembedded  markdown    php         rust    sql          verilog\n",
    "commonlisp    fortran  htmlmixed                 pig         sass    stex         xml\n",
    "css           gas      http          mirc        properties  scheme  tcl          xquery\n",
    "d             gfm      jade          mllike      puppet      shell   tiddlywiki   yaml\n",
    "diff          gherkin  javascript    nginx       python      sieve   tiki         z80\n",
    "</pre>"
   ]
  },
  {
   "cell_type": "markdown",
   "metadata": {
    "nbpresent": {
     "id": "58772b7a-e838-4ae6-a8a5-89d18cc5ba88"
    }
   },
   "source": [
    "## 4.8 Images"
   ]
  },
  {
   "cell_type": "markdown",
   "metadata": {
    "nbpresent": {
     "id": "30059f66-6ad5-4008-8673-a63bfd71fae3"
    }
   },
   "source": [
    "### 4.8.1 Images from the Internet"
   ]
  },
  {
   "cell_type": "markdown",
   "metadata": {
    "nbpresent": {
     "id": "8fa46b31-1f59-4550-9649-fb33d6517597"
    }
   },
   "source": [
    "Inserting an image from the internet is almost identical to inserting a link. You just also type a **`!`** before the first set of brackets:"
   ]
  },
  {
   "cell_type": "markdown",
   "metadata": {
    "nbpresent": {
     "id": "eb18441c-1362-4cb2-9cb5-72a6c4ed13e9"
    }
   },
   "source": [
    "<pre>\n",
    "![It doesn't matter what you write here](http://upload.wikimedia.org/wikipedia/commons/thumb/b/b7/South_African_Giraffe,_head.jpg/877px-South_African_Giraffe,_head.jpg \"Picture of a Giraffe)\n",
    "</pre>"
   ]
  },
  {
   "cell_type": "markdown",
   "metadata": {
    "nbpresent": {
     "id": "2bbdc1e3-9ee7-4947-8e2f-537e02f1234e"
    }
   },
   "source": [
    "![tt](http://upload.wikimedia.org/wikipediamcommons/thumb/b/b7/South_African_Giraffe,_head.jpg/877px-South_African_Giraffe,_head.jpg)"
   ]
  },
  {
   "cell_type": "markdown",
   "metadata": {
    "nbpresent": {
     "id": "a925c62a-cbb0-4ed1-9129-91f2de380aa1"
    }
   },
   "source": [
    "![It doesn't matter what I write here](http://upload.wikimedia.org/wikipedia/commons/thumb/b/b7/South_African_Giraffe,_head.jpg/877px-South_African_Giraffe,_head.jpg \"Picture of a Giraffe\")"
   ]
  },
  {
   "cell_type": "markdown",
   "metadata": {
    "nbpresent": {
     "id": "d6b885d3-0ffa-403a-b612-d8dc7bbcc7d9"
    }
   },
   "source": [
    "**Note:** Unlike with a link, the words that you type in the first set of brackets do not appear when they are rendered into html by Markdown. "
   ]
  },
  {
   "cell_type": "markdown",
   "metadata": {
    "nbpresent": {
     "id": "dc76d7ba-c8c2-469e-9d41-2d7c4c4f7b98"
    }
   },
   "source": [
    "#### 4.8.1.1 Reference-Style Images from the Internet"
   ]
  },
  {
   "cell_type": "markdown",
   "metadata": {
    "nbpresent": {
     "id": "4a599410-64f9-4c3b-b457-e90584c24ba9"
    }
   },
   "source": [
    "Just like with links, you can also use a reference-style format when inserting images from the internet. This involves indicating where you want to place a picture, giving that picture an ID tag, and then later defining that ID tag. The process is nearly identical to using the reference-style format to insert a link:"
   ]
  },
  {
   "cell_type": "markdown",
   "metadata": {
    "nbpresent": {
     "id": "80c98ace-45af-4892-93fd-574ecbe6a488"
    }
   },
   "source": [
    "<pre>\n",
    "![][giraffe]\n",
    "\n",
    "[giraffe]:http://upload.wikimedia.org/wikipedia/commons/thumb/b/b7/South_African_Giraffe,_head.jpg/877px-South_African_Giraffe,_head.jpg \"Picture of a Giraffe\"\n",
    "</pre>"
   ]
  },
  {
   "cell_type": "markdown",
   "metadata": {
    "nbpresent": {
     "id": "6f2c391b-872f-4aa1-b20b-0eb6dfb349a4"
    }
   },
   "source": [
    "![][giraffe]\n",
    "\n",
    "[giraffe]: http://upload.wikimedia.org/wikipedia/commons/thumb/b/b7/South_African_Giraffe,_head.jpg/877px-South_African_Giraffe,_head.jpg \"Picture of a Giraffe\""
   ]
  },
  {
   "cell_type": "markdown",
   "metadata": {
    "nbpresent": {
     "id": "f5beea71-cbee-4966-b311-e6ea1bbd763c"
    }
   },
   "source": [
    "## 4.9 LaTeX Math"
   ]
  },
  {
   "cell_type": "markdown",
   "metadata": {
    "nbpresent": {
     "id": "fbbb26d5-834a-43cd-ad89-cd591ad4e862"
    }
   },
   "source": [
    "Jupyter Notebooks' Markdown cells support LateX for formatting mathematical equations. To tell Markdown to interpret your text as LaTex, surround your input with dollar signs like this:"
   ]
  },
  {
   "cell_type": "markdown",
   "metadata": {
    "nbpresent": {
     "id": "d2b5e809-5f22-4143-ab28-049db5fba3be"
    }
   },
   "source": [
    "<pre>\n",
    "$z=\\dfrac{2x}{3y}$\n",
    "</pre>"
   ]
  },
  {
   "cell_type": "markdown",
   "metadata": {
    "nbpresent": {
     "id": "7fec3820-10e1-43e3-8d93-47cbfdcfccb6"
    }
   },
   "source": [
    "$z=\\dfrac{2x}{3y}$"
   ]
  },
  {
   "cell_type": "markdown",
   "metadata": {
    "nbpresent": {
     "id": "aa2c9632-75df-4ca4-ae82-f33cbd7f71fe"
    }
   },
   "source": [
    "An equation can be very complex:\n",
    "\n",
    "<pre>\n",
    "$F(k) = \\int_{-\\infty}^{\\infty} f(x) e^{2\\pi i k} dx$\n",
    "</pre>"
   ]
  },
  {
   "cell_type": "markdown",
   "metadata": {
    "nbpresent": {
     "id": "bc0fd20d-a426-45ce-a26f-7f6c730c6762"
    }
   },
   "source": [
    "$F(k) = \\int_{-\\infty}^{\\infty} f(x) e^{2\\pi i k} dx$"
   ]
  },
  {
   "cell_type": "markdown",
   "metadata": {
    "nbpresent": {
     "id": "08b8c5a9-5537-491d-84f6-10d71ebabce3"
    }
   },
   "source": [
    "If you want your LaTex equations to be indented towards the center of the cell, surround your input with two dollar signs on each side like this: "
   ]
  },
  {
   "cell_type": "markdown",
   "metadata": {
    "nbpresent": {
     "id": "b48a4a39-8ea2-497f-93c8-f2f5de34ef53"
    }
   },
   "source": [
    "<pre>\n",
    "$$2x+3y=z$$\n",
    "</pre>"
   ]
  },
  {
   "cell_type": "markdown",
   "metadata": {
    "nbpresent": {
     "id": "093b4adb-8c9a-4c5b-b62c-8081d831ce03"
    }
   },
   "source": [
    "$$2x+3y=z$$"
   ]
  },
  {
   "cell_type": "markdown",
   "metadata": {
    "nbpresent": {
     "id": "31e5a651-561a-46de-ad45-d48d97a31b0b"
    }
   },
   "source": [
    "For a comprehensive guide to the mathematical symbols and notations supported by Jupyter Notebooks' Markdown cells, check out [Martin Keefe's helpful reference materials on the subject][mkeefe].\n",
    "\n",
    "[mkeefe]: http://martinkeefe.com/math/mathjax1 \"Martin Keefe's MathJax Guide\""
   ]
  },
  {
   "cell_type": "markdown",
   "metadata": {
    "nbpresent": {
     "id": "9d247841-31b6-43dc-8079-6b2bb581953d"
    }
   },
   "source": [
    "# 5. Bibliographic Support"
   ]
  },
  {
   "cell_type": "markdown",
   "metadata": {
    "nbpresent": {
     "id": "27aa1b23-ad54-44e2-93df-bb1bd04a15ce"
    }
   },
   "source": [
    "Bibliographic Support makes managing references and citations in your Notebook much easier, by automating some of the bibliographic process every person goes through when doing research or writing in an academic context. There are essentially three steps to this process for which your Notebook's Bibliographic support can assist: gathering and organizing sources you intend to use, citing those sources within the text you are writing, and compiling all of the material you referenced in an organized, correctly formatted list, the kind which usually appears at the end of a paper in a section titled \"References,\" \"Bibliography,\" or \"Works Cited. \n",
    "\n",
    "In order to benefit from this functionality, you need to do two things while writing your paper: first, you need to create a [Bibtex database][bibdb] of information about your sources and second, you must use the the [cite command][cc] in your Markdown writing cells to indicate where you want in-text citations to appear.\n",
    "\n",
    "If you do both these things, the \"Generate References\" button will be able to do its job by replacing all of your cite commands with validly formatted in-text citations and creating a References section at the end of your document, which will only ever include the works you specifically cited within in your Notebook. \n",
    "\n",
    "**Note:** References are generated without a header cell, just a [markdown header][]. This means that if you want a References section to appear in your table of contents, you will have to unrender the References cell, delete the \"References\" header, make a Header Cell of the appropriate level and title it \"References\" yourself, and then generate a table of contents using [Table of Contents Support][table of contents]. This way, you can also title your References section \"Bibliography\" or \"Works Cited,\" if you want.\n",
    "\n",
    "[markdown header]: #4.1.3-Headers\n",
    "[table of contents]: #2.4.2.2-Table-of-Contents-Support\n",
    "[bibdb]: #5.1-Creating-a-Bibtex-Database\n",
    "[cc]:#5.2-Cite-Commands-and-Citation-IDs\n",
    "\n",
    "\n"
   ]
  },
  {
   "cell_type": "markdown",
   "metadata": {
    "nbpresent": {
     "id": "3b630ec1-4e23-4259-9c99-4ccf7e898a4f"
    }
   },
   "source": [
    "## 5.1 Creating a Bibtex Database"
   ]
  },
  {
   "cell_type": "markdown",
   "metadata": {
    "nbpresent": {
     "id": "912e8464-e16b-485a-8d3c-8d5acf494244"
    }
   },
   "source": [
    "Bibtex is reference management software for formatting lists of references ([from Wikipedia](BibTeX is reference management software for formatting lists of references \"Wikipedia Article On Bibtex\")). While your Notebook does not use the Bibtex software, it does use [Bibtex formatting](#5.1.3-Formatting-Bibtex-Entries) for creating references within your Bibliographic database.\n",
    "\n",
    "In order for the Generate References button to work, you need a bibliographic database for it to search and match up with the sources you've indicated you want to credit using [cite commands and citation IDs](#5.2-Cite-Commands-and-Citation-IDs).\n",
    "\n",
    "When creating a bibliographic database for your Notebook, you have two options: you can make an external database, which will exist in a separate Notebook from the one you are writing in, or you can make an internal database which will exist in a single cell inside the Notebook in which you are writing. Below are explanations of how to use these database creation strategies, as well as a discussion of the pros and cons for each. "
   ]
  },
  {
   "cell_type": "markdown",
   "metadata": {
    "nbpresent": {
     "id": "5480fa8e-e06a-4e43-b168-2fb9cef9dbfb"
    }
   },
   "source": [
    "### 5.1.1 External Bibliographic Databases"
   ]
  },
  {
   "cell_type": "markdown",
   "metadata": {
    "nbpresent": {
     "id": "f4a7723e-75f9-451e-bd8b-cbafa81d39ca"
    }
   },
   "source": [
    "To create an external bibliographic database, you will need to create a new Notebook and title it **`Bibliography`** in the toplevel folder of your current Jupyter session. As long as you do not also have an internal bibliographic database, when you click the Generate References button your Notebook's Bibliographic Support will search this other **`Bibliography`** Notebook for Bibtex entries. Bibtex entries can be in any cell and in any kind of cell in your **`Bibliography`** Notebook as long as the cell begins with **`<!--bibtex`** and ends with **`-->`**. Go to [this section][bibfor] for examples of valid BibTex formatting.\n",
    "\n",
    "Not every cell has to contain BibTex entries for the external bibliographic database to work as intended with your Notebook's bibliographic support. This means you can use the same helpful organization features that you use in other Notebooks, like [Automatic Section Numbering][asn] and [Table of Contents Support][toc], to structure your own little library of references. The best part of this is that any Notebook containing validly formatted [cite commands][cc] can check your external database and find only the items that you have indicated you want to cite. So you only ever have to make the entry once and your external database can grow large and comprehensive over the course of your accademic writing career. \n",
    "\n",
    "There are several advantages to using an external database over [an internal one][internal database]. The biggest one, which has already been described, is that you will only ever need to create one and you can organize it into sections by using headers and generating [automatic section numbers][asn] and a [table of contents][toc]. These tools will help you to easily find the right [citation ID][cc] for a given source you want to cite. The other major advantage is that an external database is not visible when viewing the Notebook in which you are citing sources and generating a References list. Bibtex databases are not very attractive or readable and you probably won't want one to show up in your finished document. There are [ways to hide internal databases][hiding bibtex cell], but it's convenient not to have to worry about that. \n",
    "\n",
    "\n",
    "[asn]: #2.4.2.1-Automatic-Section-Numbering\n",
    "[toc]: #2.4.2.2-Table-of-Contents-Support\n",
    "[cc]: #5.2-Cite-Commands-and-Citation-IDs\n",
    "[hiding bibtex cell]: #5.1.2.1-Hiding-Your-Internal-Database\n",
    "[bibfor]:#5.1.3-Formatting-Bibtex-Entries"
   ]
  },
  {
   "cell_type": "markdown",
   "metadata": {
    "nbpresent": {
     "id": "d1e44ea1-fc7d-4575-8ece-eb3ea78da7cd"
    }
   },
   "source": [
    "### 5.1.2 Internal Bibliographic Databases"
   ]
  },
  {
   "cell_type": "markdown",
   "metadata": {
    "nbpresent": {
     "id": "30200090-762b-4194-9f5b-944baebeadfd"
    }
   },
   "source": [
    "Unlike [external bibliographic databases][exd], which are comprised from an entire separate notebook, internal bibliographic databases consist of only one cell within in the Notebook in which you are citing sources and compiling a References list. The single cell, like all of the many BibTex cells that can make up an external database, must begin with **`<!--bibtex`** and end with **`-->`** in order to be validly formatted and correctly interpreted by your Notebook's Bibliographic Support. It's probably best to keep this cell at the very end or the very beginning of your Notebook so you always know where it is. This is because when you use an intenral bibliographic databse it can only consist of one cell. This means that if you want to cite multiple sources you will need to keep track of the single cell that comprises your entire internal bibliographic database during every step of the research and writing process. \n",
    "\n",
    "Internal bibliographic databases make more sense when your project is a small one and the list of total sources is short. This is especially convenient if you don't already have a built-up external database. With an internal database you don't have to create and organize a whole separate Notebook, a task that's only useful when you have to keep track of a lot of different material.  Additionally, if you want to share your finished Notebook with others in a form that retains its structural validity, you only have to send one Notebook, as oppose to both the project itself and the Notebook that comprises your external bibliographic database. This is especially useful for a group project, where you want to give another reader the ability to edit, not simply read, your References section. \n",
    "\n",
    "[exd]:#5.1.1-External-Bibliographic-Databases\n"
   ]
  },
  {
   "cell_type": "markdown",
   "metadata": {
    "nbpresent": {
     "id": "3cc2feea-7cb0-4b0d-b1be-b2ceabf46ee1"
    }
   },
   "source": [
    "#### 5.1.2.1 Hiding Your Internal Database"
   ]
  },
  {
   "cell_type": "markdown",
   "metadata": {
    "nbpresent": {
     "id": "ce5f8d0b-c833-4f8c-8287-e46ebc066887"
    }
   },
   "source": [
    "Even though they have some advantages, especially for smaller projects, internal databases have on major draw back. They are not very attractive or polished looking and you probably won't want one to appear in your final product. Fortunately, there are two methods for hiding your internal biblioraphic database.\n",
    "\n",
    "While your Notebook's bibliographic support will be able to interpret [correctly formatted BibTex entries][bibfor] in any [kind of cell][cell kind], if you use a [Markdown Cell][md cell] to store your internal bibliographic database, then when you run the cell all of the ugly BibTex formatting will disappear. This is handy, but it also makes the cell very difficult to find, so remember to keep careful track of where your hidden BibTex databse is if you're planning to edit it later. If you want your final product to be viewed stably as HTML, then you can make your internal BibTex database inside a [Raw Cell][RC], use the [cell toolbar][] to select \"Raw Cell Format\", and then select \"None\" in the toolbar that appears in the corner of your Raw Cell BibTex database. This way, you will still be able to easily find and edit the database when you are working on your Notebook, but others won't be able to see the database when viewing your project in its final form. \n",
    "\n",
    "\n",
    "[cell toolbar]: #1.-Getting-to-Know-your-Jupyter-Notebook's-Toolbar\n",
    "[bibfor]:#5.1.3-Formatting-Bibtex-Entries\n",
    "[RC]:#2.3-Raw-Cells\n",
    "[md cell]: #2.2-Markdown-Cells\n",
    "[cell kind]: #2.-Different-Kinds-of-Cells"
   ]
  },
  {
   "cell_type": "markdown",
   "metadata": {
    "nbpresent": {
     "id": "5da706ec-7e57-4f2e-9d25-24505ac30e3f"
    }
   },
   "source": [
    "### 5.1.3 Formatting Bibtex Entries"
   ]
  },
  {
   "cell_type": "markdown",
   "metadata": {
    "nbpresent": {
     "id": "65ea7fed-6172-48a7-939a-7213a2fb0e15"
    }
   },
   "source": [
    "BibTex entries consist of three crucial components: one, the type of source you are citing (a book, article, website, etc.); two, the unique [citation ID][cc] you wish to remember the source by; and three, the fields of information about that source (author, title of work, date of publication, etc.). Below is an example entry, with each of these three components designated clearly\n",
    "\n",
    "<pre>\n",
    "\n",
    "&lt;!--bibtex\n",
    "\n",
    "@ENTRY TYPE{CITATION ID,\n",
    "    FIELD 1 = {source specific information},\n",
    "    FIELD 2 = {source specific informatio},\n",
    "    FIEL 3 = {source specific informatio},\n",
    "    FIELD 4 = {source specific informatio}\n",
    "}\n",
    "\n",
    "-->\n",
    "\n",
    "</pre>\n",
    "\n",
    "More comprehensive documentation of what entry types and corresponding sets of required and optional fields BibTex supports can be found in the [Wikipedia article on BibTex][wikibibt].\n",
    "\n",
    "Below is a section of the external bibliographic database for a fake history paper about the fictional island nation of Calico. (None of the entries contain information about real books or articles):\n",
    "\n",
    "[cc]: #5.2-Cite-Commands-and-Citation-IDs\n",
    "[wikibibt]: http://en.wikipedia.org/wiki/Markdown\n",
    "\n",
    "\n"
   ]
  },
  {
   "cell_type": "markdown",
   "metadata": {
    "nbpresent": {
     "id": "20f6a886-1cd4-45e7-91e8-2b0eef53188e"
    }
   },
   "source": [
    "<pre>\n",
    "\n",
    "&lt;!--bibtex\n",
    "\n",
    "@book{wellfarecut,\n",
    "    title = {Our Greatest Threat: The Rise of Anti-Wellfare Politics in Calico in the 21st Century},\n",
    "    author = {Jacob, Bernadette},\n",
    "    year = {2010},\n",
    "    publisher = {Jupyter University Press}\n",
    "}\n",
    "                  \n",
    "@article{militaryex2,\n",
    "    title = {Rethinking Calican Military Expansion for the New Century},\n",
    "    author = {Collier, Brian F.},\n",
    "    journal = {Modern Politics},\n",
    "    volume = {60},\n",
    "    issue = {25},\n",
    "    pages = {35 - 70},\n",
    "    year = {2012} \n",
    "}\n",
    "\n",
    "@article{militaryex1,\n",
    "    title = {Conservative Majority Passes Budget to Grow Military},\n",
    "    author = {Lane, Lois},\n",
    "    journal = {The Daily Calican},\n",
    "    month = {October 19th, 2011},\n",
    "    pages = {15 - 17},\n",
    "    year = {2011}\n",
    "}\n",
    "\n",
    "@article{oildrill,\n",
    "    title = {Oil Drilling Off the Coast of Jupyter Approved for Early Next Year},\n",
    "    author = {Marks, Meghan L.},\n",
    "    journal = {The Python Gazette},\n",
    "    month = {December 5th, 2012},\n",
    "    pages = {8 - 9},\n",
    "    year = {2012}\n",
    "}\n",
    "\n",
    "@article{rieseinterview,\n",
    "    title = {Interview with Up and Coming Freshman Senator, Alec Riese of Python},\n",
    "    author = {Wilmington, Oliver},\n",
    "    journal = {The Jupyter Times},\n",
    "    month = {November 24th, 2012},\n",
    "    pages = {4 - 7},\n",
    "    year = {2012}\n",
    "}\n",
    "\n",
    "@book{calicoww2:1,\n",
    "    title = {Calico and WWII: Untold History},\n",
    "    author = {French, Viola},\n",
    "    year = {1997},\n",
    "    publisher = {Calicia City Free Press}\n",
    "}\n",
    "\n",
    "@book{calicoww2:2,\n",
    "    title = {Rebuilding Calico After Japanese Occupation},\n",
    "    author = {Kepps, Milo },\n",
    "    year = {2002},\n",
    "    publisher = {Python Books}\n",
    "}\n",
    "-->\n",
    "</pre>"
   ]
  },
  {
   "cell_type": "markdown",
   "metadata": {
    "nbpresent": {
     "id": "7ccb1451-7681-47ac-aa6f-76ac56422c92"
    }
   },
   "source": [
    "## 5.2 Cite Commands and Citation IDs"
   ]
  },
  {
   "cell_type": "markdown",
   "metadata": {
    "nbpresent": {
     "id": "f0bba018-b91d-444e-98c8-cb680247bb44"
    }
   },
   "source": [
    "When you want to cite a bibliographic entry from a database (either internal or external), you must know the citation ID, sometimes called the \"key\", for that entry. Citation IDs are strings of letters, numbers, and symbols that *you* make up, so they can be any word or combination of words you find easy to remember. Once, you've given an entry a citation ID, however, you do need to use that same ID every time you cite that source, so it may behoove you to keep your database organized. This way it will be much easier to locate any given source's entry and its potentially forgotten citation ID. \n",
    "\n",
    "Once you know the citation ID for a given entry, use the following format to indicate to your Notebook's bibliographic support that you'd like to insert an in-text citation:\n",
    "\n",
    "<pre>\n",
    "[](&#35;cite-CITATION ID)\n",
    "</pre>\n",
    "\n",
    "This format is the cite command. For example, if you wanted to cite *Rebuilding Calico After Japanese Occupation* listed above, you would use the cite command and the specific citation ID for that source:\n",
    "\n",
    "<pre>\n",
    "[](&#35;cite-calicoww2:2)\n",
    "</pre>\n",
    "\n",
    "Before clicking the \"Generate References\" button, your unrendered text might look like this:\n",
    "\n",
    "\n",
    "<pre>\n",
    "Rebuilding Calico took many years &#91;](&#35;cite-calicoww2:2).\n",
    "</pre>\n",
    "\n",
    "\n",
    "After clicking the \"Generate References\" button, your unrendered text might look like this:\n",
    "\n",
    "\n",
    "<pre>\n",
    "Rebuilding Calico took many years &lt;a name=\"ref-1\"/>&#91;(Kepps, 2002)](#cite-calicoww2:2).\n",
    "</pre>\n",
    "\n",
    "\n",
    "and then the text would render as:\n",
    "\n",
    "\n",
    ">Rebuilding Calico took many years <a name=\"ref-1\"/>[(Kepps, 2002)](#cite-calicoww2:2).\n",
    "\n",
    "\n",
    "In addition, a cell would be added at the bottom with the following contents:\n",
    "\n",
    "\n",
    ">#References\n",
    "\n",
    "><a name=\"cite-calicoww2:2\"/><sup>[^](#ref-1) [^](#ref-2) </sup>Kepps, Milo . 2002. _Rebuilding Calico After Japanese Occupation_.\n",
    "\n"
   ]
  },
  {
   "cell_type": "markdown",
   "metadata": {
    "nbpresent": {
     "id": "bb3a6f60-bee6-4b38-be3a-2d9e8c0fff4b"
    }
   },
   "source": [
    "# 6. Turning Your Jupyter Notebook into a Slideshow"
   ]
  },
  {
   "cell_type": "markdown",
   "metadata": {
    "nbpresent": {
     "id": "3ff05414-c2c9-4734-aaf7-b435180e9e1e"
    }
   },
   "source": [
    "To install slideshow support for your Notebook, go [here](http://nbviewer.ipython.org/github/fperez/nb-slideshow-template/blob/master/install-support.ipynb).\n",
    "\n",
    "To see a tutorial and example slideshow, go [here](http://www.damian.oquanta.info/posts/make-your-slides-with-ipython.html)."
   ]
  },
  {
   "cell_type": "code",
   "execution_count": null,
   "metadata": {
    "collapsed": true,
    "nbpresent": {
     "id": "9d66597c-e44f-4759-a659-9b787320a816"
    }
   },
   "outputs": [],
   "source": []
  },
  {
   "cell_type": "markdown",
   "metadata": {
    "nbpresent": {
     "id": "87dedc26-d2cd-4b31-834a-0f7d80cba48c"
    }
   },
   "source": [
    "# Test Driving Markdown\n",
    "\n",
    "## Markdown Advantages\n",
    "\n",
    "Markdown is the opposite of **markup** (HTML is the most popular markup language.)\n",
    "\n",
    "- Easy to format text\n",
    "- Code boxes\n",
    "- Quotes\n",
    "- Links to other notebooks or websites\n",
    "- Images, Videos, Maps\n",
    "\n",
    "Follow this [link](https://www.google.com)\n",
    "\n",
    "\n",
    "| Col A| Col B | Col C |\n",
    "| --- | --- | --- |\n",
    "| VA1 | VB1 | VC1 |\n",
    "| VA2 | VB2 | VC2 |\n",
    "| VA3 | VB3 | VC3 |\n",
    "\n",
    "> The truth shall set you free\n",
    "\n",
    "\n",
    "```python\n",
    "print 'hello world'\n",
    "a = 0\n",
    "b = 1\n",
    "print a + b\n",
    "```\n",
    "\n",
    "---\n",
    "\n",
    "\n",
    "---\n",
    "\n",
    "\n",
    "\n",
    "<img src=\"877px-South_African_Giraffe,_head.jpg\" width='500px'>\n",
    "\n",
    "\n",
    "\n",
    "\n",
    "from IPython.display import YouTubeVideo\n",
    "YouTubeVideo('https://www.youtube.com/watch?v=fZuDwiM1XBQ')"
   ]
  }
 ],
 "metadata": {
  "anaconda-cloud": {},
  "kernelspec": {
   "display_name": "Python [default]",
   "language": "python",
   "name": "python2"
  },
  "language_info": {
   "codemirror_mode": {
    "name": "ipython",
    "version": 2
   },
   "file_extension": ".py",
   "mimetype": "text/x-python",
   "name": "python",
   "nbconvert_exporter": "python",
   "pygments_lexer": "ipython2",
   "version": "2.7.12"
  },
  "nbpresent": {
   "slides": {},
   "themes": {}
  }
 },
 "nbformat": 4,
 "nbformat_minor": 0
}
