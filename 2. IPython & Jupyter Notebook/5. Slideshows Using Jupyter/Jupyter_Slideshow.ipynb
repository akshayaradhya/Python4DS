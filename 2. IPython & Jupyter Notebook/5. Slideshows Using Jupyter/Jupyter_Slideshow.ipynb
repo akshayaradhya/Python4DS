{
 "cells": [
  {
   "cell_type": "markdown",
   "metadata": {
    "slideshow": {
     "slide_type": "slide"
    }
   },
   "source": [
    "# Topics\n",
    "\n",
    "- ## Jupyter Features in Detail\n",
    "- ## Basic Python (data types, data structures, flow control)\n",
    "\n",
    "***"
   ]
  },
  {
   "cell_type": "markdown",
   "metadata": {
    "slideshow": {
     "slide_type": "slide"
    }
   },
   "source": [
    "# 1. Jupyter Notebooks\n",
    "\n",
    "Jupyter notebooks are an **interface** to a programming language, surrounded by a rich environment for documenting, visualizing, and writing code and sharing results."
   ]
  },
  {
   "cell_type": "markdown",
   "metadata": {
    "slideshow": {
     "slide_type": "subslide"
    }
   },
   "source": [
    "Jupyter/IPython Notebooks also allow\n",
    "\n",
    "* creation in a **standard web browser**\n",
    "* direct **sharing**\n",
    "* using **text with styles** (such as italics and titles)\n",
    "* easy creation and display of beautiful **equations**\n",
    "* creation and execution of interactive embedded **computer programs**\n",
    "* easy creation and display of **interactive visualizations**"
   ]
  },
  {
   "cell_type": "markdown",
   "metadata": {
    "slideshow": {
     "slide_type": "fragment"
    }
   },
   "source": [
    "These notebooks are  interesting and useful to different groups of people:\n",
    "    \n",
    "- readers who want to view and execute computer programs\n",
    "- authors who want to create executable documents or documents with visualizations"
   ]
  },
  {
   "cell_type": "markdown",
   "metadata": {
    "slideshow": {
     "slide_type": "subslide"
    }
   },
   "source": [
    "## 1.1 Backend and Front End\n",
    "\n",
    "When you open or create a notebook, you are actually starting two things:\n",
    "\n",
    "1. a backend kernel process that will handle the execution of your code\n",
    "1. a frontend webpage that allows typing in code, saving the notebook, etc.\n",
    "\n",
    "The backend kernel can be in any number of programming languages, including \n",
    "\n",
    "- Python 2, \n",
    "- Python 3, \n",
    "- R, \n",
    "- Scala, \n",
    "- Julia etc.\n",
    "\n",
    "This server is running on a Linux terminal or the command prompt. \n",
    "\n",
    "You can also talk directly to this computer by using \"shell magics\"."
   ]
  },
  {
   "cell_type": "markdown",
   "metadata": {
    "slideshow": {
     "slide_type": "subslide"
    }
   },
   "source": [
    "### 1.2.1 Code"
   ]
  },
  {
   "cell_type": "markdown",
   "metadata": {
    "slideshow": {
     "slide_type": "fragment"
    }
   },
   "source": [
    "- Using Jupyter, we may execute code in many computer languages. \n",
    "\n",
    "- By default, a newly created notebook will use \"IPython (Python 2)\". \n",
    "\n",
    "- You can also install other languages.\n",
    "\n",
    "- Code is executed by a \"kernel\". We will refer to a language as a kernel in much of the Jupyter documentation."
   ]
  },
  {
   "cell_type": "markdown",
   "metadata": {
    "slideshow": {
     "slide_type": "subslide"
    }
   },
   "source": [
    "### 1.2.2 Magics"
   ]
  },
  {
   "cell_type": "markdown",
   "metadata": {
    "slideshow": {
     "slide_type": "fragment"
    }
   },
   "source": [
    "Jupyter uses the word \"magic\" to refer to \"meta commands\". These meta commands are largely independent of the particular kernel you are using. However, the magics for each kernel may differ.\n",
    "\n",
    "Below we show some command magics."
   ]
  },
  {
   "cell_type": "markdown",
   "metadata": {
    "slideshow": {
     "slide_type": "subslide"
    }
   },
   "source": [
    "### 1.2.2.1 Shell commands"
   ]
  },
  {
   "cell_type": "markdown",
   "metadata": {
    "slideshow": {
     "slide_type": "fragment"
    }
   },
   "source": [
    "In a Jupyter notebook, you can talk directly to the computer through an operating system shell. \n",
    "\n",
    "- To list out the files in the current directy, us the `ls` command:"
   ]
  },
  {
   "cell_type": "code",
   "execution_count": 3,
   "metadata": {
    "collapsed": false,
    "slideshow": {
     "slide_type": "fragment"
    }
   },
   "outputs": [
    {
     "name": "stdout",
     "output_type": "stream",
     "text": [
      "total 2192\r\n",
      "-rw-------@ 1 Dushyant  staff  460859 Feb 10  2016 Converting notebooks to other formats — IPython 2.4.pdf\r\n",
      "-rw-r--r--@ 1 Dushyant  staff    6764 Sep  1 12:44 Example_Ipython.ipynb\r\n",
      "-rw-r--r--@ 1 Dushyant  staff   10731 Sep  1 12:51 Jupyter_Slideshow.ipynb\r\n",
      "-rw-r--r--@ 1 Dushyant  staff  205135 Sep  1 12:47 Jupyter_Slideshow.slides.html\r\n",
      "-rw-------@ 1 Dushyant  staff  105765 Feb 10  2016 Make slides with IPython notebook _ Sequencing QC and data analysis blog.pdf\r\n",
      "-rw-r--r--@ 1 Dushyant  staff      72 Sep  1 12:41 Untitled.ipynb\r\n",
      "-rw-------@ 1 Dushyant  staff  317244 Feb 10  2016 terminal - How to covert .pdf\r\n"
     ]
    }
   ],
   "source": [
    "! ls -l"
   ]
  },
  {
   "cell_type": "code",
   "execution_count": 2,
   "metadata": {
    "collapsed": false
   },
   "outputs": [
    {
     "name": "stdout",
     "output_type": "stream",
     "text": [
      "/bin/sh: dir: command not found\r\n"
     ]
    }
   ],
   "source": [
    "! dir"
   ]
  },
  {
   "cell_type": "markdown",
   "metadata": {
    "slideshow": {
     "slide_type": "fragment"
    }
   },
   "source": [
    "- Use `pwd` to \"print working direct\":"
   ]
  },
  {
   "cell_type": "code",
   "execution_count": 4,
   "metadata": {
    "collapsed": false,
    "slideshow": {
     "slide_type": "fragment"
    }
   },
   "outputs": [
    {
     "name": "stdout",
     "output_type": "stream",
     "text": [
      "/Users/lr/Dropbox/4. ABDS - Nov 16' Batch/2. IPython & Jupyter Notebook/5. Slideshows Using Jupyter\r\n"
     ]
    }
   ],
   "source": [
    "! pwd"
   ]
  },
  {
   "cell_type": "markdown",
   "metadata": {
    "slideshow": {
     "slide_type": "subslide"
    }
   },
   "source": [
    "### 1.2.2.2 Help commands"
   ]
  },
  {
   "cell_type": "markdown",
   "metadata": {
    "slideshow": {
     "slide_type": "fragment"
    }
   },
   "source": [
    "You can usually put a question mark before or after an item's name and execute the shell. \n",
    "\n",
    "- Usually, one question mark means \"give me a hint about what this is\"; \n",
    "- two question marks mean \"give me more details\". \n",
    "\n",
    "You can also press SHIFT+TAB after a word in an expression and see the hint. "
   ]
  },
  {
   "cell_type": "code",
   "execution_count": null,
   "metadata": {
    "collapsed": false,
    "slideshow": {
     "slide_type": "fragment"
    }
   },
   "outputs": [],
   "source": [
    "?dir"
   ]
  },
  {
   "cell_type": "markdown",
   "metadata": {
    "slideshow": {
     "slide_type": "fragment"
    }
   },
   "source": [
    "Press SHIFT+TAB with the cursor between the parentheses:"
   ]
  },
  {
   "cell_type": "code",
   "execution_count": null,
   "metadata": {
    "collapsed": false,
    "slideshow": {
     "slide_type": "fragment"
    }
   },
   "outputs": [],
   "source": [
    "dir()"
   ]
  },
  {
   "cell_type": "markdown",
   "metadata": {
    "slideshow": {
     "slide_type": "subslide"
    }
   },
   "source": [
    "### 1.2.2.3 Magic commands"
   ]
  },
  {
   "cell_type": "markdown",
   "metadata": {
    "slideshow": {
     "slide_type": "subslide"
    }
   },
   "source": [
    "Within the same notebook, you can run bits of code from different languages in different cells using \"magics\".\n",
    "\n",
    "- Magic commands start out with either a \"!\", \"?\", or \"%\":\n",
    "- run `%lsmagic` in a cell you get a list of all the available magics. \n",
    "- use a single `%` to start a single-line expression to run with the magics command. \n",
    "- use a double `%%` to run a multi-line expression."
   ]
  },
  {
   "cell_type": "code",
   "execution_count": null,
   "metadata": {
    "collapsed": false
   },
   "outputs": [],
   "source": [
    "%lsmagic"
   ]
  },
  {
   "cell_type": "code",
   "execution_count": null,
   "metadata": {
    "collapsed": true
   },
   "outputs": [],
   "source": [
    "%load "
   ]
  },
  {
   "cell_type": "markdown",
   "metadata": {
    "slideshow": {
     "slide_type": "subslide"
    }
   },
   "source": [
    "## Line magics\n",
    "    \n",
    "    \n",
    "    %cd PATH - change current directory of session\n",
    "    %connect_info - show connection information\n",
    "    %download URL [FILENAME] - download file from URL\n",
    "    %html CODE - display code as HTML\n",
    "    %install_magic URL - download and install magic from URL\n",
    "    %javascript CODE - send code as JavaScript\n",
    "    %latex TEXT - display text as LaTeX\n",
    "    %lsmagic - list the current line and cell magics\n",
    "    %magic - show installed magics\n",
    "    %reload_magics - reload the magics from the installed files\n",
    "    %shell COMMAND - run the line as a shell command\n",
    "    %time COMMAND - show time to run line"
   ]
  },
  {
   "cell_type": "markdown",
   "metadata": {
    "slideshow": {
     "slide_type": "subslide"
    }
   },
   "source": [
    "# Cell magics\n",
    "    \n",
    "    %%file FILENAME - write contents of cell to file\n",
    "    %%html - display contents of cell as HTML\n",
    "    %%javascript - send contents of cell as JavaScript\n",
    "    %%latex - display contents of cell as LaTeX\n",
    "    %%shell - run the contents of the cell as shell commands\n",
    "    %%time - show time to run cell"
   ]
  },
  {
   "cell_type": "markdown",
   "metadata": {
    "slideshow": {
     "slide_type": "subslide"
    }
   },
   "source": [
    "# Some useful Magics\n",
    "\n",
    "- `% env` to list your **environment variables.**\n",
    "\n",
    "\n",
    "- `!` to run a shell command. \n",
    "    - E.g., `! pip freeze | grep pandas` to see what version of pandas is installed.\n",
    "\n",
    "\n",
    "- `% pastebin 'file.py'` to upload code to pastebin and get the url returned.\n",
    "\n",
    "\n",
    "- `% bash` to run cell with bash in a subprocess. \n",
    "\n",
    "\n",
    "- `%time` and `timeit` for finding time (or average time) that a piece of code takes to run\n",
    "\n",
    "\n",
    "- `%%latex` to render contents as LaTeX\n",
    "\n",
    "\n",
    "- `%%HTML` to render contents as HTML\n",
    "    - Use this to embed images, videos, songs, etc in your notebook.\n",
    "\n",
    "\n",
    "```\n",
    "%%HTML\n",
    "<audio controls>\n",
    " <source src=\"http://media.w3.org/2010/07/bunny/04-Death_Becomes_Fur.mp4\"\n",
    "         type='audio/mp4'>\n",
    "```\n",
    "\n",
    "\n",
    "- `%%R` to run R code in a cell, after you've loaded the `rmagics` extension with `%load_ext rmagic` \n",
    "    - use `%Rpush` and `%Rpull` to move values back and forth between R and Python\n",
    "    \n",
    "```\n",
    "X = np.random.randn(10)\n",
    "%Rpush X\n",
    "%R mean(X)\n",
    "```\n"
   ]
  },
  {
   "cell_type": "code",
   "execution_count": null,
   "metadata": {
    "collapsed": false
   },
   "outputs": [
    {
     "name": "stdout",
     "output_type": "stream",
     "text": [
      "[NbConvertApp] Converting notebook Jupyter_Slideshow.ipynb to slides\n",
      "[NbConvertApp] Writing 265538 bytes to Jupyter_Slideshow.slides.html\n",
      "[NbConvertApp] Redirecting reveal.js requests to https://cdnjs.cloudflare.com/ajax/libs/reveal.js/3.1.0\n",
      "Serving your slides at http://127.0.0.1:8000/Jupyter_Slideshow.slides.html\n",
      "Use Control-C to stop this server\n"
     ]
    }
   ],
   "source": [
    "!jupyter nbconvert --to slides Jupyter_Slideshow.ipynb --post serve"
   ]
  },
  {
   "cell_type": "code",
   "execution_count": null,
   "metadata": {
    "collapsed": true
   },
   "outputs": [],
   "source": []
  }
 ],
 "metadata": {
  "anaconda-cloud": {},
  "celltoolbar": "Slideshow",
  "kernelspec": {
   "display_name": "Python [default]",
   "language": "python",
   "name": "python2"
  },
  "language_info": {
   "codemirror_mode": {
    "name": "ipython",
    "version": 2
   },
   "file_extension": ".py",
   "mimetype": "text/x-python",
   "name": "python",
   "nbconvert_exporter": "python",
   "pygments_lexer": "ipython2",
   "version": "2.7.12"
  },
  "widgets": {
   "state": {},
   "version": "1.1.2"
  }
 },
 "nbformat": 4,
 "nbformat_minor": 0
}
